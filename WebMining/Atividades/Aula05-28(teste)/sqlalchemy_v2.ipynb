{
 "cells": [
  {
   "cell_type": "code",
   "execution_count": 16,
   "metadata": {},
   "outputs": [],
   "source": [
    "# from sqlalchemy import create_engine\n",
    "import sqlalchemy as db"
   ]
  },
  {
   "cell_type": "code",
   "execution_count": 17,
   "metadata": {},
   "outputs": [],
   "source": [
    "#Engine: Esse objeto atua como uma fonte central de conexões para um banco de dados específico\n",
    "# usaremos um banco de dados SQLite somente na memória. \n",
    "\n",
    "# Como localizamos o banco de dados? Nesse caso, nossa URL inclui a frase /:memory:, \n",
    "# que é um indicador para o sqlite3módulo de que usaremos um banco de dados somente na memória . \n",
    "# Este tipo de banco de dados é perfeito para experimentar, pois não requer nenhum servidor nem a \n",
    "# criação de novos arquivos.\n",
    "engine = db.create_engine(\"sqlite:///bancofilmes.db\", echo=True)\n",
    "# echo:para vermos o log sql"
   ]
  },
  {
   "cell_type": "code",
   "execution_count": 18,
   "metadata": {},
   "outputs": [],
   "source": [
    "conn = engine.connect() "
   ]
  },
  {
   "cell_type": "code",
   "execution_count": 85,
   "metadata": {},
   "outputs": [],
   "source": [
    "metadata = db.MetaData()"
   ]
  },
  {
   "cell_type": "code",
   "execution_count": 20,
   "metadata": {},
   "outputs": [
    {
     "name": "stdout",
     "output_type": "stream",
     "text": [
      "2023-05-25 16:38:18,110 INFO sqlalchemy.engine.Engine BEGIN (implicit)\n",
      "2023-05-25 16:38:18,115 INFO sqlalchemy.engine.Engine PRAGMA main.table_info(\"Filmes\")\n",
      "2023-05-25 16:38:18,119 INFO sqlalchemy.engine.Engine [raw sql] ()\n",
      "2023-05-25 16:38:18,131 INFO sqlalchemy.engine.Engine COMMIT\n"
     ]
    }
   ],
   "source": [
    "BDFilmes = db.Table('Filmes', metadata,\n",
    "              db.Column('Id', db.Integer(),primary_key=True),\n",
    "              db.Column('Name', db.String(255), nullable=False),\n",
    "              db.Column('Rating', db.Float()),\n",
    "              db.Column('Ano', db.Integer())\n",
    "              )\n",
    "metadata.create_all(engine) "
   ]
  },
  {
   "attachments": {},
   "cell_type": "markdown",
   "metadata": {},
   "source": [
    "# Fazendo operações no banco"
   ]
  },
  {
   "attachments": {},
   "cell_type": "markdown",
   "metadata": {},
   "source": [
    "Adicionando uma linha"
   ]
  },
  {
   "cell_type": "code",
   "execution_count": 22,
   "metadata": {},
   "outputs": [],
   "source": [
    "inserir = db.insert(BDFilmes).values(Id=1, Name='O homem que desafiou o diabo', Rating=4.5, Ano=2010)"
   ]
  },
  {
   "cell_type": "code",
   "execution_count": 24,
   "metadata": {},
   "outputs": [
    {
     "name": "stdout",
     "output_type": "stream",
     "text": [
      "2023-05-25 16:38:50,426 INFO sqlalchemy.engine.Engine INSERT INTO \"Filmes\" (\"Id\", \"Name\", \"Rating\", \"Ano\") VALUES (?, ?, ?, ?)\n",
      "2023-05-25 16:38:50,428 INFO sqlalchemy.engine.Engine [generated in 0.00226s] (1, 'O homem que desafiou o diabo', 4.5, 2010)\n",
      "2023-05-25 16:38:50,433 INFO sqlalchemy.engine.Engine COMMIT\n"
     ]
    }
   ],
   "source": [
    "resultado = conn.execute(inserir)"
   ]
  },
  {
   "cell_type": "code",
   "execution_count": 25,
   "metadata": {},
   "outputs": [
    {
     "name": "stdout",
     "output_type": "stream",
     "text": [
      "2023-05-25 16:39:19,578 INFO sqlalchemy.engine.Engine SELECT \"Filmes\".\"Id\", \"Filmes\".\"Name\", \"Filmes\".\"Rating\", \"Filmes\".\"Ano\" \n",
      "FROM \"Filmes\"\n",
      "2023-05-25 16:39:19,579 INFO sqlalchemy.engine.Engine [generated in 0.00176s] ()\n",
      "[(1, 'O homem que desafiou o diabo', 4.5, 2010)]\n"
     ]
    }
   ],
   "source": [
    "#olhando todas as linhas da tabela\n",
    "output = conn.execute(BDFilmes.select()).fetchall()\n",
    "print(output)"
   ]
  },
  {
   "attachments": {},
   "cell_type": "markdown",
   "metadata": {},
   "source": [
    "Adicionando várias linhas"
   ]
  },
  {
   "cell_type": "code",
   "execution_count": 26,
   "metadata": {},
   "outputs": [
    {
     "name": "stdout",
     "output_type": "stream",
     "text": [
      "2023-05-25 16:43:24,424 INFO sqlalchemy.engine.Engine INSERT INTO \"Filmes\" (\"Id\", \"Name\", \"Rating\", \"Ano\") VALUES (?, ?, ?, ?)\n",
      "2023-05-25 16:43:24,429 INFO sqlalchemy.engine.Engine [generated in 0.00662s] ((2, 'As Branquelas', 2.5, 2000), (3, 'Conexão Jamaica', 2.1, 2000))\n",
      "2023-05-25 16:43:24,442 INFO sqlalchemy.engine.Engine COMMIT\n"
     ]
    }
   ],
   "source": [
    "query = db.insert(BDFilmes)\n",
    "# lista com varias linhas com as chaves e valores a adicionar\n",
    "valores = [{'Id':2, 'Name':'As Branquelas', 'Rating':2.5, 'Ano':2000},\n",
    "           {'Id':3, 'Name':'Conexão Jamaica', 'Rating':2.1, 'Ano':2000}\n",
    "           ]\n",
    "resultado = conn.execute(query,valores)"
   ]
  },
  {
   "cell_type": "code",
   "execution_count": 27,
   "metadata": {},
   "outputs": [
    {
     "name": "stdout",
     "output_type": "stream",
     "text": [
      "2023-05-25 16:43:37,857 INFO sqlalchemy.engine.Engine SELECT \"Filmes\".\"Id\", \"Filmes\".\"Name\", \"Filmes\".\"Rating\", \"Filmes\".\"Ano\" \n",
      "FROM \"Filmes\"\n",
      "2023-05-25 16:43:37,860 INFO sqlalchemy.engine.Engine [cached since 258.3s ago] ()\n",
      "[(1, 'O homem que desafiou o diabo', 4.5, 2010), (2, 'As Branquelas', 2.5, 2000), (3, 'Conexão Jamaica', 2.1, 2000)]\n"
     ]
    }
   ],
   "source": [
    "output = conn.execute(db.select([BDFilmes])).fetchall()\n",
    "print(output)"
   ]
  },
  {
   "attachments": {},
   "cell_type": "markdown",
   "metadata": {},
   "source": [
    "## Realizando consultas"
   ]
  },
  {
   "cell_type": "code",
   "execution_count": 32,
   "metadata": {},
   "outputs": [
    {
     "name": "stdout",
     "output_type": "stream",
     "text": [
      "2023-05-25 16:49:49,341 INFO sqlalchemy.engine.Engine SELECT * FROM Filmes\n",
      "2023-05-25 16:49:49,343 INFO sqlalchemy.engine.Engine [raw sql] ()\n",
      "[(1, 'O homem que desafiou o diabo', 4.5, 2010), (2, 'As Branquelas', 2.5, 2000), (3, 'Conexão Jamaica', 2.1, 2000)]\n"
     ]
    }
   ],
   "source": [
    "# atencao, o nome da tabela é filmes, BDFilmes é apenas o objeto da tabela\n",
    "output = conn.execute('SELECT * FROM Filmes')\n",
    "print(output.fetchall())"
   ]
  },
  {
   "cell_type": "code",
   "execution_count": 33,
   "metadata": {},
   "outputs": [
    {
     "name": "stdout",
     "output_type": "stream",
     "text": [
      "2023-05-25 16:51:57,087 INFO sqlalchemy.engine.Engine SELECT Name, Rating FROM Filmes WHERE Ano = 2000\n",
      "2023-05-25 16:51:57,089 INFO sqlalchemy.engine.Engine [raw sql] ()\n",
      "[('As Branquelas', 2.5), ('Conexão Jamaica', 2.1)]\n"
     ]
    }
   ],
   "source": [
    "output = conn.execute(\"SELECT Name, Rating FROM Filmes WHERE Ano = 2000\")\n",
    "print(output.fetchall())"
   ]
  },
  {
   "attachments": {},
   "cell_type": "markdown",
   "metadata": {},
   "source": [
    "## Fazendo consultas diretamente com a API do SQLAlchemy"
   ]
  },
  {
   "cell_type": "code",
   "execution_count": 34,
   "metadata": {},
   "outputs": [
    {
     "name": "stdout",
     "output_type": "stream",
     "text": [
      "2023-05-25 16:55:33,616 INFO sqlalchemy.engine.Engine SELECT \"Filmes\".\"Id\", \"Filmes\".\"Name\", \"Filmes\".\"Rating\", \"Filmes\".\"Ano\" \n",
      "FROM \"Filmes\" \n",
      "WHERE \"Filmes\".\"Ano\" = ?\n",
      "2023-05-25 16:55:33,619 INFO sqlalchemy.engine.Engine [generated in 0.00272s] ('2000',)\n",
      "[(2, 'As Branquelas', 2.5, 2000), (3, 'Conexão Jamaica', 2.1, 2000)]\n"
     ]
    }
   ],
   "source": [
    "query = BDFilmes.select().where(BDFilmes.columns.Ano == '2000')\n",
    "output = conn.execute(query)\n",
    "print(output.fetchall())"
   ]
  },
  {
   "cell_type": "code",
   "execution_count": 45,
   "metadata": {},
   "outputs": [
    {
     "name": "stdout",
     "output_type": "stream",
     "text": [
      "2023-05-25 17:01:11,238 INFO sqlalchemy.engine.Engine SELECT \"Filmes\".\"Id\", \"Filmes\".\"Name\", \"Filmes\".\"Rating\", \"Filmes\".\"Ano\" \n",
      "FROM \"Filmes\" \n",
      "WHERE \"Filmes\".\"Ano\" = ? AND \"Filmes\".\"Rating\" <= ?\n",
      "2023-05-25 17:01:11,240 INFO sqlalchemy.engine.Engine [cached since 217.5s ago] ('2000', 2.3)\n",
      "[(3, 'Conexão Jamaica', 2.1, 2000)]\n"
     ]
    }
   ],
   "source": [
    "# a virgula entende-se como o AND\n",
    "query = BDFilmes.select().where(db.and_(BDFilmes.columns.Ano == '2000', BDFilmes.columns.Rating<=2.3))\n",
    "output = conn.execute(query)\n",
    "print(output.fetchall())"
   ]
  },
  {
   "cell_type": "code",
   "execution_count": null,
   "metadata": {},
   "outputs": [],
   "source": []
  },
  {
   "attachments": {},
   "cell_type": "markdown",
   "metadata": {},
   "source": [
    "## E se eu quiser usar o pandas?"
   ]
  },
  {
   "cell_type": "code",
   "execution_count": 46,
   "metadata": {},
   "outputs": [],
   "source": [
    "import pandas as pd"
   ]
  },
  {
   "cell_type": "code",
   "execution_count": 48,
   "metadata": {},
   "outputs": [
    {
     "name": "stdout",
     "output_type": "stream",
     "text": [
      "2023-05-25 17:02:36,451 INFO sqlalchemy.engine.Engine SELECT \"Filmes\".\"Id\", \"Filmes\".\"Name\", \"Filmes\".\"Rating\", \"Filmes\".\"Ano\" \n",
      "FROM \"Filmes\" \n",
      "WHERE \"Filmes\".\"Ano\" IN (?)\n",
      "2023-05-25 17:02:36,452 INFO sqlalchemy.engine.Engine [generated in 0.00221s] (2000,)\n"
     ]
    },
    {
     "data": {
      "text/plain": [
       "[(2, 'As Branquelas', 2.5, 2000), (3, 'Conexão Jamaica', 2.1, 2000)]"
      ]
     },
     "execution_count": 48,
     "metadata": {},
     "output_type": "execute_result"
    }
   ],
   "source": [
    "query = BDFilmes.select().where(BDFilmes.columns.Ano.in_([2000]))\n",
    "output = conn.execute(query)\n",
    "results = output.fetchall()\n",
    "results"
   ]
  },
  {
   "cell_type": "code",
   "execution_count": 50,
   "metadata": {},
   "outputs": [],
   "source": [
    "dados = pd.DataFrame(results)"
   ]
  },
  {
   "cell_type": "code",
   "execution_count": 51,
   "metadata": {},
   "outputs": [
    {
     "data": {
      "text/html": [
       "<div>\n",
       "<style scoped>\n",
       "    .dataframe tbody tr th:only-of-type {\n",
       "        vertical-align: middle;\n",
       "    }\n",
       "\n",
       "    .dataframe tbody tr th {\n",
       "        vertical-align: top;\n",
       "    }\n",
       "\n",
       "    .dataframe thead th {\n",
       "        text-align: right;\n",
       "    }\n",
       "</style>\n",
       "<table border=\"1\" class=\"dataframe\">\n",
       "  <thead>\n",
       "    <tr style=\"text-align: right;\">\n",
       "      <th></th>\n",
       "      <th>Id</th>\n",
       "      <th>Name</th>\n",
       "      <th>Rating</th>\n",
       "      <th>Ano</th>\n",
       "    </tr>\n",
       "  </thead>\n",
       "  <tbody>\n",
       "    <tr>\n",
       "      <th>0</th>\n",
       "      <td>2</td>\n",
       "      <td>As Branquelas</td>\n",
       "      <td>2.5</td>\n",
       "      <td>2000</td>\n",
       "    </tr>\n",
       "    <tr>\n",
       "      <th>1</th>\n",
       "      <td>3</td>\n",
       "      <td>Conexão Jamaica</td>\n",
       "      <td>2.1</td>\n",
       "      <td>2000</td>\n",
       "    </tr>\n",
       "  </tbody>\n",
       "</table>\n",
       "</div>"
      ],
      "text/plain": [
       "   Id             Name  Rating   Ano\n",
       "0   2    As Branquelas     2.5  2000\n",
       "1   3  Conexão Jamaica     2.1  2000"
      ]
     },
     "execution_count": 51,
     "metadata": {},
     "output_type": "execute_result"
    }
   ],
   "source": [
    "dados.columns = results[0].keys()\n",
    "dados"
   ]
  },
  {
   "cell_type": "code",
   "execution_count": 52,
   "metadata": {},
   "outputs": [],
   "source": [
    "# convertendo em csv\n",
    "dados.to_csv('bancofilmesv2.csv', index=False, sep=';')"
   ]
  },
  {
   "cell_type": "code",
   "execution_count": null,
   "metadata": {},
   "outputs": [],
   "source": []
  },
  {
   "attachments": {},
   "cell_type": "markdown",
   "metadata": {},
   "source": [
    "# Convertendo um dataframe para tabela sql!"
   ]
  },
  {
   "cell_type": "code",
   "execution_count": 53,
   "metadata": {},
   "outputs": [],
   "source": [
    "df = pd.read_csv('bancofilmesv2.csv', sep=';')"
   ]
  },
  {
   "cell_type": "code",
   "execution_count": 54,
   "metadata": {},
   "outputs": [
    {
     "name": "stdout",
     "output_type": "stream",
     "text": [
      "2023-05-25 17:13:40,299 INFO sqlalchemy.engine.Engine PRAGMA main.table_info(\"filmesv2\")\n",
      "2023-05-25 17:13:40,301 INFO sqlalchemy.engine.Engine [raw sql] ()\n",
      "2023-05-25 17:13:40,304 INFO sqlalchemy.engine.Engine PRAGMA temp.table_info(\"filmesv2\")\n",
      "2023-05-25 17:13:40,306 INFO sqlalchemy.engine.Engine [raw sql] ()\n",
      "2023-05-25 17:13:40,311 INFO sqlalchemy.engine.Engine BEGIN (implicit)\n",
      "2023-05-25 17:13:40,313 INFO sqlalchemy.engine.Engine \n",
      "CREATE TABLE filmesv2 (\n",
      "\t\"Id\" BIGINT, \n",
      "\t\"Name\" TEXT, \n",
      "\t\"Rating\" FLOAT, \n",
      "\t\"Ano\" BIGINT\n",
      ")\n",
      "\n",
      "\n",
      "2023-05-25 17:13:40,315 INFO sqlalchemy.engine.Engine [no key 0.00166s] ()\n",
      "2023-05-25 17:13:40,323 INFO sqlalchemy.engine.Engine COMMIT\n",
      "2023-05-25 17:13:40,328 INFO sqlalchemy.engine.Engine BEGIN (implicit)\n",
      "2023-05-25 17:13:40,330 INFO sqlalchemy.engine.Engine INSERT INTO filmesv2 (\"Id\", \"Name\", \"Rating\", \"Ano\") VALUES (?, ?, ?, ?)\n",
      "2023-05-25 17:13:40,332 INFO sqlalchemy.engine.Engine [generated in 0.00130s] ((2, 'As Branquelas', 2.5, 2000), (3, 'Conexão Jamaica', 2.1, 2000))\n",
      "2023-05-25 17:13:40,335 INFO sqlalchemy.engine.Engine COMMIT\n"
     ]
    }
   ],
   "source": [
    "df.to_sql(con=engine, name='filmesv2', if_exists='replace', index=False)"
   ]
  },
  {
   "cell_type": "code",
   "execution_count": 55,
   "metadata": {},
   "outputs": [
    {
     "name": "stdout",
     "output_type": "stream",
     "text": [
      "2023-05-25 17:15:03,111 INFO sqlalchemy.engine.Engine PRAGMA main.table_xinfo(\"filmesv2\")\n",
      "2023-05-25 17:15:03,114 INFO sqlalchemy.engine.Engine [raw sql] ()\n",
      "2023-05-25 17:15:03,118 INFO sqlalchemy.engine.Engine SELECT sql FROM  (SELECT * FROM sqlite_master UNION ALL   SELECT * FROM sqlite_temp_master) WHERE name = ? AND type = 'table'\n",
      "2023-05-25 17:15:03,121 INFO sqlalchemy.engine.Engine [raw sql] ('filmesv2',)\n",
      "2023-05-25 17:15:03,124 INFO sqlalchemy.engine.Engine PRAGMA main.foreign_key_list(\"filmesv2\")\n",
      "2023-05-25 17:15:03,126 INFO sqlalchemy.engine.Engine [raw sql] ()\n",
      "2023-05-25 17:15:03,127 INFO sqlalchemy.engine.Engine PRAGMA temp.foreign_key_list(\"filmesv2\")\n",
      "2023-05-25 17:15:03,129 INFO sqlalchemy.engine.Engine [raw sql] ()\n",
      "2023-05-25 17:15:03,130 INFO sqlalchemy.engine.Engine SELECT sql FROM  (SELECT * FROM sqlite_master UNION ALL   SELECT * FROM sqlite_temp_master) WHERE name = ? AND type = 'table'\n",
      "2023-05-25 17:15:03,131 INFO sqlalchemy.engine.Engine [raw sql] ('filmesv2',)\n",
      "2023-05-25 17:15:03,137 INFO sqlalchemy.engine.Engine PRAGMA main.index_list(\"filmesv2\")\n",
      "2023-05-25 17:15:03,138 INFO sqlalchemy.engine.Engine [raw sql] ()\n",
      "2023-05-25 17:15:03,140 INFO sqlalchemy.engine.Engine PRAGMA temp.index_list(\"filmesv2\")\n",
      "2023-05-25 17:15:03,141 INFO sqlalchemy.engine.Engine [raw sql] ()\n",
      "2023-05-25 17:15:03,142 INFO sqlalchemy.engine.Engine PRAGMA main.index_list(\"filmesv2\")\n",
      "2023-05-25 17:15:03,143 INFO sqlalchemy.engine.Engine [raw sql] ()\n",
      "2023-05-25 17:15:03,145 INFO sqlalchemy.engine.Engine PRAGMA temp.index_list(\"filmesv2\")\n",
      "2023-05-25 17:15:03,147 INFO sqlalchemy.engine.Engine [raw sql] ()\n",
      "2023-05-25 17:15:03,148 INFO sqlalchemy.engine.Engine SELECT sql FROM  (SELECT * FROM sqlite_master UNION ALL   SELECT * FROM sqlite_temp_master) WHERE name = ? AND type = 'table'\n",
      "2023-05-25 17:15:03,149 INFO sqlalchemy.engine.Engine [raw sql] ('filmesv2',)\n"
     ]
    }
   ],
   "source": [
    "conn2 = engine.connect()\n",
    "metadata2 = db.MetaData()\n",
    "bdfilmes2 = db.Table('filmesv2', metadata2, autoload=True, autoload_with=engine)"
   ]
  },
  {
   "cell_type": "code",
   "execution_count": 56,
   "metadata": {},
   "outputs": [
    {
     "name": "stdout",
     "output_type": "stream",
     "text": [
      "2023-05-25 17:15:49,763 INFO sqlalchemy.engine.Engine SELECT filmesv2.\"Id\", filmesv2.\"Name\", filmesv2.\"Rating\", filmesv2.\"Ano\" \n",
      "FROM filmesv2\n",
      "2023-05-25 17:15:49,765 INFO sqlalchemy.engine.Engine [generated in 0.00170s] ()\n",
      "(2, 'As Branquelas', 2.5, 2000)\n",
      "(3, 'Conexão Jamaica', 2.1, 2000)\n"
     ]
    }
   ],
   "source": [
    "query = bdfilmes2.select()\n",
    "exe = conn.execute(query)\n",
    "result = exe.fetchmany(5)\n",
    "for r in result:\n",
    "    print(r)"
   ]
  },
  {
   "cell_type": "code",
   "execution_count": 57,
   "metadata": {},
   "outputs": [
    {
     "name": "stdout",
     "output_type": "stream",
     "text": [
      "2023-05-25 17:17:11,549 INFO sqlalchemy.engine.Engine BEGIN (implicit)\n",
      "2023-05-25 17:17:11,551 INFO sqlalchemy.engine.Engine PRAGMA main.table_info(\"filmesv2\")\n",
      "2023-05-25 17:17:11,553 INFO sqlalchemy.engine.Engine [raw sql] ()\n",
      "2023-05-25 17:17:11,556 INFO sqlalchemy.engine.Engine COMMIT\n"
     ]
    }
   ],
   "source": [
    "metadata2.create_all(engine) "
   ]
  },
  {
   "cell_type": "code",
   "execution_count": null,
   "metadata": {},
   "outputs": [],
   "source": []
  },
  {
   "cell_type": "code",
   "execution_count": null,
   "metadata": {},
   "outputs": [],
   "source": []
  },
  {
   "attachments": {},
   "cell_type": "markdown",
   "metadata": {},
   "source": [
    "# Ultima forma de criar um banco"
   ]
  },
  {
   "cell_type": "code",
   "execution_count": 105,
   "metadata": {},
   "outputs": [],
   "source": [
    "from sqlalchemy import create_engine, ForeignKey\n",
    "from sqlalchemy import Column, Date, Integer, String\n",
    "from sqlalchemy.ext.declarative import declarative_base\n"
   ]
  },
  {
   "cell_type": "code",
   "execution_count": 121,
   "metadata": {},
   "outputs": [],
   "source": [
    "engine = db.create_engine(\"sqlite:///..//impacta.db\", echo=True)"
   ]
  },
  {
   "cell_type": "code",
   "execution_count": 122,
   "metadata": {},
   "outputs": [],
   "source": [
    "conn = engine.connect() "
   ]
  },
  {
   "cell_type": "code",
   "execution_count": 123,
   "metadata": {},
   "outputs": [
    {
     "name": "stdout",
     "output_type": "stream",
     "text": [
      "2023-05-25 18:28:18,042 INFO sqlalchemy.engine.Engine BEGIN (implicit)\n",
      "2023-05-25 18:28:18,047 INFO sqlalchemy.engine.Engine PRAGMA main.table_info(\"impacta\")\n",
      "2023-05-25 18:28:18,049 INFO sqlalchemy.engine.Engine [raw sql] ()\n",
      "2023-05-25 18:28:18,057 INFO sqlalchemy.engine.Engine COMMIT\n"
     ]
    }
   ],
   "source": [
    "Base = declarative_base()\n",
    "\n",
    "\n",
    "class School(Base):\n",
    "\n",
    "    __tablename__ = \"impacta\"\n",
    "\n",
    "    id = Column(Integer, primary_key=True)\n",
    "    name = Column(String)  \n",
    "\n",
    "    def __init__(self, name):\n",
    "\n",
    "        self.name = name    \n",
    "\n",
    "\n",
    "Base.metadata.create_all(engine)"
   ]
  },
  {
   "cell_type": "code",
   "execution_count": 127,
   "metadata": {},
   "outputs": [
    {
     "name": "stdout",
     "output_type": "stream",
     "text": [
      "2023-05-25 18:30:48,692 INFO sqlalchemy.engine.Engine INSERT INTO impacta (id, name) VALUES (?, ?)\n",
      "2023-05-25 18:30:48,694 INFO sqlalchemy.engine.Engine [generated in 0.00213s] ((1, 'Bruno'), (2, 'Alfredo'))\n",
      "2023-05-25 18:30:48,736 INFO sqlalchemy.engine.Engine COMMIT\n"
     ]
    }
   ],
   "source": [
    "impacta2 = db.Table('impacta', metadata, autoload=True, autoload_with=engine)\n",
    "query = db.insert(impacta2)\n",
    "# lista com varias linhas com as chaves e valores a adicionar\n",
    "valores = [{'id':1, 'name':'Bruno'},\n",
    "           {'id':2, 'name':'Alfredo'}\n",
    "           ]\n",
    "resultado = conn.execute(query,valores)"
   ]
  },
  {
   "cell_type": "code",
   "execution_count": 128,
   "metadata": {},
   "outputs": [
    {
     "name": "stdout",
     "output_type": "stream",
     "text": [
      "2023-05-25 18:30:51,578 INFO sqlalchemy.engine.Engine UPDATE impacta SET id=? WHERE impacta.name = ?\n",
      "2023-05-25 18:30:51,580 INFO sqlalchemy.engine.Engine [cached since 152.5s ago] (2, 'Bruno')\n",
      "2023-05-25 18:30:51,584 INFO sqlalchemy.engine.Engine ROLLBACK\n"
     ]
    },
    {
     "ename": "IntegrityError",
     "evalue": "(sqlite3.IntegrityError) UNIQUE constraint failed: impacta.id\n[SQL: UPDATE impacta SET id=? WHERE impacta.name = ?]\n[parameters: (2, 'Bruno')]\n(Background on this error at: https://sqlalche.me/e/14/gkpj)",
     "output_type": "error",
     "traceback": [
      "\u001b[1;31m---------------------------------------------------------------------------\u001b[0m",
      "\u001b[1;31mIntegrityError\u001b[0m                            Traceback (most recent call last)",
      "\u001b[1;32mc:\\Users\\bruno\\AppData\\Local\\Programs\\Python\\Python39\\lib\\site-packages\\sqlalchemy\\engine\\base.py\u001b[0m in \u001b[0;36m_execute_context\u001b[1;34m(self, dialect, constructor, statement, parameters, execution_options, *args, **kw)\u001b[0m\n\u001b[0;32m   1899\u001b[0m                 \u001b[1;32mif\u001b[0m \u001b[1;32mnot\u001b[0m \u001b[0mevt_handled\u001b[0m\u001b[1;33m:\u001b[0m\u001b[1;33m\u001b[0m\u001b[1;33m\u001b[0m\u001b[0m\n\u001b[1;32m-> 1900\u001b[1;33m                     self.dialect.do_execute(\n\u001b[0m\u001b[0;32m   1901\u001b[0m                         \u001b[0mcursor\u001b[0m\u001b[1;33m,\u001b[0m \u001b[0mstatement\u001b[0m\u001b[1;33m,\u001b[0m \u001b[0mparameters\u001b[0m\u001b[1;33m,\u001b[0m \u001b[0mcontext\u001b[0m\u001b[1;33m\u001b[0m\u001b[1;33m\u001b[0m\u001b[0m\n",
      "\u001b[1;32mc:\\Users\\bruno\\AppData\\Local\\Programs\\Python\\Python39\\lib\\site-packages\\sqlalchemy\\engine\\default.py\u001b[0m in \u001b[0;36mdo_execute\u001b[1;34m(self, cursor, statement, parameters, context)\u001b[0m\n\u001b[0;32m    735\u001b[0m     \u001b[1;32mdef\u001b[0m \u001b[0mdo_execute\u001b[0m\u001b[1;33m(\u001b[0m\u001b[0mself\u001b[0m\u001b[1;33m,\u001b[0m \u001b[0mcursor\u001b[0m\u001b[1;33m,\u001b[0m \u001b[0mstatement\u001b[0m\u001b[1;33m,\u001b[0m \u001b[0mparameters\u001b[0m\u001b[1;33m,\u001b[0m \u001b[0mcontext\u001b[0m\u001b[1;33m=\u001b[0m\u001b[1;32mNone\u001b[0m\u001b[1;33m)\u001b[0m\u001b[1;33m:\u001b[0m\u001b[1;33m\u001b[0m\u001b[1;33m\u001b[0m\u001b[0m\n\u001b[1;32m--> 736\u001b[1;33m         \u001b[0mcursor\u001b[0m\u001b[1;33m.\u001b[0m\u001b[0mexecute\u001b[0m\u001b[1;33m(\u001b[0m\u001b[0mstatement\u001b[0m\u001b[1;33m,\u001b[0m \u001b[0mparameters\u001b[0m\u001b[1;33m)\u001b[0m\u001b[1;33m\u001b[0m\u001b[1;33m\u001b[0m\u001b[0m\n\u001b[0m\u001b[0;32m    737\u001b[0m \u001b[1;33m\u001b[0m\u001b[0m\n",
      "\u001b[1;31mIntegrityError\u001b[0m: UNIQUE constraint failed: impacta.id",
      "\nThe above exception was the direct cause of the following exception:\n",
      "\u001b[1;31mIntegrityError\u001b[0m                            Traceback (most recent call last)",
      "\u001b[1;32m~\\AppData\\Local\\Temp/ipykernel_10136/850709419.py\u001b[0m in \u001b[0;36m<module>\u001b[1;34m\u001b[0m\n\u001b[0;32m      1\u001b[0m \u001b[0mquery\u001b[0m \u001b[1;33m=\u001b[0m \u001b[0mimpacta2\u001b[0m\u001b[1;33m.\u001b[0m\u001b[0mupdate\u001b[0m\u001b[1;33m(\u001b[0m\u001b[1;33m)\u001b[0m\u001b[1;33m.\u001b[0m\u001b[0mvalues\u001b[0m\u001b[1;33m(\u001b[0m\u001b[0mid\u001b[0m \u001b[1;33m=\u001b[0m \u001b[1;36m2\u001b[0m\u001b[1;33m)\u001b[0m\u001b[1;33m.\u001b[0m\u001b[0mwhere\u001b[0m\u001b[1;33m(\u001b[0m\u001b[0mimpacta2\u001b[0m\u001b[1;33m.\u001b[0m\u001b[0mcolumns\u001b[0m\u001b[1;33m.\u001b[0m\u001b[0mname\u001b[0m \u001b[1;33m==\u001b[0m \u001b[1;34m\"Bruno\"\u001b[0m\u001b[1;33m)\u001b[0m\u001b[1;33m\u001b[0m\u001b[1;33m\u001b[0m\u001b[0m\n\u001b[1;32m----> 2\u001b[1;33m \u001b[0mresults\u001b[0m \u001b[1;33m=\u001b[0m \u001b[0mconn\u001b[0m\u001b[1;33m.\u001b[0m\u001b[0mexecute\u001b[0m\u001b[1;33m(\u001b[0m\u001b[0mquery\u001b[0m\u001b[1;33m)\u001b[0m\u001b[1;33m\u001b[0m\u001b[1;33m\u001b[0m\u001b[0m\n\u001b[0m",
      "\u001b[1;32mc:\\Users\\bruno\\AppData\\Local\\Programs\\Python\\Python39\\lib\\site-packages\\sqlalchemy\\engine\\base.py\u001b[0m in \u001b[0;36mexecute\u001b[1;34m(self, statement, *multiparams, **params)\u001b[0m\n\u001b[0;32m   1378\u001b[0m             )\n\u001b[0;32m   1379\u001b[0m         \u001b[1;32melse\u001b[0m\u001b[1;33m:\u001b[0m\u001b[1;33m\u001b[0m\u001b[1;33m\u001b[0m\u001b[0m\n\u001b[1;32m-> 1380\u001b[1;33m             \u001b[1;32mreturn\u001b[0m \u001b[0mmeth\u001b[0m\u001b[1;33m(\u001b[0m\u001b[0mself\u001b[0m\u001b[1;33m,\u001b[0m \u001b[0mmultiparams\u001b[0m\u001b[1;33m,\u001b[0m \u001b[0mparams\u001b[0m\u001b[1;33m,\u001b[0m \u001b[0m_EMPTY_EXECUTION_OPTS\u001b[0m\u001b[1;33m)\u001b[0m\u001b[1;33m\u001b[0m\u001b[1;33m\u001b[0m\u001b[0m\n\u001b[0m\u001b[0;32m   1381\u001b[0m \u001b[1;33m\u001b[0m\u001b[0m\n\u001b[0;32m   1382\u001b[0m     \u001b[1;32mdef\u001b[0m \u001b[0m_execute_function\u001b[0m\u001b[1;33m(\u001b[0m\u001b[0mself\u001b[0m\u001b[1;33m,\u001b[0m \u001b[0mfunc\u001b[0m\u001b[1;33m,\u001b[0m \u001b[0mmultiparams\u001b[0m\u001b[1;33m,\u001b[0m \u001b[0mparams\u001b[0m\u001b[1;33m,\u001b[0m \u001b[0mexecution_options\u001b[0m\u001b[1;33m)\u001b[0m\u001b[1;33m:\u001b[0m\u001b[1;33m\u001b[0m\u001b[1;33m\u001b[0m\u001b[0m\n",
      "\u001b[1;32mc:\\Users\\bruno\\AppData\\Local\\Programs\\Python\\Python39\\lib\\site-packages\\sqlalchemy\\sql\\elements.py\u001b[0m in \u001b[0;36m_execute_on_connection\u001b[1;34m(self, connection, multiparams, params, execution_options, _force)\u001b[0m\n\u001b[0;32m    332\u001b[0m     ):\n\u001b[0;32m    333\u001b[0m         \u001b[1;32mif\u001b[0m \u001b[0m_force\u001b[0m \u001b[1;32mor\u001b[0m \u001b[0mself\u001b[0m\u001b[1;33m.\u001b[0m\u001b[0msupports_execution\u001b[0m\u001b[1;33m:\u001b[0m\u001b[1;33m\u001b[0m\u001b[1;33m\u001b[0m\u001b[0m\n\u001b[1;32m--> 334\u001b[1;33m             return connection._execute_clauseelement(\n\u001b[0m\u001b[0;32m    335\u001b[0m                 \u001b[0mself\u001b[0m\u001b[1;33m,\u001b[0m \u001b[0mmultiparams\u001b[0m\u001b[1;33m,\u001b[0m \u001b[0mparams\u001b[0m\u001b[1;33m,\u001b[0m \u001b[0mexecution_options\u001b[0m\u001b[1;33m\u001b[0m\u001b[1;33m\u001b[0m\u001b[0m\n\u001b[0;32m    336\u001b[0m             )\n",
      "\u001b[1;32mc:\\Users\\bruno\\AppData\\Local\\Programs\\Python\\Python39\\lib\\site-packages\\sqlalchemy\\engine\\base.py\u001b[0m in \u001b[0;36m_execute_clauseelement\u001b[1;34m(self, elem, multiparams, params, execution_options)\u001b[0m\n\u001b[0;32m   1570\u001b[0m             \u001b[0mlinting\u001b[0m\u001b[1;33m=\u001b[0m\u001b[0mself\u001b[0m\u001b[1;33m.\u001b[0m\u001b[0mdialect\u001b[0m\u001b[1;33m.\u001b[0m\u001b[0mcompiler_linting\u001b[0m \u001b[1;33m|\u001b[0m \u001b[0mcompiler\u001b[0m\u001b[1;33m.\u001b[0m\u001b[0mWARN_LINTING\u001b[0m\u001b[1;33m,\u001b[0m\u001b[1;33m\u001b[0m\u001b[1;33m\u001b[0m\u001b[0m\n\u001b[0;32m   1571\u001b[0m         )\n\u001b[1;32m-> 1572\u001b[1;33m         ret = self._execute_context(\n\u001b[0m\u001b[0;32m   1573\u001b[0m             \u001b[0mdialect\u001b[0m\u001b[1;33m,\u001b[0m\u001b[1;33m\u001b[0m\u001b[1;33m\u001b[0m\u001b[0m\n\u001b[0;32m   1574\u001b[0m             \u001b[0mdialect\u001b[0m\u001b[1;33m.\u001b[0m\u001b[0mexecution_ctx_cls\u001b[0m\u001b[1;33m.\u001b[0m\u001b[0m_init_compiled\u001b[0m\u001b[1;33m,\u001b[0m\u001b[1;33m\u001b[0m\u001b[1;33m\u001b[0m\u001b[0m\n",
      "\u001b[1;32mc:\\Users\\bruno\\AppData\\Local\\Programs\\Python\\Python39\\lib\\site-packages\\sqlalchemy\\engine\\base.py\u001b[0m in \u001b[0;36m_execute_context\u001b[1;34m(self, dialect, constructor, statement, parameters, execution_options, *args, **kw)\u001b[0m\n\u001b[0;32m   1941\u001b[0m \u001b[1;33m\u001b[0m\u001b[0m\n\u001b[0;32m   1942\u001b[0m         \u001b[1;32mexcept\u001b[0m \u001b[0mBaseException\u001b[0m \u001b[1;32mas\u001b[0m \u001b[0me\u001b[0m\u001b[1;33m:\u001b[0m\u001b[1;33m\u001b[0m\u001b[1;33m\u001b[0m\u001b[0m\n\u001b[1;32m-> 1943\u001b[1;33m             self._handle_dbapi_exception(\n\u001b[0m\u001b[0;32m   1944\u001b[0m                 \u001b[0me\u001b[0m\u001b[1;33m,\u001b[0m \u001b[0mstatement\u001b[0m\u001b[1;33m,\u001b[0m \u001b[0mparameters\u001b[0m\u001b[1;33m,\u001b[0m \u001b[0mcursor\u001b[0m\u001b[1;33m,\u001b[0m \u001b[0mcontext\u001b[0m\u001b[1;33m\u001b[0m\u001b[1;33m\u001b[0m\u001b[0m\n\u001b[0;32m   1945\u001b[0m             )\n",
      "\u001b[1;32mc:\\Users\\bruno\\AppData\\Local\\Programs\\Python\\Python39\\lib\\site-packages\\sqlalchemy\\engine\\base.py\u001b[0m in \u001b[0;36m_handle_dbapi_exception\u001b[1;34m(self, e, statement, parameters, cursor, context)\u001b[0m\n\u001b[0;32m   2122\u001b[0m                 \u001b[0mutil\u001b[0m\u001b[1;33m.\u001b[0m\u001b[0mraise_\u001b[0m\u001b[1;33m(\u001b[0m\u001b[0mnewraise\u001b[0m\u001b[1;33m,\u001b[0m \u001b[0mwith_traceback\u001b[0m\u001b[1;33m=\u001b[0m\u001b[0mexc_info\u001b[0m\u001b[1;33m[\u001b[0m\u001b[1;36m2\u001b[0m\u001b[1;33m]\u001b[0m\u001b[1;33m,\u001b[0m \u001b[0mfrom_\u001b[0m\u001b[1;33m=\u001b[0m\u001b[0me\u001b[0m\u001b[1;33m)\u001b[0m\u001b[1;33m\u001b[0m\u001b[1;33m\u001b[0m\u001b[0m\n\u001b[0;32m   2123\u001b[0m             \u001b[1;32melif\u001b[0m \u001b[0mshould_wrap\u001b[0m\u001b[1;33m:\u001b[0m\u001b[1;33m\u001b[0m\u001b[1;33m\u001b[0m\u001b[0m\n\u001b[1;32m-> 2124\u001b[1;33m                 util.raise_(\n\u001b[0m\u001b[0;32m   2125\u001b[0m                     \u001b[0msqlalchemy_exception\u001b[0m\u001b[1;33m,\u001b[0m \u001b[0mwith_traceback\u001b[0m\u001b[1;33m=\u001b[0m\u001b[0mexc_info\u001b[0m\u001b[1;33m[\u001b[0m\u001b[1;36m2\u001b[0m\u001b[1;33m]\u001b[0m\u001b[1;33m,\u001b[0m \u001b[0mfrom_\u001b[0m\u001b[1;33m=\u001b[0m\u001b[0me\u001b[0m\u001b[1;33m\u001b[0m\u001b[1;33m\u001b[0m\u001b[0m\n\u001b[0;32m   2126\u001b[0m                 )\n",
      "\u001b[1;32mc:\\Users\\bruno\\AppData\\Local\\Programs\\Python\\Python39\\lib\\site-packages\\sqlalchemy\\util\\compat.py\u001b[0m in \u001b[0;36mraise_\u001b[1;34m(***failed resolving arguments***)\u001b[0m\n\u001b[0;32m    208\u001b[0m \u001b[1;33m\u001b[0m\u001b[0m\n\u001b[0;32m    209\u001b[0m         \u001b[1;32mtry\u001b[0m\u001b[1;33m:\u001b[0m\u001b[1;33m\u001b[0m\u001b[1;33m\u001b[0m\u001b[0m\n\u001b[1;32m--> 210\u001b[1;33m             \u001b[1;32mraise\u001b[0m \u001b[0mexception\u001b[0m\u001b[1;33m\u001b[0m\u001b[1;33m\u001b[0m\u001b[0m\n\u001b[0m\u001b[0;32m    211\u001b[0m         \u001b[1;32mfinally\u001b[0m\u001b[1;33m:\u001b[0m\u001b[1;33m\u001b[0m\u001b[1;33m\u001b[0m\u001b[0m\n\u001b[0;32m    212\u001b[0m             \u001b[1;31m# credit to\u001b[0m\u001b[1;33m\u001b[0m\u001b[1;33m\u001b[0m\u001b[1;33m\u001b[0m\u001b[0m\n",
      "\u001b[1;32mc:\\Users\\bruno\\AppData\\Local\\Programs\\Python\\Python39\\lib\\site-packages\\sqlalchemy\\engine\\base.py\u001b[0m in \u001b[0;36m_execute_context\u001b[1;34m(self, dialect, constructor, statement, parameters, execution_options, *args, **kw)\u001b[0m\n\u001b[0;32m   1898\u001b[0m                             \u001b[1;32mbreak\u001b[0m\u001b[1;33m\u001b[0m\u001b[1;33m\u001b[0m\u001b[0m\n\u001b[0;32m   1899\u001b[0m                 \u001b[1;32mif\u001b[0m \u001b[1;32mnot\u001b[0m \u001b[0mevt_handled\u001b[0m\u001b[1;33m:\u001b[0m\u001b[1;33m\u001b[0m\u001b[1;33m\u001b[0m\u001b[0m\n\u001b[1;32m-> 1900\u001b[1;33m                     self.dialect.do_execute(\n\u001b[0m\u001b[0;32m   1901\u001b[0m                         \u001b[0mcursor\u001b[0m\u001b[1;33m,\u001b[0m \u001b[0mstatement\u001b[0m\u001b[1;33m,\u001b[0m \u001b[0mparameters\u001b[0m\u001b[1;33m,\u001b[0m \u001b[0mcontext\u001b[0m\u001b[1;33m\u001b[0m\u001b[1;33m\u001b[0m\u001b[0m\n\u001b[0;32m   1902\u001b[0m                     )\n",
      "\u001b[1;32mc:\\Users\\bruno\\AppData\\Local\\Programs\\Python\\Python39\\lib\\site-packages\\sqlalchemy\\engine\\default.py\u001b[0m in \u001b[0;36mdo_execute\u001b[1;34m(self, cursor, statement, parameters, context)\u001b[0m\n\u001b[0;32m    734\u001b[0m \u001b[1;33m\u001b[0m\u001b[0m\n\u001b[0;32m    735\u001b[0m     \u001b[1;32mdef\u001b[0m \u001b[0mdo_execute\u001b[0m\u001b[1;33m(\u001b[0m\u001b[0mself\u001b[0m\u001b[1;33m,\u001b[0m \u001b[0mcursor\u001b[0m\u001b[1;33m,\u001b[0m \u001b[0mstatement\u001b[0m\u001b[1;33m,\u001b[0m \u001b[0mparameters\u001b[0m\u001b[1;33m,\u001b[0m \u001b[0mcontext\u001b[0m\u001b[1;33m=\u001b[0m\u001b[1;32mNone\u001b[0m\u001b[1;33m)\u001b[0m\u001b[1;33m:\u001b[0m\u001b[1;33m\u001b[0m\u001b[1;33m\u001b[0m\u001b[0m\n\u001b[1;32m--> 736\u001b[1;33m         \u001b[0mcursor\u001b[0m\u001b[1;33m.\u001b[0m\u001b[0mexecute\u001b[0m\u001b[1;33m(\u001b[0m\u001b[0mstatement\u001b[0m\u001b[1;33m,\u001b[0m \u001b[0mparameters\u001b[0m\u001b[1;33m)\u001b[0m\u001b[1;33m\u001b[0m\u001b[1;33m\u001b[0m\u001b[0m\n\u001b[0m\u001b[0;32m    737\u001b[0m \u001b[1;33m\u001b[0m\u001b[0m\n\u001b[0;32m    738\u001b[0m     \u001b[1;32mdef\u001b[0m \u001b[0mdo_execute_no_params\u001b[0m\u001b[1;33m(\u001b[0m\u001b[0mself\u001b[0m\u001b[1;33m,\u001b[0m \u001b[0mcursor\u001b[0m\u001b[1;33m,\u001b[0m \u001b[0mstatement\u001b[0m\u001b[1;33m,\u001b[0m \u001b[0mcontext\u001b[0m\u001b[1;33m=\u001b[0m\u001b[1;32mNone\u001b[0m\u001b[1;33m)\u001b[0m\u001b[1;33m:\u001b[0m\u001b[1;33m\u001b[0m\u001b[1;33m\u001b[0m\u001b[0m\n",
      "\u001b[1;31mIntegrityError\u001b[0m: (sqlite3.IntegrityError) UNIQUE constraint failed: impacta.id\n[SQL: UPDATE impacta SET id=? WHERE impacta.name = ?]\n[parameters: (2, 'Bruno')]\n(Background on this error at: https://sqlalche.me/e/14/gkpj)"
     ]
    }
   ],
   "source": [
    "\n",
    "query = impacta2.update().values(id = 2).where(impacta2.columns.name == \"Bruno\")\n",
    "results = conn.execute(query)"
   ]
  },
  {
   "cell_type": "code",
   "execution_count": 130,
   "metadata": {},
   "outputs": [
    {
     "name": "stdout",
     "output_type": "stream",
     "text": [
      "2023-05-25 18:30:55,432 INFO sqlalchemy.engine.Engine SELECT impacta.id, impacta.name \n",
      "FROM impacta\n",
      "2023-05-25 18:30:55,435 INFO sqlalchemy.engine.Engine [cached since 155.6s ago] ()\n"
     ]
    },
    {
     "data": {
      "text/html": [
       "<div>\n",
       "<style scoped>\n",
       "    .dataframe tbody tr th:only-of-type {\n",
       "        vertical-align: middle;\n",
       "    }\n",
       "\n",
       "    .dataframe tbody tr th {\n",
       "        vertical-align: top;\n",
       "    }\n",
       "\n",
       "    .dataframe thead th {\n",
       "        text-align: right;\n",
       "    }\n",
       "</style>\n",
       "<table border=\"1\" class=\"dataframe\">\n",
       "  <thead>\n",
       "    <tr style=\"text-align: right;\">\n",
       "      <th></th>\n",
       "      <th>id</th>\n",
       "      <th>name</th>\n",
       "    </tr>\n",
       "  </thead>\n",
       "  <tbody>\n",
       "    <tr>\n",
       "      <th>0</th>\n",
       "      <td>1</td>\n",
       "      <td>Bruno</td>\n",
       "    </tr>\n",
       "    <tr>\n",
       "      <th>1</th>\n",
       "      <td>2</td>\n",
       "      <td>Alfredo</td>\n",
       "    </tr>\n",
       "  </tbody>\n",
       "</table>\n",
       "</div>"
      ],
      "text/plain": [
       "   id     name\n",
       "0   1    Bruno\n",
       "1   2  Alfredo"
      ]
     },
     "execution_count": 130,
     "metadata": {},
     "output_type": "execute_result"
    }
   ],
   "source": [
    "output = conn.execute(impacta2.select()).fetchall()\n",
    "data = pd.DataFrame(output)\n",
    "data.columns = output[0].keys()\n",
    "data"
   ]
  },
  {
   "cell_type": "code",
   "execution_count": 131,
   "metadata": {},
   "outputs": [
    {
     "name": "stdout",
     "output_type": "stream",
     "text": [
      "2023-05-25 18:30:59,821 INFO sqlalchemy.engine.Engine SELECT * FROM impacta\n",
      "2023-05-25 18:30:59,825 INFO sqlalchemy.engine.Engine [raw sql] ()\n",
      "[(1, 'Bruno'), (2, 'Alfredo')]\n"
     ]
    }
   ],
   "source": [
    "output = conn.execute('SELECT * FROM impacta')\n",
    "print(output.fetchall())"
   ]
  },
  {
   "cell_type": "code",
   "execution_count": null,
   "metadata": {},
   "outputs": [],
   "source": []
  }
 ],
 "metadata": {
  "kernelspec": {
   "display_name": "Python 3",
   "language": "python",
   "name": "python3"
  },
  "language_info": {
   "codemirror_mode": {
    "name": "ipython",
    "version": 3
   },
   "file_extension": ".py",
   "mimetype": "text/x-python",
   "name": "python",
   "nbconvert_exporter": "python",
   "pygments_lexer": "ipython3",
   "version": "3.9.0"
  },
  "orig_nbformat": 4
 },
 "nbformat": 4,
 "nbformat_minor": 2
}
