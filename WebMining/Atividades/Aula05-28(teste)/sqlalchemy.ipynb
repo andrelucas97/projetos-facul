{
 "cells": [
  {
   "cell_type": "code",
   "execution_count": 1,
   "metadata": {},
   "outputs": [],
   "source": [
    "import sqlalchemy as db"
   ]
  },
  {
   "cell_type": "code",
   "execution_count": 2,
   "metadata": {},
   "outputs": [],
   "source": [
    "engine = db.create_engine(\"sqlite:///bancofilmes.db\", echo=True)"
   ]
  },
  {
   "cell_type": "code",
   "execution_count": 3,
   "metadata": {},
   "outputs": [],
   "source": [
    "conn = engine.connect() "
   ]
  },
  {
   "cell_type": "code",
   "execution_count": 4,
   "metadata": {},
   "outputs": [],
   "source": [
    "metadata = db.MetaData()"
   ]
  },
  {
   "cell_type": "code",
   "execution_count": 5,
   "metadata": {},
   "outputs": [
    {
     "name": "stdout",
     "output_type": "stream",
     "text": [
      "2023-05-25 19:43:14,927 INFO sqlalchemy.engine.Engine BEGIN (implicit)\n",
      "2023-05-25 19:43:14,928 INFO sqlalchemy.engine.Engine PRAGMA main.table_info(\"Filmes\")\n",
      "2023-05-25 19:43:14,929 INFO sqlalchemy.engine.Engine [raw sql] ()\n",
      "2023-05-25 19:43:14,934 INFO sqlalchemy.engine.Engine PRAGMA temp.table_info(\"Filmes\")\n",
      "2023-05-25 19:43:14,935 INFO sqlalchemy.engine.Engine [raw sql] ()\n",
      "2023-05-25 19:43:14,936 INFO sqlalchemy.engine.Engine \n",
      "CREATE TABLE \"Filmes\" (\n",
      "\t\"Id\" INTEGER NOT NULL, \n",
      "\t\"Name\" VARCHAR(255) NOT NULL, \n",
      "\t\"Rating\" FLOAT, \n",
      "\t\"Ano\" INTEGER, \n",
      "\tPRIMARY KEY (\"Id\")\n",
      ")\n",
      "\n",
      "\n",
      "2023-05-25 19:43:14,937 INFO sqlalchemy.engine.Engine [no key 0.00106s] ()\n",
      "2023-05-25 19:43:14,944 INFO sqlalchemy.engine.Engine COMMIT\n"
     ]
    }
   ],
   "source": [
    "BDFilmes = db.Table('Filmes', metadata,\n",
    "         db.Column('Id', db.Integer(),primary_key = True),\n",
    "         db.Column('Name', db.String(255), nullable=False),\n",
    "         db.Column('Rating', db.Float()),\n",
    "         db.Column('Ano', db.Integer())\n",
    "         )\n",
    "metadata.create_all(engine)"
   ]
  },
  {
   "attachments": {},
   "cell_type": "markdown",
   "metadata": {},
   "source": [
    "# Fazendo operações no banco\n",
    "\n",
    "Adicionando uma linha"
   ]
  },
  {
   "cell_type": "code",
   "execution_count": 7,
   "metadata": {},
   "outputs": [],
   "source": [
    "inserir = db.insert(BDFilmes).values(Id=1, Name='Bacurau', Rating=5, Ano=2021)"
   ]
  },
  {
   "cell_type": "code",
   "execution_count": 8,
   "metadata": {},
   "outputs": [
    {
     "name": "stdout",
     "output_type": "stream",
     "text": [
      "2023-05-25 19:51:31,175 INFO sqlalchemy.engine.Engine INSERT INTO \"Filmes\" (\"Id\", \"Name\", \"Rating\", \"Ano\") VALUES (?, ?, ?, ?)\n",
      "2023-05-25 19:51:31,178 INFO sqlalchemy.engine.Engine [generated in 0.00307s] (1, 'Bacurau', 5.0, 2010)\n",
      "2023-05-25 19:51:31,182 INFO sqlalchemy.engine.Engine COMMIT\n"
     ]
    }
   ],
   "source": [
    "resultado = conn.execute(inserir)"
   ]
  },
  {
   "cell_type": "code",
   "execution_count": 11,
   "metadata": {},
   "outputs": [
    {
     "name": "stdout",
     "output_type": "stream",
     "text": [
      "2023-05-25 19:53:56,916 INFO sqlalchemy.engine.Engine SELECT \"Filmes\".\"Id\", \"Filmes\".\"Name\", \"Filmes\".\"Rating\", \"Filmes\".\"Ano\" \n",
      "FROM \"Filmes\"\n",
      "2023-05-25 19:53:56,918 INFO sqlalchemy.engine.Engine [cached since 9.004s ago] ()\n",
      "[(1, 'Bacurau', 5.0, 2010)]\n"
     ]
    }
   ],
   "source": [
    "output = conn.execute(BDFilmes.select()).fetchall()\n",
    "print(output)"
   ]
  },
  {
   "attachments": {},
   "cell_type": "markdown",
   "metadata": {},
   "source": [
    "Adicionando várias linhas"
   ]
  },
  {
   "cell_type": "code",
   "execution_count": 12,
   "metadata": {},
   "outputs": [
    {
     "name": "stdout",
     "output_type": "stream",
     "text": [
      "2023-05-25 19:57:27,075 INFO sqlalchemy.engine.Engine INSERT INTO \"Filmes\" (\"Id\", \"Name\", \"Rating\", \"Ano\") VALUES (?, ?, ?, ?)\n",
      "2023-05-25 19:57:27,077 INFO sqlalchemy.engine.Engine [generated in 0.00161s] ((2, 'Carandiru', 4.5, 2003), (3, 'As branquelas', 2.5, 2004))\n",
      "2023-05-25 19:57:27,080 INFO sqlalchemy.engine.Engine COMMIT\n"
     ]
    }
   ],
   "source": [
    "query= db.insert(BDFilmes)\n",
    "valores = [{'Id':2, 'Name':'Carandiru', 'Rating':4.5, 'Ano':2003},\n",
    "           {'Id':3, 'Name':'As branquelas', 'Rating':2.5, 'Ano':2004}\n",
    "            ]\n",
    "resultado = conn.execute(query, valores)"
   ]
  },
  {
   "cell_type": "code",
   "execution_count": 13,
   "metadata": {},
   "outputs": [
    {
     "name": "stdout",
     "output_type": "stream",
     "text": [
      "2023-05-25 19:57:52,562 INFO sqlalchemy.engine.Engine SELECT \"Filmes\".\"Id\", \"Filmes\".\"Name\", \"Filmes\".\"Rating\", \"Filmes\".\"Ano\" \n",
      "FROM \"Filmes\"\n",
      "2023-05-25 19:57:52,565 INFO sqlalchemy.engine.Engine [cached since 244.7s ago] ()\n",
      "[(1, 'Bacurau', 5.0, 2010), (2, 'Carandiru', 4.5, 2003), (3, 'As branquelas', 2.5, 2004)]\n"
     ]
    }
   ],
   "source": [
    "output = conn.execute(db.select([BDFilmes])).fetchall()\n",
    "print(output)"
   ]
  },
  {
   "attachments": {},
   "cell_type": "markdown",
   "metadata": {},
   "source": [
    "# Consultas"
   ]
  },
  {
   "cell_type": "code",
   "execution_count": 16,
   "metadata": {},
   "outputs": [
    {
     "name": "stdout",
     "output_type": "stream",
     "text": [
      "2023-05-25 20:01:44,397 INFO sqlalchemy.engine.Engine SELECT * FROM Filmes\n",
      "2023-05-25 20:01:44,399 INFO sqlalchemy.engine.Engine [raw sql] ()\n",
      "[(1, 'Bacurau', 5.0, 2010), (2, 'Carandiru', 4.5, 2003), (3, 'As branquelas', 2.5, 2004)]\n"
     ]
    }
   ],
   "source": [
    "output = conn.execute('SELECT * FROM Filmes')\n",
    "print(output.fetchall())"
   ]
  },
  {
   "cell_type": "code",
   "execution_count": 18,
   "metadata": {},
   "outputs": [
    {
     "name": "stdout",
     "output_type": "stream",
     "text": [
      "2023-05-25 20:02:03,829 INFO sqlalchemy.engine.Engine SELECT Name, Rating FROM Filmes WHERE Ano = 2003\n",
      "2023-05-25 20:02:03,831 INFO sqlalchemy.engine.Engine [raw sql] ()\n",
      "[('Carandiru', 4.5)]\n"
     ]
    }
   ],
   "source": [
    "output = conn.execute(\"SELECT Name, Rating FROM Filmes WHERE Ano = 2003\")\n",
    "print(output.fetchall())"
   ]
  },
  {
   "attachments": {},
   "cell_type": "markdown",
   "metadata": {},
   "source": [
    "Consultas com a API do SQLAlchemy"
   ]
  },
  {
   "cell_type": "code",
   "execution_count": 19,
   "metadata": {},
   "outputs": [
    {
     "name": "stdout",
     "output_type": "stream",
     "text": [
      "2023-05-25 20:04:17,781 INFO sqlalchemy.engine.Engine SELECT \"Filmes\".\"Id\", \"Filmes\".\"Name\", \"Filmes\".\"Rating\", \"Filmes\".\"Ano\" \n",
      "FROM \"Filmes\" \n",
      "WHERE \"Filmes\".\"Ano\" = ?\n",
      "2023-05-25 20:04:17,783 INFO sqlalchemy.engine.Engine [generated in 0.00185s] ('2003',)\n",
      "[(2, 'Carandiru', 4.5, 2003)]\n"
     ]
    }
   ],
   "source": [
    "query = BDFilmes.select().where(BDFilmes.columns.Ano == '2003')\n",
    "output = conn.execute(query)\n",
    "print(output.fetchall())"
   ]
  },
  {
   "cell_type": "code",
   "execution_count": 21,
   "metadata": {},
   "outputs": [
    {
     "name": "stdout",
     "output_type": "stream",
     "text": [
      "2023-05-25 20:06:27,100 INFO sqlalchemy.engine.Engine SELECT \"Filmes\".\"Id\", \"Filmes\".\"Name\", \"Filmes\".\"Rating\", \"Filmes\".\"Ano\" \n",
      "FROM \"Filmes\" \n",
      "WHERE \"Filmes\".\"Ano\" = ? AND \"Filmes\".\"Rating\" <= ?\n",
      "2023-05-25 20:06:27,103 INFO sqlalchemy.engine.Engine [cached since 14.85s ago] ('2004', 4)\n",
      "[(3, 'As branquelas', 2.5, 2004)]\n"
     ]
    }
   ],
   "source": [
    "query = BDFilmes.select().where(db.and_(BDFilmes.columns.Ano == '2004',BDFilmes.columns.Rating <= 4 ))\n",
    "output = conn.execute(query)\n",
    "print(output.fetchall())"
   ]
  },
  {
   "cell_type": "code",
   "execution_count": null,
   "metadata": {},
   "outputs": [],
   "source": []
  },
  {
   "attachments": {},
   "cell_type": "markdown",
   "metadata": {},
   "source": [
    "Integrando com o pandas"
   ]
  },
  {
   "cell_type": "code",
   "execution_count": 22,
   "metadata": {},
   "outputs": [],
   "source": [
    "import pandas as pd"
   ]
  },
  {
   "cell_type": "code",
   "execution_count": 23,
   "metadata": {},
   "outputs": [
    {
     "name": "stdout",
     "output_type": "stream",
     "text": [
      "2023-05-25 20:10:13,677 INFO sqlalchemy.engine.Engine SELECT \"Filmes\".\"Id\", \"Filmes\".\"Name\", \"Filmes\".\"Rating\", \"Filmes\".\"Ano\" \n",
      "FROM \"Filmes\" \n",
      "WHERE \"Filmes\".\"Ano\" IN (?, ?)\n",
      "2023-05-25 20:10:13,679 INFO sqlalchemy.engine.Engine [generated in 0.00245s] (2003, 2004)\n"
     ]
    },
    {
     "data": {
      "text/plain": [
       "[(2, 'Carandiru', 4.5, 2003), (3, 'As branquelas', 2.5, 2004)]"
      ]
     },
     "execution_count": 23,
     "metadata": {},
     "output_type": "execute_result"
    }
   ],
   "source": [
    "query = BDFilmes.select().where(BDFilmes.columns.Ano.in_([2003,2004]))\n",
    "output = conn.execute(query)\n",
    "results = output.fetchall()\n",
    "results"
   ]
  },
  {
   "cell_type": "code",
   "execution_count": 26,
   "metadata": {},
   "outputs": [
    {
     "data": {
      "text/html": [
       "<div>\n",
       "<style scoped>\n",
       "    .dataframe tbody tr th:only-of-type {\n",
       "        vertical-align: middle;\n",
       "    }\n",
       "\n",
       "    .dataframe tbody tr th {\n",
       "        vertical-align: top;\n",
       "    }\n",
       "\n",
       "    .dataframe thead th {\n",
       "        text-align: right;\n",
       "    }\n",
       "</style>\n",
       "<table border=\"1\" class=\"dataframe\">\n",
       "  <thead>\n",
       "    <tr style=\"text-align: right;\">\n",
       "      <th></th>\n",
       "      <th>0</th>\n",
       "      <th>1</th>\n",
       "      <th>2</th>\n",
       "      <th>3</th>\n",
       "    </tr>\n",
       "  </thead>\n",
       "  <tbody>\n",
       "    <tr>\n",
       "      <th>0</th>\n",
       "      <td>2</td>\n",
       "      <td>Carandiru</td>\n",
       "      <td>4.5</td>\n",
       "      <td>2003</td>\n",
       "    </tr>\n",
       "    <tr>\n",
       "      <th>1</th>\n",
       "      <td>3</td>\n",
       "      <td>As branquelas</td>\n",
       "      <td>2.5</td>\n",
       "      <td>2004</td>\n",
       "    </tr>\n",
       "  </tbody>\n",
       "</table>\n",
       "</div>"
      ],
      "text/plain": [
       "   0              1    2     3\n",
       "0  2      Carandiru  4.5  2003\n",
       "1  3  As branquelas  2.5  2004"
      ]
     },
     "execution_count": 26,
     "metadata": {},
     "output_type": "execute_result"
    }
   ],
   "source": [
    "dados = pd.DataFrame(results)\n",
    "dados"
   ]
  },
  {
   "cell_type": "code",
   "execution_count": 30,
   "metadata": {},
   "outputs": [],
   "source": [
    "dados.columns = results[0].keys()"
   ]
  },
  {
   "cell_type": "code",
   "execution_count": 31,
   "metadata": {},
   "outputs": [
    {
     "data": {
      "text/html": [
       "<div>\n",
       "<style scoped>\n",
       "    .dataframe tbody tr th:only-of-type {\n",
       "        vertical-align: middle;\n",
       "    }\n",
       "\n",
       "    .dataframe tbody tr th {\n",
       "        vertical-align: top;\n",
       "    }\n",
       "\n",
       "    .dataframe thead th {\n",
       "        text-align: right;\n",
       "    }\n",
       "</style>\n",
       "<table border=\"1\" class=\"dataframe\">\n",
       "  <thead>\n",
       "    <tr style=\"text-align: right;\">\n",
       "      <th></th>\n",
       "      <th>Id</th>\n",
       "      <th>Name</th>\n",
       "      <th>Rating</th>\n",
       "      <th>Ano</th>\n",
       "    </tr>\n",
       "  </thead>\n",
       "  <tbody>\n",
       "    <tr>\n",
       "      <th>0</th>\n",
       "      <td>2</td>\n",
       "      <td>Carandiru</td>\n",
       "      <td>4.5</td>\n",
       "      <td>2003</td>\n",
       "    </tr>\n",
       "    <tr>\n",
       "      <th>1</th>\n",
       "      <td>3</td>\n",
       "      <td>As branquelas</td>\n",
       "      <td>2.5</td>\n",
       "      <td>2004</td>\n",
       "    </tr>\n",
       "  </tbody>\n",
       "</table>\n",
       "</div>"
      ],
      "text/plain": [
       "   Id           Name  Rating   Ano\n",
       "0   2      Carandiru     4.5  2003\n",
       "1   3  As branquelas     2.5  2004"
      ]
     },
     "execution_count": 31,
     "metadata": {},
     "output_type": "execute_result"
    }
   ],
   "source": [
    "dados"
   ]
  },
  {
   "cell_type": "code",
   "execution_count": 32,
   "metadata": {},
   "outputs": [],
   "source": [
    "dados.to_csv('bancofilmesv2.csv', index=False, sep=';')"
   ]
  },
  {
   "attachments": {},
   "cell_type": "markdown",
   "metadata": {},
   "source": [
    "### Como converter um dataframe para uma tabela SQL"
   ]
  },
  {
   "cell_type": "code",
   "execution_count": 33,
   "metadata": {},
   "outputs": [
    {
     "data": {
      "text/html": [
       "<div>\n",
       "<style scoped>\n",
       "    .dataframe tbody tr th:only-of-type {\n",
       "        vertical-align: middle;\n",
       "    }\n",
       "\n",
       "    .dataframe tbody tr th {\n",
       "        vertical-align: top;\n",
       "    }\n",
       "\n",
       "    .dataframe thead th {\n",
       "        text-align: right;\n",
       "    }\n",
       "</style>\n",
       "<table border=\"1\" class=\"dataframe\">\n",
       "  <thead>\n",
       "    <tr style=\"text-align: right;\">\n",
       "      <th></th>\n",
       "      <th>Id</th>\n",
       "      <th>Name</th>\n",
       "      <th>Rating</th>\n",
       "      <th>Ano</th>\n",
       "    </tr>\n",
       "  </thead>\n",
       "  <tbody>\n",
       "    <tr>\n",
       "      <th>0</th>\n",
       "      <td>2</td>\n",
       "      <td>Carandiru</td>\n",
       "      <td>4.5</td>\n",
       "      <td>2003</td>\n",
       "    </tr>\n",
       "    <tr>\n",
       "      <th>1</th>\n",
       "      <td>3</td>\n",
       "      <td>As branquelas</td>\n",
       "      <td>2.5</td>\n",
       "      <td>2004</td>\n",
       "    </tr>\n",
       "  </tbody>\n",
       "</table>\n",
       "</div>"
      ],
      "text/plain": [
       "   Id           Name  Rating   Ano\n",
       "0   2      Carandiru     4.5  2003\n",
       "1   3  As branquelas     2.5  2004"
      ]
     },
     "execution_count": 33,
     "metadata": {},
     "output_type": "execute_result"
    }
   ],
   "source": [
    "df = pd.read_csv('bancofilmesv2.csv', sep=';')\n",
    "df"
   ]
  },
  {
   "cell_type": "code",
   "execution_count": 34,
   "metadata": {},
   "outputs": [
    {
     "name": "stdout",
     "output_type": "stream",
     "text": [
      "2023-05-25 20:16:21,539 INFO sqlalchemy.engine.Engine PRAGMA main.table_info(\"filmesv2\")\n",
      "2023-05-25 20:16:21,542 INFO sqlalchemy.engine.Engine [raw sql] ()\n",
      "2023-05-25 20:16:21,546 INFO sqlalchemy.engine.Engine PRAGMA temp.table_info(\"filmesv2\")\n",
      "2023-05-25 20:16:21,548 INFO sqlalchemy.engine.Engine [raw sql] ()\n",
      "2023-05-25 20:16:21,551 INFO sqlalchemy.engine.Engine BEGIN (implicit)\n",
      "2023-05-25 20:16:21,553 INFO sqlalchemy.engine.Engine \n",
      "CREATE TABLE filmesv2 (\n",
      "\t\"Id\" BIGINT, \n",
      "\t\"Name\" TEXT, \n",
      "\t\"Rating\" FLOAT, \n",
      "\t\"Ano\" BIGINT\n",
      ")\n",
      "\n",
      "\n",
      "2023-05-25 20:16:21,553 INFO sqlalchemy.engine.Engine [no key 0.00076s] ()\n",
      "2023-05-25 20:16:21,561 INFO sqlalchemy.engine.Engine COMMIT\n",
      "2023-05-25 20:16:21,564 INFO sqlalchemy.engine.Engine BEGIN (implicit)\n",
      "2023-05-25 20:16:21,566 INFO sqlalchemy.engine.Engine INSERT INTO filmesv2 (\"Id\", \"Name\", \"Rating\", \"Ano\") VALUES (?, ?, ?, ?)\n",
      "2023-05-25 20:16:21,567 INFO sqlalchemy.engine.Engine [generated in 0.00116s] ((2, 'Carandiru', 4.5, 2003), (3, 'As branquelas', 2.5, 2004))\n",
      "2023-05-25 20:16:21,571 INFO sqlalchemy.engine.Engine COMMIT\n"
     ]
    }
   ],
   "source": [
    "df.to_sql(con=engine, name='filmesv2', if_exists='replace', index=False)"
   ]
  },
  {
   "cell_type": "code",
   "execution_count": 38,
   "metadata": {},
   "outputs": [
    {
     "name": "stdout",
     "output_type": "stream",
     "text": [
      "2023-05-25 20:22:31,028 INFO sqlalchemy.engine.Engine PRAGMA main.table_xinfo(\"filmesv2\")\n",
      "2023-05-25 20:22:31,031 INFO sqlalchemy.engine.Engine [raw sql] ()\n",
      "2023-05-25 20:22:31,034 INFO sqlalchemy.engine.Engine SELECT sql FROM  (SELECT * FROM sqlite_master UNION ALL   SELECT * FROM sqlite_temp_master) WHERE name = ? AND type = 'table'\n",
      "2023-05-25 20:22:31,036 INFO sqlalchemy.engine.Engine [raw sql] ('filmesv2',)\n",
      "2023-05-25 20:22:31,039 INFO sqlalchemy.engine.Engine PRAGMA main.foreign_key_list(\"filmesv2\")\n",
      "2023-05-25 20:22:31,041 INFO sqlalchemy.engine.Engine [raw sql] ()\n",
      "2023-05-25 20:22:31,042 INFO sqlalchemy.engine.Engine PRAGMA temp.foreign_key_list(\"filmesv2\")\n",
      "2023-05-25 20:22:31,042 INFO sqlalchemy.engine.Engine [raw sql] ()\n",
      "2023-05-25 20:22:31,043 INFO sqlalchemy.engine.Engine SELECT sql FROM  (SELECT * FROM sqlite_master UNION ALL   SELECT * FROM sqlite_temp_master) WHERE name = ? AND type = 'table'\n",
      "2023-05-25 20:22:31,044 INFO sqlalchemy.engine.Engine [raw sql] ('filmesv2',)\n",
      "2023-05-25 20:22:31,047 INFO sqlalchemy.engine.Engine PRAGMA main.index_list(\"filmesv2\")\n",
      "2023-05-25 20:22:31,049 INFO sqlalchemy.engine.Engine [raw sql] ()\n",
      "2023-05-25 20:22:31,052 INFO sqlalchemy.engine.Engine PRAGMA temp.index_list(\"filmesv2\")\n",
      "2023-05-25 20:22:31,057 INFO sqlalchemy.engine.Engine [raw sql] ()\n",
      "2023-05-25 20:22:31,059 INFO sqlalchemy.engine.Engine PRAGMA main.index_list(\"filmesv2\")\n",
      "2023-05-25 20:22:31,061 INFO sqlalchemy.engine.Engine [raw sql] ()\n",
      "2023-05-25 20:22:31,062 INFO sqlalchemy.engine.Engine PRAGMA temp.index_list(\"filmesv2\")\n",
      "2023-05-25 20:22:31,064 INFO sqlalchemy.engine.Engine [raw sql] ()\n",
      "2023-05-25 20:22:31,065 INFO sqlalchemy.engine.Engine SELECT sql FROM  (SELECT * FROM sqlite_master UNION ALL   SELECT * FROM sqlite_temp_master) WHERE name = ? AND type = 'table'\n",
      "2023-05-25 20:22:31,066 INFO sqlalchemy.engine.Engine [raw sql] ('filmesv2',)\n"
     ]
    }
   ],
   "source": [
    "conn2 = engine.connect()\n",
    "metadata2 = db.MetaData()\n",
    "bdfilmes2 = db.Table('filmesv2', metadata2, autoload=True, autoload_with=engine)"
   ]
  },
  {
   "cell_type": "code",
   "execution_count": 39,
   "metadata": {},
   "outputs": [
    {
     "name": "stdout",
     "output_type": "stream",
     "text": [
      "2023-05-25 20:22:32,502 INFO sqlalchemy.engine.Engine SELECT filmesv2.\"Id\", filmesv2.\"Name\", filmesv2.\"Rating\", filmesv2.\"Ano\" \n",
      "FROM filmesv2\n",
      "2023-05-25 20:22:32,504 INFO sqlalchemy.engine.Engine [generated in 0.00269s] ()\n",
      "(2, 'Carandiru', 4.5, 2003)\n",
      "(3, 'As branquelas', 2.5, 2004)\n"
     ]
    }
   ],
   "source": [
    "query = bdfilmes2.select()\n",
    "exe = conn.execute(query)\n",
    "result = exe.fetchmany(5)\n",
    "for r in result:\n",
    "    print(r)"
   ]
  },
  {
   "cell_type": "code",
   "execution_count": 40,
   "metadata": {},
   "outputs": [
    {
     "name": "stdout",
     "output_type": "stream",
     "text": [
      "2023-05-25 20:23:28,917 INFO sqlalchemy.engine.Engine BEGIN (implicit)\n",
      "2023-05-25 20:23:28,918 INFO sqlalchemy.engine.Engine PRAGMA main.table_info(\"filmesv2\")\n",
      "2023-05-25 20:23:28,919 INFO sqlalchemy.engine.Engine [raw sql] ()\n",
      "2023-05-25 20:23:28,921 INFO sqlalchemy.engine.Engine COMMIT\n"
     ]
    }
   ],
   "source": [
    "metadata2.create_all(engine)"
   ]
  },
  {
   "cell_type": "code",
   "execution_count": null,
   "metadata": {},
   "outputs": [],
   "source": []
  },
  {
   "attachments": {},
   "cell_type": "markdown",
   "metadata": {},
   "source": [
    "# Outro formato de criação de bancos"
   ]
  },
  {
   "cell_type": "code",
   "execution_count": 41,
   "metadata": {},
   "outputs": [],
   "source": [
    "from sqlalchemy import create_engine, ForeignKey\n",
    "from sqlalchemy import Column, Date, Integer, String\n",
    "from sqlalchemy.ext.declarative import declarative_base"
   ]
  },
  {
   "cell_type": "code",
   "execution_count": 42,
   "metadata": {},
   "outputs": [],
   "source": [
    "engine = db.create_engine(\"sqlite:///..//impacta.db\", echo=True)"
   ]
  },
  {
   "cell_type": "code",
   "execution_count": 43,
   "metadata": {},
   "outputs": [],
   "source": [
    "conn = engine.connect() "
   ]
  },
  {
   "cell_type": "code",
   "execution_count": 44,
   "metadata": {},
   "outputs": [
    {
     "name": "stdout",
     "output_type": "stream",
     "text": [
      "2023-05-25 20:31:00,462 INFO sqlalchemy.engine.Engine BEGIN (implicit)\n",
      "2023-05-25 20:31:00,465 INFO sqlalchemy.engine.Engine PRAGMA main.table_info(\"impacta\")\n",
      "2023-05-25 20:31:00,466 INFO sqlalchemy.engine.Engine [raw sql] ()\n",
      "2023-05-25 20:31:00,468 INFO sqlalchemy.engine.Engine PRAGMA temp.table_info(\"impacta\")\n",
      "2023-05-25 20:31:00,469 INFO sqlalchemy.engine.Engine [raw sql] ()\n",
      "2023-05-25 20:31:00,470 INFO sqlalchemy.engine.Engine \n",
      "CREATE TABLE impacta (\n",
      "\tid INTEGER NOT NULL, \n",
      "\tname VARCHAR, \n",
      "\tPRIMARY KEY (id)\n",
      ")\n",
      "\n",
      "\n",
      "2023-05-25 20:31:00,471 INFO sqlalchemy.engine.Engine [no key 0.00086s] ()\n",
      "2023-05-25 20:31:00,479 INFO sqlalchemy.engine.Engine COMMIT\n"
     ]
    }
   ],
   "source": [
    "Base = declarative_base()\n",
    "\n",
    "class School(Base):\n",
    "    __tablename__ = 'impacta'\n",
    "    \n",
    "    id = Column(Integer, primary_key=True)\n",
    "    name = Column(String)\n",
    "\n",
    "    def __init__(self, name):\n",
    "        self.name = name\n",
    "    \n",
    "Base.metadata.create_all(engine)"
   ]
  },
  {
   "cell_type": "code",
   "execution_count": 45,
   "metadata": {},
   "outputs": [
    {
     "name": "stdout",
     "output_type": "stream",
     "text": [
      "2023-05-25 20:34:12,874 INFO sqlalchemy.engine.Engine PRAGMA main.table_xinfo(\"impacta\")\n",
      "2023-05-25 20:34:12,876 INFO sqlalchemy.engine.Engine [raw sql] ()\n",
      "2023-05-25 20:34:12,879 INFO sqlalchemy.engine.Engine SELECT sql FROM  (SELECT * FROM sqlite_master UNION ALL   SELECT * FROM sqlite_temp_master) WHERE name = ? AND type = 'table'\n",
      "2023-05-25 20:34:12,882 INFO sqlalchemy.engine.Engine [raw sql] ('impacta',)\n",
      "2023-05-25 20:34:12,884 INFO sqlalchemy.engine.Engine PRAGMA main.foreign_key_list(\"impacta\")\n",
      "2023-05-25 20:34:12,887 INFO sqlalchemy.engine.Engine [raw sql] ()\n",
      "2023-05-25 20:34:12,888 INFO sqlalchemy.engine.Engine PRAGMA temp.foreign_key_list(\"impacta\")\n",
      "2023-05-25 20:34:12,888 INFO sqlalchemy.engine.Engine [raw sql] ()\n",
      "2023-05-25 20:34:12,890 INFO sqlalchemy.engine.Engine SELECT sql FROM  (SELECT * FROM sqlite_master UNION ALL   SELECT * FROM sqlite_temp_master) WHERE name = ? AND type = 'table'\n",
      "2023-05-25 20:34:12,891 INFO sqlalchemy.engine.Engine [raw sql] ('impacta',)\n",
      "2023-05-25 20:34:12,894 INFO sqlalchemy.engine.Engine PRAGMA main.index_list(\"impacta\")\n",
      "2023-05-25 20:34:12,895 INFO sqlalchemy.engine.Engine [raw sql] ()\n",
      "2023-05-25 20:34:12,897 INFO sqlalchemy.engine.Engine PRAGMA temp.index_list(\"impacta\")\n",
      "2023-05-25 20:34:12,899 INFO sqlalchemy.engine.Engine [raw sql] ()\n",
      "2023-05-25 20:34:12,901 INFO sqlalchemy.engine.Engine PRAGMA main.index_list(\"impacta\")\n",
      "2023-05-25 20:34:12,902 INFO sqlalchemy.engine.Engine [raw sql] ()\n",
      "2023-05-25 20:34:12,905 INFO sqlalchemy.engine.Engine PRAGMA temp.index_list(\"impacta\")\n",
      "2023-05-25 20:34:12,905 INFO sqlalchemy.engine.Engine [raw sql] ()\n",
      "2023-05-25 20:34:12,906 INFO sqlalchemy.engine.Engine SELECT sql FROM  (SELECT * FROM sqlite_master UNION ALL   SELECT * FROM sqlite_temp_master) WHERE name = ? AND type = 'table'\n",
      "2023-05-25 20:34:12,907 INFO sqlalchemy.engine.Engine [raw sql] ('impacta',)\n",
      "2023-05-25 20:34:12,910 INFO sqlalchemy.engine.Engine INSERT INTO impacta (id, name) VALUES (?, ?)\n",
      "2023-05-25 20:34:12,911 INFO sqlalchemy.engine.Engine [generated in 0.00091s] ((1, 'Bruno'), (2, 'Alfredo'))\n",
      "2023-05-25 20:34:12,915 INFO sqlalchemy.engine.Engine COMMIT\n"
     ]
    }
   ],
   "source": [
    "impacta2 = db.Table('impacta', metadata, autoload=True, autoload_with=engine)\n",
    "query = db.insert(impacta2)\n",
    "valores = [\n",
    "    {'id':1, 'name':'Bruno'},\n",
    "    {'id':2, 'name':'Alfredo'}\n",
    "]\n",
    "resultado = conn.execute(query, valores)"
   ]
  },
  {
   "cell_type": "code",
   "execution_count": 48,
   "metadata": {},
   "outputs": [
    {
     "name": "stdout",
     "output_type": "stream",
     "text": [
      "2023-05-25 20:36:32,572 INFO sqlalchemy.engine.Engine SELECT impacta.id, impacta.name \n",
      "FROM impacta\n",
      "2023-05-25 20:36:32,573 INFO sqlalchemy.engine.Engine [cached since 105.6s ago] ()\n"
     ]
    },
    {
     "data": {
      "text/html": [
       "<div>\n",
       "<style scoped>\n",
       "    .dataframe tbody tr th:only-of-type {\n",
       "        vertical-align: middle;\n",
       "    }\n",
       "\n",
       "    .dataframe tbody tr th {\n",
       "        vertical-align: top;\n",
       "    }\n",
       "\n",
       "    .dataframe thead th {\n",
       "        text-align: right;\n",
       "    }\n",
       "</style>\n",
       "<table border=\"1\" class=\"dataframe\">\n",
       "  <thead>\n",
       "    <tr style=\"text-align: right;\">\n",
       "      <th></th>\n",
       "      <th>id</th>\n",
       "      <th>name</th>\n",
       "    </tr>\n",
       "  </thead>\n",
       "  <tbody>\n",
       "    <tr>\n",
       "      <th>0</th>\n",
       "      <td>2</td>\n",
       "      <td>Alfredo</td>\n",
       "    </tr>\n",
       "    <tr>\n",
       "      <th>1</th>\n",
       "      <td>3</td>\n",
       "      <td>Bruno</td>\n",
       "    </tr>\n",
       "  </tbody>\n",
       "</table>\n",
       "</div>"
      ],
      "text/plain": [
       "   id     name\n",
       "0   2  Alfredo\n",
       "1   3    Bruno"
      ]
     },
     "execution_count": 48,
     "metadata": {},
     "output_type": "execute_result"
    }
   ],
   "source": [
    "output = conn.execute(impacta2.select()).fetchall()\n",
    "data = pd.DataFrame(output)\n",
    "data.columns = output[0].keys()\n",
    "data"
   ]
  },
  {
   "cell_type": "code",
   "execution_count": 47,
   "metadata": {},
   "outputs": [
    {
     "name": "stdout",
     "output_type": "stream",
     "text": [
      "2023-05-25 20:36:29,675 INFO sqlalchemy.engine.Engine UPDATE impacta SET id=? WHERE impacta.name = ?\n",
      "2023-05-25 20:36:29,676 INFO sqlalchemy.engine.Engine [generated in 0.00144s] (3, 'Bruno')\n",
      "2023-05-25 20:36:29,680 INFO sqlalchemy.engine.Engine COMMIT\n"
     ]
    }
   ],
   "source": [
    "query = impacta2.update().values(id=3).where(impacta2.columns.name==\"Bruno\")\n",
    "results = conn.execute(query)"
   ]
  },
  {
   "cell_type": "code",
   "execution_count": null,
   "metadata": {},
   "outputs": [],
   "source": []
  }
 ],
 "metadata": {
  "kernelspec": {
   "display_name": "Python 3",
   "language": "python",
   "name": "python3"
  },
  "language_info": {
   "codemirror_mode": {
    "name": "ipython",
    "version": 3
   },
   "file_extension": ".py",
   "mimetype": "text/x-python",
   "name": "python",
   "nbconvert_exporter": "python",
   "pygments_lexer": "ipython3",
   "version": "3.9.0"
  },
  "orig_nbformat": 4
 },
 "nbformat": 4,
 "nbformat_minor": 2
}
