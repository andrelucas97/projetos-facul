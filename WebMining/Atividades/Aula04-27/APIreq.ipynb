{
 "cells": [
  {
   "cell_type": "code",
   "execution_count": 6,
   "metadata": {},
   "outputs": [],
   "source": [
    "import pandas as pd\n",
    "import json\n",
    "import requests"
   ]
  },
  {
   "cell_type": "code",
   "execution_count": 2,
   "metadata": {},
   "outputs": [],
   "source": [
    "cep = input(\"Digite o cep\")"
   ]
  },
  {
   "cell_type": "code",
   "execution_count": 3,
   "metadata": {},
   "outputs": [],
   "source": [
    "req = requests.get(\"https://viacep.com.br/ws/{}/json\".format(cep))"
   ]
  },
  {
   "cell_type": "code",
   "execution_count": 5,
   "metadata": {},
   "outputs": [
    {
     "name": "stdout",
     "output_type": "stream",
     "text": [
      "{\n",
      "  \"cep\": \"02611-001\",\n",
      "  \"logradouro\": \"Avenida Parada Pinto\",\n",
      "  \"complemento\": \"de 1502 ao fim - lado par\",\n",
      "  \"bairro\": \"Vila Nova Cachoeirinha\",\n",
      "  \"localidade\": \"São Paulo\",\n",
      "  \"uf\": \"SP\",\n",
      "  \"ibge\": \"3550308\",\n",
      "  \"gia\": \"1004\",\n",
      "  \"ddd\": \"11\",\n",
      "  \"siafi\": \"7107\"\n",
      "}\n"
     ]
    }
   ],
   "source": [
    "print(req.text)"
   ]
  },
  {
   "cell_type": "code",
   "execution_count": 10,
   "metadata": {},
   "outputs": [],
   "source": [
    "moeda = input('Digite a moeta q deseja (USD-BRL)')"
   ]
  },
  {
   "cell_type": "code",
   "execution_count": 11,
   "metadata": {},
   "outputs": [],
   "source": [
    "endpoint = 'https://economia.awesomeapi.com.br/last/{}'.format(moeda)"
   ]
  },
  {
   "cell_type": "code",
   "execution_count": 12,
   "metadata": {},
   "outputs": [
    {
     "name": "stdout",
     "output_type": "stream",
     "text": [
      "{\"USDBRL\":{\"code\":\"USD\",\"codein\":\"BRL\",\"name\":\"Dólar Americano/Real Brasileiro\",\"high\":\"4.9776\",\"low\":\"4.9776\",\"varBid\":\"0.0005\",\"pctChange\":\"0.01\",\"bid\":\"4.9771\",\"ask\":\"4.9781\",\"timestamp\":\"1682634003\",\"create_date\":\"2023-04-27 19:20:03\"}}\n"
     ]
    }
   ],
   "source": [
    "req = requests.get(endpoint)\n",
    "print(req.text)"
   ]
  }
 ],
 "metadata": {
  "kernelspec": {
   "display_name": "webappst",
   "language": "python",
   "name": "python3"
  },
  "language_info": {
   "codemirror_mode": {
    "name": "ipython",
    "version": 3
   },
   "file_extension": ".py",
   "mimetype": "text/x-python",
   "name": "python",
   "nbconvert_exporter": "python",
   "pygments_lexer": "ipython3",
   "version": "3.11.2"
  },
  "orig_nbformat": 4
 },
 "nbformat": 4,
 "nbformat_minor": 2
}
