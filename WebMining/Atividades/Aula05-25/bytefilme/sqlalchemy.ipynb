{
 "cells": [
  {
   "cell_type": "code",
   "execution_count": 1,
   "metadata": {},
   "outputs": [],
   "source": [
    "import sqlalchemy as db"
   ]
  },
  {
   "cell_type": "code",
   "execution_count": 2,
   "metadata": {},
   "outputs": [],
   "source": [
    "engine = db.create_engine('sqlite:///bancofilmes.db', echo=True)"
   ]
  },
  {
   "cell_type": "code",
   "execution_count": 3,
   "metadata": {},
   "outputs": [],
   "source": [
    "conn = engine.connect()"
   ]
  },
  {
   "cell_type": "code",
   "execution_count": 4,
   "metadata": {},
   "outputs": [],
   "source": [
    "metadata = db.MetaData()"
   ]
  },
  {
   "cell_type": "code",
   "execution_count": 5,
   "metadata": {},
   "outputs": [
    {
     "name": "stdout",
     "output_type": "stream",
     "text": [
      "2023-05-25 19:44:22,347 INFO sqlalchemy.engine.Engine BEGIN (implicit)\n",
      "2023-05-25 19:44:22,348 INFO sqlalchemy.engine.Engine PRAGMA main.table_info(\"Filmes\")\n",
      "2023-05-25 19:44:22,349 INFO sqlalchemy.engine.Engine [raw sql] ()\n",
      "2023-05-25 19:44:22,350 INFO sqlalchemy.engine.Engine PRAGMA temp.table_info(\"Filmes\")\n",
      "2023-05-25 19:44:22,351 INFO sqlalchemy.engine.Engine [raw sql] ()\n",
      "2023-05-25 19:44:22,352 INFO sqlalchemy.engine.Engine \n",
      "CREATE TABLE \"Filmes\" (\n",
      "\t\"Id\" INTEGER NOT NULL, \n",
      "\t\"Name\" VARCHAR(255) NOT NULL, \n",
      "\t\"Rating\" FLOAT, \n",
      "\t\"Ano\" INTEGER, \n",
      "\tPRIMARY KEY (\"Id\")\n",
      ")\n",
      "\n",
      "\n",
      "2023-05-25 19:44:22,352 INFO sqlalchemy.engine.Engine [no key 0.00045s] ()\n",
      "2023-05-25 19:44:22,758 INFO sqlalchemy.engine.Engine COMMIT\n"
     ]
    }
   ],
   "source": [
    "BDFilmes = db.Table('Filmes', metadata, \n",
    "         db.Column('Id', db.Integer(), primary_key= True),\n",
    "         db.Column('Name', db.String(255), nullable=False),\n",
    "         db.Column('Rating', db.Float()),\n",
    "         db.Column('Ano', db.Integer())\n",
    "         )\n",
    "metadata.create_all(engine)"
   ]
  },
  {
   "attachments": {},
   "cell_type": "markdown",
   "metadata": {},
   "source": [
    "# Fazendo operações no banco\n",
    "\n",
    "Adicionando uma linha"
   ]
  },
  {
   "cell_type": "code",
   "execution_count": 7,
   "metadata": {},
   "outputs": [],
   "source": [
    "inserir = db.insert(BDFilmes).values(Id=1, Name='Carandiru', Rating=3, Ano=2010)"
   ]
  },
  {
   "cell_type": "code",
   "execution_count": 8,
   "metadata": {},
   "outputs": [
    {
     "name": "stdout",
     "output_type": "stream",
     "text": [
      "2023-05-25 19:52:38,682 INFO sqlalchemy.engine.Engine BEGIN (implicit)\n",
      "2023-05-25 19:52:38,683 INFO sqlalchemy.engine.Engine INSERT INTO \"Filmes\" (\"Id\", \"Name\", \"Rating\", \"Ano\") VALUES (?, ?, ?, ?)\n",
      "2023-05-25 19:52:38,683 INFO sqlalchemy.engine.Engine [generated in 0.00098s] (1, 'Carandiru', 3.0, 2010)\n"
     ]
    }
   ],
   "source": [
    "resultado = conn.execute(inserir)"
   ]
  },
  {
   "cell_type": "code",
   "execution_count": 9,
   "metadata": {},
   "outputs": [
    {
     "name": "stdout",
     "output_type": "stream",
     "text": [
      "2023-05-25 19:55:13,155 INFO sqlalchemy.engine.Engine SELECT \"Filmes\".\"Id\", \"Filmes\".\"Name\", \"Filmes\".\"Rating\", \"Filmes\".\"Ano\" \n",
      "FROM \"Filmes\"\n",
      "2023-05-25 19:55:13,156 INFO sqlalchemy.engine.Engine [generated in 0.00046s] ()\n",
      "[(1, 'Carandiru', 3.0, 2010)]\n"
     ]
    }
   ],
   "source": [
    "output = conn.execute(BDFilmes.select()).fetchall()\n",
    "print(output)"
   ]
  },
  {
   "attachments": {},
   "cell_type": "markdown",
   "metadata": {},
   "source": [
    "Adicionando várias linhas:"
   ]
  },
  {
   "cell_type": "code",
   "execution_count": 10,
   "metadata": {},
   "outputs": [
    {
     "name": "stdout",
     "output_type": "stream",
     "text": [
      "2023-05-25 19:58:34,862 INFO sqlalchemy.engine.Engine INSERT INTO \"Filmes\" (\"Id\", \"Name\", \"Rating\", \"Ano\") VALUES (?, ?, ?, ?)\n",
      "2023-05-25 19:58:34,865 INFO sqlalchemy.engine.Engine [generated in 0.00181s] [(2, 'Bacarau', 4.5, 2021), (3, 'As branquelas', 2.5, 2004)]\n"
     ]
    }
   ],
   "source": [
    "query = db.insert(BDFilmes)\n",
    "valores = [{'Id':2, 'Name':'Bacarau', 'Rating':4.5, 'Ano': 2021},\n",
    "            {'Id':3, 'Name':'As branquelas', 'Rating':2.5, 'Ano': 2004},\n",
    "\n",
    "]\n",
    "\n",
    "resultado = conn.execute(query, valores)"
   ]
  },
  {
   "cell_type": "code",
   "execution_count": 11,
   "metadata": {},
   "outputs": [
    {
     "name": "stdout",
     "output_type": "stream",
     "text": [
      "2023-05-25 19:59:00,263 INFO sqlalchemy.engine.Engine SELECT \"Filmes\".\"Id\", \"Filmes\".\"Name\", \"Filmes\".\"Rating\", \"Filmes\".\"Ano\" \n",
      "FROM \"Filmes\"\n",
      "2023-05-25 19:59:00,263 INFO sqlalchemy.engine.Engine [cached since 227.1s ago] ()\n",
      "[(1, 'Carandiru', 3.0, 2010), (2, 'Bacarau', 4.5, 2021), (3, 'As branquelas', 2.5, 2004)]\n"
     ]
    }
   ],
   "source": [
    "output = conn.execute(BDFilmes.select()).fetchall()\n",
    "print(output)"
   ]
  },
  {
   "attachments": {},
   "cell_type": "markdown",
   "metadata": {},
   "source": [
    "# Consultas"
   ]
  },
  {
   "cell_type": "code",
   "execution_count": 56,
   "metadata": {},
   "outputs": [
    {
     "ename": "ObjectNotExecutableError",
     "evalue": "Not an executable object: 'SELECT * FROM Filmes'",
     "output_type": "error",
     "traceback": [
      "\u001b[1;31m---------------------------------------------------------------------------\u001b[0m",
      "\u001b[1;31mAttributeError\u001b[0m                            Traceback (most recent call last)",
      "File \u001b[1;32m~\\AppData\\Roaming\\Python\\Python311\\site-packages\\sqlalchemy\\engine\\base.py:1410\u001b[0m, in \u001b[0;36mConnection.execute\u001b[1;34m(self, statement, parameters, execution_options)\u001b[0m\n\u001b[0;32m   1409\u001b[0m \u001b[39mtry\u001b[39;00m:\n\u001b[1;32m-> 1410\u001b[0m     meth \u001b[39m=\u001b[39m statement\u001b[39m.\u001b[39;49m_execute_on_connection\n\u001b[0;32m   1411\u001b[0m \u001b[39mexcept\u001b[39;00m \u001b[39mAttributeError\u001b[39;00m \u001b[39mas\u001b[39;00m err:\n",
      "\u001b[1;31mAttributeError\u001b[0m: 'str' object has no attribute '_execute_on_connection'",
      "\nThe above exception was the direct cause of the following exception:\n",
      "\u001b[1;31mObjectNotExecutableError\u001b[0m                  Traceback (most recent call last)",
      "Cell \u001b[1;32mIn[56], line 1\u001b[0m\n\u001b[1;32m----> 1\u001b[0m output \u001b[39m=\u001b[39m conn\u001b[39m.\u001b[39;49mexecute(\u001b[39m'\u001b[39;49m\u001b[39mSELECT * FROM Filmes\u001b[39;49m\u001b[39m'\u001b[39;49m)\n\u001b[0;32m      2\u001b[0m \u001b[39mprint\u001b[39m(output\u001b[39m.\u001b[39mfetchall())\n",
      "File \u001b[1;32m~\\AppData\\Roaming\\Python\\Python311\\site-packages\\sqlalchemy\\engine\\base.py:1412\u001b[0m, in \u001b[0;36mConnection.execute\u001b[1;34m(self, statement, parameters, execution_options)\u001b[0m\n\u001b[0;32m   1410\u001b[0m     meth \u001b[39m=\u001b[39m statement\u001b[39m.\u001b[39m_execute_on_connection\n\u001b[0;32m   1411\u001b[0m \u001b[39mexcept\u001b[39;00m \u001b[39mAttributeError\u001b[39;00m \u001b[39mas\u001b[39;00m err:\n\u001b[1;32m-> 1412\u001b[0m     \u001b[39mraise\u001b[39;00m exc\u001b[39m.\u001b[39mObjectNotExecutableError(statement) \u001b[39mfrom\u001b[39;00m \u001b[39merr\u001b[39;00m\n\u001b[0;32m   1413\u001b[0m \u001b[39melse\u001b[39;00m:\n\u001b[0;32m   1414\u001b[0m     \u001b[39mreturn\u001b[39;00m meth(\n\u001b[0;32m   1415\u001b[0m         \u001b[39mself\u001b[39m,\n\u001b[0;32m   1416\u001b[0m         distilled_parameters,\n\u001b[0;32m   1417\u001b[0m         execution_options \u001b[39mor\u001b[39;00m NO_OPTIONS,\n\u001b[0;32m   1418\u001b[0m     )\n",
      "\u001b[1;31mObjectNotExecutableError\u001b[0m: Not an executable object: 'SELECT * FROM Filmes'"
     ]
    }
   ],
   "source": [
    "output = conn.execute('SELECT * FROM Filmes')\n",
    "print(output.fetchall())"
   ]
  },
  {
   "cell_type": "code",
   "execution_count": 53,
   "metadata": {},
   "outputs": [
    {
     "name": "stdout",
     "output_type": "stream",
     "text": [
      "2023-05-25 23:04:23,103 INFO sqlalchemy.engine.Engine SELECT \"Filmes\".\"Id\", \"Filmes\".\"Name\", \"Filmes\".\"Rating\", \"Filmes\".\"Ano\" \n",
      "FROM \"Filmes\" \n",
      "WHERE \"Filmes\".\"Ano\" = ? AND \"Filmes\".\"Rating\" <= ?\n",
      "2023-05-25 23:04:23,104 INFO sqlalchemy.engine.Engine [cached since 23.85s ago] ('2004', 4)\n"
     ]
    },
    {
     "ename": "OperationalError",
     "evalue": "(sqlite3.OperationalError) no such table: Filmes\n[SQL: SELECT \"Filmes\".\"Id\", \"Filmes\".\"Name\", \"Filmes\".\"Rating\", \"Filmes\".\"Ano\" \nFROM \"Filmes\" \nWHERE \"Filmes\".\"Ano\" = ? AND \"Filmes\".\"Rating\" <= ?]\n[parameters: ('2004', 4)]\n(Background on this error at: https://sqlalche.me/e/20/e3q8)",
     "output_type": "error",
     "traceback": [
      "\u001b[1;31m---------------------------------------------------------------------------\u001b[0m",
      "\u001b[1;31mOperationalError\u001b[0m                          Traceback (most recent call last)",
      "File \u001b[1;32m~\\AppData\\Roaming\\Python\\Python311\\site-packages\\sqlalchemy\\engine\\base.py:1964\u001b[0m, in \u001b[0;36mConnection._exec_single_context\u001b[1;34m(self, dialect, context, statement, parameters)\u001b[0m\n\u001b[0;32m   1963\u001b[0m     \u001b[39mif\u001b[39;00m \u001b[39mnot\u001b[39;00m evt_handled:\n\u001b[1;32m-> 1964\u001b[0m         \u001b[39mself\u001b[39;49m\u001b[39m.\u001b[39;49mdialect\u001b[39m.\u001b[39;49mdo_execute(\n\u001b[0;32m   1965\u001b[0m             cursor, str_statement, effective_parameters, context\n\u001b[0;32m   1966\u001b[0m         )\n\u001b[0;32m   1968\u001b[0m \u001b[39mif\u001b[39;00m \u001b[39mself\u001b[39m\u001b[39m.\u001b[39m_has_events \u001b[39mor\u001b[39;00m \u001b[39mself\u001b[39m\u001b[39m.\u001b[39mengine\u001b[39m.\u001b[39m_has_events:\n",
      "File \u001b[1;32m~\\AppData\\Roaming\\Python\\Python311\\site-packages\\sqlalchemy\\engine\\default.py:748\u001b[0m, in \u001b[0;36mDefaultDialect.do_execute\u001b[1;34m(self, cursor, statement, parameters, context)\u001b[0m\n\u001b[0;32m    747\u001b[0m \u001b[39mdef\u001b[39;00m \u001b[39mdo_execute\u001b[39m(\u001b[39mself\u001b[39m, cursor, statement, parameters, context\u001b[39m=\u001b[39m\u001b[39mNone\u001b[39;00m):\n\u001b[1;32m--> 748\u001b[0m     cursor\u001b[39m.\u001b[39;49mexecute(statement, parameters)\n",
      "\u001b[1;31mOperationalError\u001b[0m: no such table: Filmes",
      "\nThe above exception was the direct cause of the following exception:\n",
      "\u001b[1;31mOperationalError\u001b[0m                          Traceback (most recent call last)",
      "Cell \u001b[1;32mIn[53], line 2\u001b[0m\n\u001b[0;32m      1\u001b[0m query \u001b[39m=\u001b[39m BDFilmes\u001b[39m.\u001b[39mselect()\u001b[39m.\u001b[39mwhere(db\u001b[39m.\u001b[39mand_(BDFilmes\u001b[39m.\u001b[39mcolumns\u001b[39m.\u001b[39mAno \u001b[39m==\u001b[39m \u001b[39m'\u001b[39m\u001b[39m2004\u001b[39m\u001b[39m'\u001b[39m, BDFilmes\u001b[39m.\u001b[39mcolumns\u001b[39m.\u001b[39mRating \u001b[39m<\u001b[39m\u001b[39m=\u001b[39m\u001b[39m4\u001b[39m))\n\u001b[1;32m----> 2\u001b[0m output \u001b[39m=\u001b[39m conn\u001b[39m.\u001b[39;49mexecute(query)\n\u001b[0;32m      3\u001b[0m \u001b[39mprint\u001b[39m(output\u001b[39m.\u001b[39mfetchall())\n",
      "File \u001b[1;32m~\\AppData\\Roaming\\Python\\Python311\\site-packages\\sqlalchemy\\engine\\base.py:1414\u001b[0m, in \u001b[0;36mConnection.execute\u001b[1;34m(self, statement, parameters, execution_options)\u001b[0m\n\u001b[0;32m   1412\u001b[0m     \u001b[39mraise\u001b[39;00m exc\u001b[39m.\u001b[39mObjectNotExecutableError(statement) \u001b[39mfrom\u001b[39;00m \u001b[39merr\u001b[39;00m\n\u001b[0;32m   1413\u001b[0m \u001b[39melse\u001b[39;00m:\n\u001b[1;32m-> 1414\u001b[0m     \u001b[39mreturn\u001b[39;00m meth(\n\u001b[0;32m   1415\u001b[0m         \u001b[39mself\u001b[39;49m,\n\u001b[0;32m   1416\u001b[0m         distilled_parameters,\n\u001b[0;32m   1417\u001b[0m         execution_options \u001b[39mor\u001b[39;49;00m NO_OPTIONS,\n\u001b[0;32m   1418\u001b[0m     )\n",
      "File \u001b[1;32m~\\AppData\\Roaming\\Python\\Python311\\site-packages\\sqlalchemy\\sql\\elements.py:486\u001b[0m, in \u001b[0;36mClauseElement._execute_on_connection\u001b[1;34m(self, connection, distilled_params, execution_options)\u001b[0m\n\u001b[0;32m    484\u001b[0m     \u001b[39mif\u001b[39;00m TYPE_CHECKING:\n\u001b[0;32m    485\u001b[0m         \u001b[39massert\u001b[39;00m \u001b[39misinstance\u001b[39m(\u001b[39mself\u001b[39m, Executable)\n\u001b[1;32m--> 486\u001b[0m     \u001b[39mreturn\u001b[39;00m connection\u001b[39m.\u001b[39;49m_execute_clauseelement(\n\u001b[0;32m    487\u001b[0m         \u001b[39mself\u001b[39;49m, distilled_params, execution_options\n\u001b[0;32m    488\u001b[0m     )\n\u001b[0;32m    489\u001b[0m \u001b[39melse\u001b[39;00m:\n\u001b[0;32m    490\u001b[0m     \u001b[39mraise\u001b[39;00m exc\u001b[39m.\u001b[39mObjectNotExecutableError(\u001b[39mself\u001b[39m)\n",
      "File \u001b[1;32m~\\AppData\\Roaming\\Python\\Python311\\site-packages\\sqlalchemy\\engine\\base.py:1638\u001b[0m, in \u001b[0;36mConnection._execute_clauseelement\u001b[1;34m(self, elem, distilled_parameters, execution_options)\u001b[0m\n\u001b[0;32m   1626\u001b[0m compiled_cache: Optional[CompiledCacheType] \u001b[39m=\u001b[39m execution_options\u001b[39m.\u001b[39mget(\n\u001b[0;32m   1627\u001b[0m     \u001b[39m\"\u001b[39m\u001b[39mcompiled_cache\u001b[39m\u001b[39m\"\u001b[39m, \u001b[39mself\u001b[39m\u001b[39m.\u001b[39mengine\u001b[39m.\u001b[39m_compiled_cache\n\u001b[0;32m   1628\u001b[0m )\n\u001b[0;32m   1630\u001b[0m compiled_sql, extracted_params, cache_hit \u001b[39m=\u001b[39m elem\u001b[39m.\u001b[39m_compile_w_cache(\n\u001b[0;32m   1631\u001b[0m     dialect\u001b[39m=\u001b[39mdialect,\n\u001b[0;32m   1632\u001b[0m     compiled_cache\u001b[39m=\u001b[39mcompiled_cache,\n\u001b[1;32m   (...)\u001b[0m\n\u001b[0;32m   1636\u001b[0m     linting\u001b[39m=\u001b[39m\u001b[39mself\u001b[39m\u001b[39m.\u001b[39mdialect\u001b[39m.\u001b[39mcompiler_linting \u001b[39m|\u001b[39m compiler\u001b[39m.\u001b[39mWARN_LINTING,\n\u001b[0;32m   1637\u001b[0m )\n\u001b[1;32m-> 1638\u001b[0m ret \u001b[39m=\u001b[39m \u001b[39mself\u001b[39;49m\u001b[39m.\u001b[39;49m_execute_context(\n\u001b[0;32m   1639\u001b[0m     dialect,\n\u001b[0;32m   1640\u001b[0m     dialect\u001b[39m.\u001b[39;49mexecution_ctx_cls\u001b[39m.\u001b[39;49m_init_compiled,\n\u001b[0;32m   1641\u001b[0m     compiled_sql,\n\u001b[0;32m   1642\u001b[0m     distilled_parameters,\n\u001b[0;32m   1643\u001b[0m     execution_options,\n\u001b[0;32m   1644\u001b[0m     compiled_sql,\n\u001b[0;32m   1645\u001b[0m     distilled_parameters,\n\u001b[0;32m   1646\u001b[0m     elem,\n\u001b[0;32m   1647\u001b[0m     extracted_params,\n\u001b[0;32m   1648\u001b[0m     cache_hit\u001b[39m=\u001b[39;49mcache_hit,\n\u001b[0;32m   1649\u001b[0m )\n\u001b[0;32m   1650\u001b[0m \u001b[39mif\u001b[39;00m has_events:\n\u001b[0;32m   1651\u001b[0m     \u001b[39mself\u001b[39m\u001b[39m.\u001b[39mdispatch\u001b[39m.\u001b[39mafter_execute(\n\u001b[0;32m   1652\u001b[0m         \u001b[39mself\u001b[39m,\n\u001b[0;32m   1653\u001b[0m         elem,\n\u001b[1;32m   (...)\u001b[0m\n\u001b[0;32m   1657\u001b[0m         ret,\n\u001b[0;32m   1658\u001b[0m     )\n",
      "File \u001b[1;32m~\\AppData\\Roaming\\Python\\Python311\\site-packages\\sqlalchemy\\engine\\base.py:1842\u001b[0m, in \u001b[0;36mConnection._execute_context\u001b[1;34m(self, dialect, constructor, statement, parameters, execution_options, *args, **kw)\u001b[0m\n\u001b[0;32m   1837\u001b[0m     \u001b[39mreturn\u001b[39;00m \u001b[39mself\u001b[39m\u001b[39m.\u001b[39m_exec_insertmany_context(\n\u001b[0;32m   1838\u001b[0m         dialect,\n\u001b[0;32m   1839\u001b[0m         context,\n\u001b[0;32m   1840\u001b[0m     )\n\u001b[0;32m   1841\u001b[0m \u001b[39melse\u001b[39;00m:\n\u001b[1;32m-> 1842\u001b[0m     \u001b[39mreturn\u001b[39;00m \u001b[39mself\u001b[39;49m\u001b[39m.\u001b[39;49m_exec_single_context(\n\u001b[0;32m   1843\u001b[0m         dialect, context, statement, parameters\n\u001b[0;32m   1844\u001b[0m     )\n",
      "File \u001b[1;32m~\\AppData\\Roaming\\Python\\Python311\\site-packages\\sqlalchemy\\engine\\base.py:1983\u001b[0m, in \u001b[0;36mConnection._exec_single_context\u001b[1;34m(self, dialect, context, statement, parameters)\u001b[0m\n\u001b[0;32m   1980\u001b[0m     result \u001b[39m=\u001b[39m context\u001b[39m.\u001b[39m_setup_result_proxy()\n\u001b[0;32m   1982\u001b[0m \u001b[39mexcept\u001b[39;00m \u001b[39mBaseException\u001b[39;00m \u001b[39mas\u001b[39;00m e:\n\u001b[1;32m-> 1983\u001b[0m     \u001b[39mself\u001b[39;49m\u001b[39m.\u001b[39;49m_handle_dbapi_exception(\n\u001b[0;32m   1984\u001b[0m         e, str_statement, effective_parameters, cursor, context\n\u001b[0;32m   1985\u001b[0m     )\n\u001b[0;32m   1987\u001b[0m \u001b[39mreturn\u001b[39;00m result\n",
      "File \u001b[1;32m~\\AppData\\Roaming\\Python\\Python311\\site-packages\\sqlalchemy\\engine\\base.py:2326\u001b[0m, in \u001b[0;36mConnection._handle_dbapi_exception\u001b[1;34m(self, e, statement, parameters, cursor, context, is_sub_exec)\u001b[0m\n\u001b[0;32m   2324\u001b[0m \u001b[39melif\u001b[39;00m should_wrap:\n\u001b[0;32m   2325\u001b[0m     \u001b[39massert\u001b[39;00m sqlalchemy_exception \u001b[39mis\u001b[39;00m \u001b[39mnot\u001b[39;00m \u001b[39mNone\u001b[39;00m\n\u001b[1;32m-> 2326\u001b[0m     \u001b[39mraise\u001b[39;00m sqlalchemy_exception\u001b[39m.\u001b[39mwith_traceback(exc_info[\u001b[39m2\u001b[39m]) \u001b[39mfrom\u001b[39;00m \u001b[39me\u001b[39;00m\n\u001b[0;32m   2327\u001b[0m \u001b[39melse\u001b[39;00m:\n\u001b[0;32m   2328\u001b[0m     \u001b[39massert\u001b[39;00m exc_info[\u001b[39m1\u001b[39m] \u001b[39mis\u001b[39;00m \u001b[39mnot\u001b[39;00m \u001b[39mNone\u001b[39;00m\n",
      "File \u001b[1;32m~\\AppData\\Roaming\\Python\\Python311\\site-packages\\sqlalchemy\\engine\\base.py:1964\u001b[0m, in \u001b[0;36mConnection._exec_single_context\u001b[1;34m(self, dialect, context, statement, parameters)\u001b[0m\n\u001b[0;32m   1962\u001b[0m                 \u001b[39mbreak\u001b[39;00m\n\u001b[0;32m   1963\u001b[0m     \u001b[39mif\u001b[39;00m \u001b[39mnot\u001b[39;00m evt_handled:\n\u001b[1;32m-> 1964\u001b[0m         \u001b[39mself\u001b[39;49m\u001b[39m.\u001b[39;49mdialect\u001b[39m.\u001b[39;49mdo_execute(\n\u001b[0;32m   1965\u001b[0m             cursor, str_statement, effective_parameters, context\n\u001b[0;32m   1966\u001b[0m         )\n\u001b[0;32m   1968\u001b[0m \u001b[39mif\u001b[39;00m \u001b[39mself\u001b[39m\u001b[39m.\u001b[39m_has_events \u001b[39mor\u001b[39;00m \u001b[39mself\u001b[39m\u001b[39m.\u001b[39mengine\u001b[39m.\u001b[39m_has_events:\n\u001b[0;32m   1969\u001b[0m     \u001b[39mself\u001b[39m\u001b[39m.\u001b[39mdispatch\u001b[39m.\u001b[39mafter_cursor_execute(\n\u001b[0;32m   1970\u001b[0m         \u001b[39mself\u001b[39m,\n\u001b[0;32m   1971\u001b[0m         cursor,\n\u001b[1;32m   (...)\u001b[0m\n\u001b[0;32m   1975\u001b[0m         context\u001b[39m.\u001b[39mexecutemany,\n\u001b[0;32m   1976\u001b[0m     )\n",
      "File \u001b[1;32m~\\AppData\\Roaming\\Python\\Python311\\site-packages\\sqlalchemy\\engine\\default.py:748\u001b[0m, in \u001b[0;36mDefaultDialect.do_execute\u001b[1;34m(self, cursor, statement, parameters, context)\u001b[0m\n\u001b[0;32m    747\u001b[0m \u001b[39mdef\u001b[39;00m \u001b[39mdo_execute\u001b[39m(\u001b[39mself\u001b[39m, cursor, statement, parameters, context\u001b[39m=\u001b[39m\u001b[39mNone\u001b[39;00m):\n\u001b[1;32m--> 748\u001b[0m     cursor\u001b[39m.\u001b[39;49mexecute(statement, parameters)\n",
      "\u001b[1;31mOperationalError\u001b[0m: (sqlite3.OperationalError) no such table: Filmes\n[SQL: SELECT \"Filmes\".\"Id\", \"Filmes\".\"Name\", \"Filmes\".\"Rating\", \"Filmes\".\"Ano\" \nFROM \"Filmes\" \nWHERE \"Filmes\".\"Ano\" = ? AND \"Filmes\".\"Rating\" <= ?]\n[parameters: ('2004', 4)]\n(Background on this error at: https://sqlalche.me/e/20/e3q8)"
     ]
    }
   ],
   "source": [
    "query = BDFilmes.select().where(db.and_(BDFilmes.columns.Ano == '2004', BDFilmes.columns.Rating <=4))\n",
    "output = conn.execute(query)\n",
    "print(output.fetchall())"
   ]
  },
  {
   "attachments": {},
   "cell_type": "markdown",
   "metadata": {},
   "source": [
    "Integrando com o Pandas"
   ]
  },
  {
   "cell_type": "code",
   "execution_count": 21,
   "metadata": {},
   "outputs": [],
   "source": [
    "import pandas as pd"
   ]
  },
  {
   "cell_type": "code",
   "execution_count": 22,
   "metadata": {},
   "outputs": [
    {
     "name": "stdout",
     "output_type": "stream",
     "text": [
      "2023-05-25 20:11:22,088 INFO sqlalchemy.engine.Engine SELECT \"Filmes\".\"Id\", \"Filmes\".\"Name\", \"Filmes\".\"Rating\", \"Filmes\".\"Ano\" \n",
      "FROM \"Filmes\" \n",
      "WHERE \"Filmes\".\"Ano\" IN (?, ?)\n",
      "2023-05-25 20:11:22,089 INFO sqlalchemy.engine.Engine [generated in 0.00257s] (2003, 2004)\n"
     ]
    },
    {
     "data": {
      "text/plain": [
       "[(3, 'As branquelas', 2.5, 2004)]"
      ]
     },
     "execution_count": 22,
     "metadata": {},
     "output_type": "execute_result"
    }
   ],
   "source": [
    "query = BDFilmes.select().where(BDFilmes.columns.Ano.in_([2003,2004]))\n",
    "output = conn.execute(query)\n",
    "results = output.fetchall()\n",
    "results"
   ]
  },
  {
   "cell_type": "code",
   "execution_count": 25,
   "metadata": {},
   "outputs": [
    {
     "data": {
      "text/html": [
       "<div>\n",
       "<style scoped>\n",
       "    .dataframe tbody tr th:only-of-type {\n",
       "        vertical-align: middle;\n",
       "    }\n",
       "\n",
       "    .dataframe tbody tr th {\n",
       "        vertical-align: top;\n",
       "    }\n",
       "\n",
       "    .dataframe thead th {\n",
       "        text-align: right;\n",
       "    }\n",
       "</style>\n",
       "<table border=\"1\" class=\"dataframe\">\n",
       "  <thead>\n",
       "    <tr style=\"text-align: right;\">\n",
       "      <th></th>\n",
       "      <th>Id</th>\n",
       "      <th>Name</th>\n",
       "      <th>Rating</th>\n",
       "      <th>Ano</th>\n",
       "    </tr>\n",
       "  </thead>\n",
       "  <tbody>\n",
       "    <tr>\n",
       "      <th>0</th>\n",
       "      <td>3</td>\n",
       "      <td>As branquelas</td>\n",
       "      <td>2.5</td>\n",
       "      <td>2004</td>\n",
       "    </tr>\n",
       "  </tbody>\n",
       "</table>\n",
       "</div>"
      ],
      "text/plain": [
       "   Id           Name  Rating   Ano\n",
       "0   3  As branquelas     2.5  2004"
      ]
     },
     "execution_count": 25,
     "metadata": {},
     "output_type": "execute_result"
    }
   ],
   "source": [
    "dados = pd.DataFrame(results)\n",
    "dados"
   ]
  },
  {
   "cell_type": "code",
   "execution_count": 29,
   "metadata": {},
   "outputs": [],
   "source": [
    "dados.to_csv('bancofilmesv2.csv', index=False, sep=';')"
   ]
  },
  {
   "attachments": {},
   "cell_type": "markdown",
   "metadata": {},
   "source": [
    "Como converter um dataframe para uma tabela SQL"
   ]
  },
  {
   "cell_type": "code",
   "execution_count": 30,
   "metadata": {},
   "outputs": [
    {
     "data": {
      "text/html": [
       "<div>\n",
       "<style scoped>\n",
       "    .dataframe tbody tr th:only-of-type {\n",
       "        vertical-align: middle;\n",
       "    }\n",
       "\n",
       "    .dataframe tbody tr th {\n",
       "        vertical-align: top;\n",
       "    }\n",
       "\n",
       "    .dataframe thead th {\n",
       "        text-align: right;\n",
       "    }\n",
       "</style>\n",
       "<table border=\"1\" class=\"dataframe\">\n",
       "  <thead>\n",
       "    <tr style=\"text-align: right;\">\n",
       "      <th></th>\n",
       "      <th>Id</th>\n",
       "      <th>Name</th>\n",
       "      <th>Rating</th>\n",
       "      <th>Ano</th>\n",
       "    </tr>\n",
       "  </thead>\n",
       "  <tbody>\n",
       "    <tr>\n",
       "      <th>0</th>\n",
       "      <td>3</td>\n",
       "      <td>As branquelas</td>\n",
       "      <td>2.5</td>\n",
       "      <td>2004</td>\n",
       "    </tr>\n",
       "  </tbody>\n",
       "</table>\n",
       "</div>"
      ],
      "text/plain": [
       "   Id           Name  Rating   Ano\n",
       "0   3  As branquelas     2.5  2004"
      ]
     },
     "execution_count": 30,
     "metadata": {},
     "output_type": "execute_result"
    }
   ],
   "source": [
    "df = pd.read_csv('bancofilmesv2.csv', sep=';')\n",
    "df"
   ]
  },
  {
   "cell_type": "code",
   "execution_count": 39,
   "metadata": {},
   "outputs": [
    {
     "name": "stdout",
     "output_type": "stream",
     "text": [
      "2023-05-25 20:24:50,152 INFO sqlalchemy.engine.Engine BEGIN (implicit)\n",
      "2023-05-25 20:24:50,153 INFO sqlalchemy.engine.Engine PRAGMA main.table_info(\"filmesv2\")\n",
      "2023-05-25 20:24:50,154 INFO sqlalchemy.engine.Engine [raw sql] ()\n",
      "2023-05-25 20:24:50,155 INFO sqlalchemy.engine.Engine PRAGMA temp.table_info(\"filmesv2\")\n",
      "2023-05-25 20:24:50,155 INFO sqlalchemy.engine.Engine [raw sql] ()\n",
      "2023-05-25 20:24:50,155 INFO sqlalchemy.engine.Engine ROLLBACK\n",
      "2023-05-25 20:24:50,157 INFO sqlalchemy.engine.Engine BEGIN (implicit)\n",
      "2023-05-25 20:24:50,157 INFO sqlalchemy.engine.Engine \n",
      "CREATE TABLE filmesv2 (\n",
      "\t\"Id\" BIGINT, \n",
      "\t\"Name\" TEXT, \n",
      "\t\"Rating\" FLOAT, \n",
      "\t\"Ano\" BIGINT\n",
      ")\n",
      "\n",
      "\n",
      "2023-05-25 20:24:50,158 INFO sqlalchemy.engine.Engine [no key 0.00042s] ()\n",
      "2023-05-25 20:24:55,687 INFO sqlalchemy.engine.Engine ROLLBACK\n"
     ]
    },
    {
     "ename": "OperationalError",
     "evalue": "(sqlite3.OperationalError) database is locked\n[SQL: \nCREATE TABLE filmesv2 (\n\t\"Id\" BIGINT, \n\t\"Name\" TEXT, \n\t\"Rating\" FLOAT, \n\t\"Ano\" BIGINT\n)\n\n]\n(Background on this error at: https://sqlalche.me/e/20/e3q8)",
     "output_type": "error",
     "traceback": [
      "\u001b[1;31m---------------------------------------------------------------------------\u001b[0m",
      "\u001b[1;31mOperationalError\u001b[0m                          Traceback (most recent call last)",
      "File \u001b[1;32m~\\AppData\\Roaming\\Python\\Python311\\site-packages\\sqlalchemy\\engine\\base.py:1964\u001b[0m, in \u001b[0;36mConnection._exec_single_context\u001b[1;34m(self, dialect, context, statement, parameters)\u001b[0m\n\u001b[0;32m   1963\u001b[0m     \u001b[39mif\u001b[39;00m \u001b[39mnot\u001b[39;00m evt_handled:\n\u001b[1;32m-> 1964\u001b[0m         \u001b[39mself\u001b[39;49m\u001b[39m.\u001b[39;49mdialect\u001b[39m.\u001b[39;49mdo_execute(\n\u001b[0;32m   1965\u001b[0m             cursor, str_statement, effective_parameters, context\n\u001b[0;32m   1966\u001b[0m         )\n\u001b[0;32m   1968\u001b[0m \u001b[39mif\u001b[39;00m \u001b[39mself\u001b[39m\u001b[39m.\u001b[39m_has_events \u001b[39mor\u001b[39;00m \u001b[39mself\u001b[39m\u001b[39m.\u001b[39mengine\u001b[39m.\u001b[39m_has_events:\n",
      "File \u001b[1;32m~\\AppData\\Roaming\\Python\\Python311\\site-packages\\sqlalchemy\\engine\\default.py:748\u001b[0m, in \u001b[0;36mDefaultDialect.do_execute\u001b[1;34m(self, cursor, statement, parameters, context)\u001b[0m\n\u001b[0;32m    747\u001b[0m \u001b[39mdef\u001b[39;00m \u001b[39mdo_execute\u001b[39m(\u001b[39mself\u001b[39m, cursor, statement, parameters, context\u001b[39m=\u001b[39m\u001b[39mNone\u001b[39;00m):\n\u001b[1;32m--> 748\u001b[0m     cursor\u001b[39m.\u001b[39;49mexecute(statement, parameters)\n",
      "\u001b[1;31mOperationalError\u001b[0m: database is locked",
      "\nThe above exception was the direct cause of the following exception:\n",
      "\u001b[1;31mOperationalError\u001b[0m                          Traceback (most recent call last)",
      "Cell \u001b[1;32mIn[39], line 1\u001b[0m\n\u001b[1;32m----> 1\u001b[0m df\u001b[39m.\u001b[39;49mto_sql(con\u001b[39m=\u001b[39;49mengine, name\u001b[39m=\u001b[39;49m\u001b[39m'\u001b[39;49m\u001b[39mfilmesv2\u001b[39;49m\u001b[39m'\u001b[39;49m, if_exists\u001b[39m=\u001b[39;49m\u001b[39m'\u001b[39;49m\u001b[39mreplace\u001b[39;49m\u001b[39m'\u001b[39;49m, index\u001b[39m=\u001b[39;49m\u001b[39mFalse\u001b[39;49;00m)\n",
      "File \u001b[1;32m~\\AppData\\Roaming\\Python\\Python311\\site-packages\\pandas\\core\\generic.py:2987\u001b[0m, in \u001b[0;36mNDFrame.to_sql\u001b[1;34m(self, name, con, schema, if_exists, index, index_label, chunksize, dtype, method)\u001b[0m\n\u001b[0;32m   2830\u001b[0m \u001b[39m\u001b[39m\u001b[39m\"\"\"\u001b[39;00m\n\u001b[0;32m   2831\u001b[0m \u001b[39mWrite records stored in a DataFrame to a SQL database.\u001b[39;00m\n\u001b[0;32m   2832\u001b[0m \n\u001b[1;32m   (...)\u001b[0m\n\u001b[0;32m   2983\u001b[0m \u001b[39m[(1,), (None,), (2,)]\u001b[39;00m\n\u001b[0;32m   2984\u001b[0m \u001b[39m\"\"\"\u001b[39;00m  \u001b[39m# noqa:E501\u001b[39;00m\n\u001b[0;32m   2985\u001b[0m \u001b[39mfrom\u001b[39;00m \u001b[39mpandas\u001b[39;00m\u001b[39m.\u001b[39;00m\u001b[39mio\u001b[39;00m \u001b[39mimport\u001b[39;00m sql\n\u001b[1;32m-> 2987\u001b[0m \u001b[39mreturn\u001b[39;00m sql\u001b[39m.\u001b[39;49mto_sql(\n\u001b[0;32m   2988\u001b[0m     \u001b[39mself\u001b[39;49m,\n\u001b[0;32m   2989\u001b[0m     name,\n\u001b[0;32m   2990\u001b[0m     con,\n\u001b[0;32m   2991\u001b[0m     schema\u001b[39m=\u001b[39;49mschema,\n\u001b[0;32m   2992\u001b[0m     if_exists\u001b[39m=\u001b[39;49mif_exists,\n\u001b[0;32m   2993\u001b[0m     index\u001b[39m=\u001b[39;49mindex,\n\u001b[0;32m   2994\u001b[0m     index_label\u001b[39m=\u001b[39;49mindex_label,\n\u001b[0;32m   2995\u001b[0m     chunksize\u001b[39m=\u001b[39;49mchunksize,\n\u001b[0;32m   2996\u001b[0m     dtype\u001b[39m=\u001b[39;49mdtype,\n\u001b[0;32m   2997\u001b[0m     method\u001b[39m=\u001b[39;49mmethod,\n\u001b[0;32m   2998\u001b[0m )\n",
      "File \u001b[1;32m~\\AppData\\Roaming\\Python\\Python311\\site-packages\\pandas\\io\\sql.py:695\u001b[0m, in \u001b[0;36mto_sql\u001b[1;34m(frame, name, con, schema, if_exists, index, index_label, chunksize, dtype, method, engine, **engine_kwargs)\u001b[0m\n\u001b[0;32m    690\u001b[0m \u001b[39melif\u001b[39;00m \u001b[39mnot\u001b[39;00m \u001b[39misinstance\u001b[39m(frame, DataFrame):\n\u001b[0;32m    691\u001b[0m     \u001b[39mraise\u001b[39;00m \u001b[39mNotImplementedError\u001b[39;00m(\n\u001b[0;32m    692\u001b[0m         \u001b[39m\"\u001b[39m\u001b[39m'\u001b[39m\u001b[39mframe\u001b[39m\u001b[39m'\u001b[39m\u001b[39m argument should be either a Series or a DataFrame\u001b[39m\u001b[39m\"\u001b[39m\n\u001b[0;32m    693\u001b[0m     )\n\u001b[1;32m--> 695\u001b[0m \u001b[39mreturn\u001b[39;00m pandas_sql\u001b[39m.\u001b[39;49mto_sql(\n\u001b[0;32m    696\u001b[0m     frame,\n\u001b[0;32m    697\u001b[0m     name,\n\u001b[0;32m    698\u001b[0m     if_exists\u001b[39m=\u001b[39;49mif_exists,\n\u001b[0;32m    699\u001b[0m     index\u001b[39m=\u001b[39;49mindex,\n\u001b[0;32m    700\u001b[0m     index_label\u001b[39m=\u001b[39;49mindex_label,\n\u001b[0;32m    701\u001b[0m     schema\u001b[39m=\u001b[39;49mschema,\n\u001b[0;32m    702\u001b[0m     chunksize\u001b[39m=\u001b[39;49mchunksize,\n\u001b[0;32m    703\u001b[0m     dtype\u001b[39m=\u001b[39;49mdtype,\n\u001b[0;32m    704\u001b[0m     method\u001b[39m=\u001b[39;49mmethod,\n\u001b[0;32m    705\u001b[0m     engine\u001b[39m=\u001b[39;49mengine,\n\u001b[0;32m    706\u001b[0m     \u001b[39m*\u001b[39;49m\u001b[39m*\u001b[39;49mengine_kwargs,\n\u001b[0;32m    707\u001b[0m )\n",
      "File \u001b[1;32m~\\AppData\\Roaming\\Python\\Python311\\site-packages\\pandas\\io\\sql.py:1728\u001b[0m, in \u001b[0;36mSQLDatabase.to_sql\u001b[1;34m(self, frame, name, if_exists, index, index_label, schema, chunksize, dtype, method, engine, **engine_kwargs)\u001b[0m\n\u001b[0;32m   1678\u001b[0m \u001b[39m\u001b[39m\u001b[39m\"\"\"\u001b[39;00m\n\u001b[0;32m   1679\u001b[0m \u001b[39mWrite records stored in a DataFrame to a SQL database.\u001b[39;00m\n\u001b[0;32m   1680\u001b[0m \n\u001b[1;32m   (...)\u001b[0m\n\u001b[0;32m   1724\u001b[0m \u001b[39m    Any additional kwargs are passed to the engine.\u001b[39;00m\n\u001b[0;32m   1725\u001b[0m \u001b[39m\"\"\"\u001b[39;00m\n\u001b[0;32m   1726\u001b[0m sql_engine \u001b[39m=\u001b[39m get_engine(engine)\n\u001b[1;32m-> 1728\u001b[0m table \u001b[39m=\u001b[39m \u001b[39mself\u001b[39;49m\u001b[39m.\u001b[39;49mprep_table(\n\u001b[0;32m   1729\u001b[0m     frame\u001b[39m=\u001b[39;49mframe,\n\u001b[0;32m   1730\u001b[0m     name\u001b[39m=\u001b[39;49mname,\n\u001b[0;32m   1731\u001b[0m     if_exists\u001b[39m=\u001b[39;49mif_exists,\n\u001b[0;32m   1732\u001b[0m     index\u001b[39m=\u001b[39;49mindex,\n\u001b[0;32m   1733\u001b[0m     index_label\u001b[39m=\u001b[39;49mindex_label,\n\u001b[0;32m   1734\u001b[0m     schema\u001b[39m=\u001b[39;49mschema,\n\u001b[0;32m   1735\u001b[0m     dtype\u001b[39m=\u001b[39;49mdtype,\n\u001b[0;32m   1736\u001b[0m )\n\u001b[0;32m   1738\u001b[0m total_inserted \u001b[39m=\u001b[39m sql_engine\u001b[39m.\u001b[39minsert_records(\n\u001b[0;32m   1739\u001b[0m     table\u001b[39m=\u001b[39mtable,\n\u001b[0;32m   1740\u001b[0m     con\u001b[39m=\u001b[39m\u001b[39mself\u001b[39m\u001b[39m.\u001b[39mconnectable,\n\u001b[1;32m   (...)\u001b[0m\n\u001b[0;32m   1747\u001b[0m     \u001b[39m*\u001b[39m\u001b[39m*\u001b[39mengine_kwargs,\n\u001b[0;32m   1748\u001b[0m )\n\u001b[0;32m   1750\u001b[0m \u001b[39mself\u001b[39m\u001b[39m.\u001b[39mcheck_case_sensitive(name\u001b[39m=\u001b[39mname, schema\u001b[39m=\u001b[39mschema)\n",
      "File \u001b[1;32m~\\AppData\\Roaming\\Python\\Python311\\site-packages\\pandas\\io\\sql.py:1631\u001b[0m, in \u001b[0;36mSQLDatabase.prep_table\u001b[1;34m(self, frame, name, if_exists, index, index_label, schema, dtype)\u001b[0m\n\u001b[0;32m   1619\u001b[0m             \u001b[39mraise\u001b[39;00m \u001b[39mValueError\u001b[39;00m(\u001b[39mf\u001b[39m\u001b[39m\"\u001b[39m\u001b[39mThe type of \u001b[39m\u001b[39m{\u001b[39;00mcol\u001b[39m}\u001b[39;00m\u001b[39m is not a SQLAlchemy type\u001b[39m\u001b[39m\"\u001b[39m)\n\u001b[0;32m   1621\u001b[0m table \u001b[39m=\u001b[39m SQLTable(\n\u001b[0;32m   1622\u001b[0m     name,\n\u001b[0;32m   1623\u001b[0m     \u001b[39mself\u001b[39m,\n\u001b[1;32m   (...)\u001b[0m\n\u001b[0;32m   1629\u001b[0m     dtype\u001b[39m=\u001b[39mdtype,\n\u001b[0;32m   1630\u001b[0m )\n\u001b[1;32m-> 1631\u001b[0m table\u001b[39m.\u001b[39;49mcreate()\n\u001b[0;32m   1632\u001b[0m \u001b[39mreturn\u001b[39;00m table\n",
      "File \u001b[1;32m~\\AppData\\Roaming\\Python\\Python311\\site-packages\\pandas\\io\\sql.py:838\u001b[0m, in \u001b[0;36mSQLTable.create\u001b[1;34m(self)\u001b[0m\n\u001b[0;32m    836\u001b[0m         \u001b[39mraise\u001b[39;00m \u001b[39mValueError\u001b[39;00m(\u001b[39mf\u001b[39m\u001b[39m\"\u001b[39m\u001b[39m'\u001b[39m\u001b[39m{\u001b[39;00m\u001b[39mself\u001b[39m\u001b[39m.\u001b[39mif_exists\u001b[39m}\u001b[39;00m\u001b[39m'\u001b[39m\u001b[39m is not valid for if_exists\u001b[39m\u001b[39m\"\u001b[39m)\n\u001b[0;32m    837\u001b[0m \u001b[39melse\u001b[39;00m:\n\u001b[1;32m--> 838\u001b[0m     \u001b[39mself\u001b[39;49m\u001b[39m.\u001b[39;49m_execute_create()\n",
      "File \u001b[1;32m~\\AppData\\Roaming\\Python\\Python311\\site-packages\\pandas\\io\\sql.py:824\u001b[0m, in \u001b[0;36mSQLTable._execute_create\u001b[1;34m(self)\u001b[0m\n\u001b[0;32m    821\u001b[0m \u001b[39mdef\u001b[39;00m \u001b[39m_execute_create\u001b[39m(\u001b[39mself\u001b[39m):\n\u001b[0;32m    822\u001b[0m     \u001b[39m# Inserting table into database, add to MetaData object\u001b[39;00m\n\u001b[0;32m    823\u001b[0m     \u001b[39mself\u001b[39m\u001b[39m.\u001b[39mtable \u001b[39m=\u001b[39m \u001b[39mself\u001b[39m\u001b[39m.\u001b[39mtable\u001b[39m.\u001b[39mto_metadata(\u001b[39mself\u001b[39m\u001b[39m.\u001b[39mpd_sql\u001b[39m.\u001b[39mmeta)\n\u001b[1;32m--> 824\u001b[0m     \u001b[39mself\u001b[39;49m\u001b[39m.\u001b[39;49mtable\u001b[39m.\u001b[39;49mcreate(bind\u001b[39m=\u001b[39;49m\u001b[39mself\u001b[39;49m\u001b[39m.\u001b[39;49mpd_sql\u001b[39m.\u001b[39;49mconnectable)\n",
      "File \u001b[1;32m~\\AppData\\Roaming\\Python\\Python311\\site-packages\\sqlalchemy\\sql\\schema.py:1149\u001b[0m, in \u001b[0;36mTable.create\u001b[1;34m(self, bind, checkfirst)\u001b[0m\n\u001b[0;32m   1137\u001b[0m \u001b[39mdef\u001b[39;00m \u001b[39mcreate\u001b[39m(\u001b[39mself\u001b[39m, bind: _CreateDropBind, checkfirst: \u001b[39mbool\u001b[39m \u001b[39m=\u001b[39m \u001b[39mFalse\u001b[39;00m) \u001b[39m-\u001b[39m\u001b[39m>\u001b[39m \u001b[39mNone\u001b[39;00m:\n\u001b[0;32m   1138\u001b[0m \u001b[39m    \u001b[39m\u001b[39m\"\"\"Issue a ``CREATE`` statement for this\u001b[39;00m\n\u001b[0;32m   1139\u001b[0m \u001b[39m    :class:`_schema.Table`, using the given\u001b[39;00m\n\u001b[0;32m   1140\u001b[0m \u001b[39m    :class:`.Connection` or :class:`.Engine`\u001b[39;00m\n\u001b[1;32m   (...)\u001b[0m\n\u001b[0;32m   1146\u001b[0m \n\u001b[0;32m   1147\u001b[0m \u001b[39m    \"\"\"\u001b[39;00m\n\u001b[1;32m-> 1149\u001b[0m     bind\u001b[39m.\u001b[39;49m_run_ddl_visitor(ddl\u001b[39m.\u001b[39;49mSchemaGenerator, \u001b[39mself\u001b[39;49m, checkfirst\u001b[39m=\u001b[39;49mcheckfirst)\n",
      "File \u001b[1;32m~\\AppData\\Roaming\\Python\\Python311\\site-packages\\sqlalchemy\\engine\\base.py:3226\u001b[0m, in \u001b[0;36mEngine._run_ddl_visitor\u001b[1;34m(self, visitorcallable, element, **kwargs)\u001b[0m\n\u001b[0;32m   3219\u001b[0m \u001b[39mdef\u001b[39;00m \u001b[39m_run_ddl_visitor\u001b[39m(\n\u001b[0;32m   3220\u001b[0m     \u001b[39mself\u001b[39m,\n\u001b[0;32m   3221\u001b[0m     visitorcallable: Type[Union[SchemaGenerator, SchemaDropper]],\n\u001b[0;32m   3222\u001b[0m     element: SchemaItem,\n\u001b[0;32m   3223\u001b[0m     \u001b[39m*\u001b[39m\u001b[39m*\u001b[39mkwargs: Any,\n\u001b[0;32m   3224\u001b[0m ) \u001b[39m-\u001b[39m\u001b[39m>\u001b[39m \u001b[39mNone\u001b[39;00m:\n\u001b[0;32m   3225\u001b[0m     \u001b[39mwith\u001b[39;00m \u001b[39mself\u001b[39m\u001b[39m.\u001b[39mbegin() \u001b[39mas\u001b[39;00m conn:\n\u001b[1;32m-> 3226\u001b[0m         conn\u001b[39m.\u001b[39;49m_run_ddl_visitor(visitorcallable, element, \u001b[39m*\u001b[39;49m\u001b[39m*\u001b[39;49mkwargs)\n",
      "File \u001b[1;32m~\\AppData\\Roaming\\Python\\Python311\\site-packages\\sqlalchemy\\engine\\base.py:2430\u001b[0m, in \u001b[0;36mConnection._run_ddl_visitor\u001b[1;34m(self, visitorcallable, element, **kwargs)\u001b[0m\n\u001b[0;32m   2418\u001b[0m \u001b[39mdef\u001b[39;00m \u001b[39m_run_ddl_visitor\u001b[39m(\n\u001b[0;32m   2419\u001b[0m     \u001b[39mself\u001b[39m,\n\u001b[0;32m   2420\u001b[0m     visitorcallable: Type[Union[SchemaGenerator, SchemaDropper]],\n\u001b[0;32m   2421\u001b[0m     element: SchemaItem,\n\u001b[0;32m   2422\u001b[0m     \u001b[39m*\u001b[39m\u001b[39m*\u001b[39mkwargs: Any,\n\u001b[0;32m   2423\u001b[0m ) \u001b[39m-\u001b[39m\u001b[39m>\u001b[39m \u001b[39mNone\u001b[39;00m:\n\u001b[0;32m   2424\u001b[0m \u001b[39m    \u001b[39m\u001b[39m\"\"\"run a DDL visitor.\u001b[39;00m\n\u001b[0;32m   2425\u001b[0m \n\u001b[0;32m   2426\u001b[0m \u001b[39m    This method is only here so that the MockConnection can change the\u001b[39;00m\n\u001b[0;32m   2427\u001b[0m \u001b[39m    options given to the visitor so that \"checkfirst\" is skipped.\u001b[39;00m\n\u001b[0;32m   2428\u001b[0m \n\u001b[0;32m   2429\u001b[0m \u001b[39m    \"\"\"\u001b[39;00m\n\u001b[1;32m-> 2430\u001b[0m     visitorcallable(\u001b[39mself\u001b[39;49m\u001b[39m.\u001b[39;49mdialect, \u001b[39mself\u001b[39;49m, \u001b[39m*\u001b[39;49m\u001b[39m*\u001b[39;49mkwargs)\u001b[39m.\u001b[39;49mtraverse_single(element)\n",
      "File \u001b[1;32m~\\AppData\\Roaming\\Python\\Python311\\site-packages\\sqlalchemy\\sql\\visitors.py:670\u001b[0m, in \u001b[0;36mExternalTraversal.traverse_single\u001b[1;34m(self, obj, **kw)\u001b[0m\n\u001b[0;32m    668\u001b[0m meth \u001b[39m=\u001b[39m \u001b[39mgetattr\u001b[39m(v, \u001b[39m\"\u001b[39m\u001b[39mvisit_\u001b[39m\u001b[39m%s\u001b[39;00m\u001b[39m\"\u001b[39m \u001b[39m%\u001b[39m obj\u001b[39m.\u001b[39m__visit_name__, \u001b[39mNone\u001b[39;00m)\n\u001b[0;32m    669\u001b[0m \u001b[39mif\u001b[39;00m meth:\n\u001b[1;32m--> 670\u001b[0m     \u001b[39mreturn\u001b[39;00m meth(obj, \u001b[39m*\u001b[39;49m\u001b[39m*\u001b[39;49mkw)\n",
      "File \u001b[1;32m~\\AppData\\Roaming\\Python\\Python311\\site-packages\\sqlalchemy\\sql\\ddl.py:963\u001b[0m, in \u001b[0;36mSchemaGenerator.visit_table\u001b[1;34m(self, table, create_ok, include_foreign_key_constraints, _is_metadata_operation)\u001b[0m\n\u001b[0;32m    954\u001b[0m \u001b[39mif\u001b[39;00m \u001b[39mnot\u001b[39;00m \u001b[39mself\u001b[39m\u001b[39m.\u001b[39mdialect\u001b[39m.\u001b[39msupports_alter:\n\u001b[0;32m    955\u001b[0m     \u001b[39m# e.g., don't omit any foreign key constraints\u001b[39;00m\n\u001b[0;32m    956\u001b[0m     include_foreign_key_constraints \u001b[39m=\u001b[39m \u001b[39mNone\u001b[39;00m\n\u001b[0;32m    958\u001b[0m CreateTable(\n\u001b[0;32m    959\u001b[0m     table,\n\u001b[0;32m    960\u001b[0m     include_foreign_key_constraints\u001b[39m=\u001b[39;49m(\n\u001b[0;32m    961\u001b[0m         include_foreign_key_constraints\n\u001b[0;32m    962\u001b[0m     ),\n\u001b[1;32m--> 963\u001b[0m )\u001b[39m.\u001b[39;49m_invoke_with(\u001b[39mself\u001b[39;49m\u001b[39m.\u001b[39;49mconnection)\n\u001b[0;32m    965\u001b[0m \u001b[39mif\u001b[39;00m \u001b[39mhasattr\u001b[39m(table, \u001b[39m\"\u001b[39m\u001b[39mindexes\u001b[39m\u001b[39m\"\u001b[39m):\n\u001b[0;32m    966\u001b[0m     \u001b[39mfor\u001b[39;00m index \u001b[39min\u001b[39;00m table\u001b[39m.\u001b[39mindexes:\n",
      "File \u001b[1;32m~\\AppData\\Roaming\\Python\\Python311\\site-packages\\sqlalchemy\\sql\\ddl.py:315\u001b[0m, in \u001b[0;36mExecutableDDLElement._invoke_with\u001b[1;34m(self, bind)\u001b[0m\n\u001b[0;32m    313\u001b[0m \u001b[39mdef\u001b[39;00m \u001b[39m_invoke_with\u001b[39m(\u001b[39mself\u001b[39m, bind):\n\u001b[0;32m    314\u001b[0m     \u001b[39mif\u001b[39;00m \u001b[39mself\u001b[39m\u001b[39m.\u001b[39m_should_execute(\u001b[39mself\u001b[39m\u001b[39m.\u001b[39mtarget, bind):\n\u001b[1;32m--> 315\u001b[0m         \u001b[39mreturn\u001b[39;00m bind\u001b[39m.\u001b[39;49mexecute(\u001b[39mself\u001b[39;49m)\n",
      "File \u001b[1;32m~\\AppData\\Roaming\\Python\\Python311\\site-packages\\sqlalchemy\\engine\\base.py:1414\u001b[0m, in \u001b[0;36mConnection.execute\u001b[1;34m(self, statement, parameters, execution_options)\u001b[0m\n\u001b[0;32m   1412\u001b[0m     \u001b[39mraise\u001b[39;00m exc\u001b[39m.\u001b[39mObjectNotExecutableError(statement) \u001b[39mfrom\u001b[39;00m \u001b[39merr\u001b[39;00m\n\u001b[0;32m   1413\u001b[0m \u001b[39melse\u001b[39;00m:\n\u001b[1;32m-> 1414\u001b[0m     \u001b[39mreturn\u001b[39;00m meth(\n\u001b[0;32m   1415\u001b[0m         \u001b[39mself\u001b[39;49m,\n\u001b[0;32m   1416\u001b[0m         distilled_parameters,\n\u001b[0;32m   1417\u001b[0m         execution_options \u001b[39mor\u001b[39;49;00m NO_OPTIONS,\n\u001b[0;32m   1418\u001b[0m     )\n",
      "File \u001b[1;32m~\\AppData\\Roaming\\Python\\Python311\\site-packages\\sqlalchemy\\sql\\ddl.py:181\u001b[0m, in \u001b[0;36mExecutableDDLElement._execute_on_connection\u001b[1;34m(self, connection, distilled_params, execution_options)\u001b[0m\n\u001b[0;32m    178\u001b[0m \u001b[39mdef\u001b[39;00m \u001b[39m_execute_on_connection\u001b[39m(\n\u001b[0;32m    179\u001b[0m     \u001b[39mself\u001b[39m, connection, distilled_params, execution_options\n\u001b[0;32m    180\u001b[0m ):\n\u001b[1;32m--> 181\u001b[0m     \u001b[39mreturn\u001b[39;00m connection\u001b[39m.\u001b[39;49m_execute_ddl(\n\u001b[0;32m    182\u001b[0m         \u001b[39mself\u001b[39;49m, distilled_params, execution_options\n\u001b[0;32m    183\u001b[0m     )\n",
      "File \u001b[1;32m~\\AppData\\Roaming\\Python\\Python311\\site-packages\\sqlalchemy\\engine\\base.py:1526\u001b[0m, in \u001b[0;36mConnection._execute_ddl\u001b[1;34m(self, ddl, distilled_parameters, execution_options)\u001b[0m\n\u001b[0;32m   1521\u001b[0m dialect \u001b[39m=\u001b[39m \u001b[39mself\u001b[39m\u001b[39m.\u001b[39mdialect\n\u001b[0;32m   1523\u001b[0m compiled \u001b[39m=\u001b[39m ddl\u001b[39m.\u001b[39mcompile(\n\u001b[0;32m   1524\u001b[0m     dialect\u001b[39m=\u001b[39mdialect, schema_translate_map\u001b[39m=\u001b[39mschema_translate_map\n\u001b[0;32m   1525\u001b[0m )\n\u001b[1;32m-> 1526\u001b[0m ret \u001b[39m=\u001b[39m \u001b[39mself\u001b[39;49m\u001b[39m.\u001b[39;49m_execute_context(\n\u001b[0;32m   1527\u001b[0m     dialect,\n\u001b[0;32m   1528\u001b[0m     dialect\u001b[39m.\u001b[39;49mexecution_ctx_cls\u001b[39m.\u001b[39;49m_init_ddl,\n\u001b[0;32m   1529\u001b[0m     compiled,\n\u001b[0;32m   1530\u001b[0m     \u001b[39mNone\u001b[39;49;00m,\n\u001b[0;32m   1531\u001b[0m     execution_options,\n\u001b[0;32m   1532\u001b[0m     compiled,\n\u001b[0;32m   1533\u001b[0m )\n\u001b[0;32m   1534\u001b[0m \u001b[39mif\u001b[39;00m \u001b[39mself\u001b[39m\u001b[39m.\u001b[39m_has_events \u001b[39mor\u001b[39;00m \u001b[39mself\u001b[39m\u001b[39m.\u001b[39mengine\u001b[39m.\u001b[39m_has_events:\n\u001b[0;32m   1535\u001b[0m     \u001b[39mself\u001b[39m\u001b[39m.\u001b[39mdispatch\u001b[39m.\u001b[39mafter_execute(\n\u001b[0;32m   1536\u001b[0m         \u001b[39mself\u001b[39m,\n\u001b[0;32m   1537\u001b[0m         ddl,\n\u001b[1;32m   (...)\u001b[0m\n\u001b[0;32m   1541\u001b[0m         ret,\n\u001b[0;32m   1542\u001b[0m     )\n",
      "File \u001b[1;32m~\\AppData\\Roaming\\Python\\Python311\\site-packages\\sqlalchemy\\engine\\base.py:1842\u001b[0m, in \u001b[0;36mConnection._execute_context\u001b[1;34m(self, dialect, constructor, statement, parameters, execution_options, *args, **kw)\u001b[0m\n\u001b[0;32m   1837\u001b[0m     \u001b[39mreturn\u001b[39;00m \u001b[39mself\u001b[39m\u001b[39m.\u001b[39m_exec_insertmany_context(\n\u001b[0;32m   1838\u001b[0m         dialect,\n\u001b[0;32m   1839\u001b[0m         context,\n\u001b[0;32m   1840\u001b[0m     )\n\u001b[0;32m   1841\u001b[0m \u001b[39melse\u001b[39;00m:\n\u001b[1;32m-> 1842\u001b[0m     \u001b[39mreturn\u001b[39;00m \u001b[39mself\u001b[39;49m\u001b[39m.\u001b[39;49m_exec_single_context(\n\u001b[0;32m   1843\u001b[0m         dialect, context, statement, parameters\n\u001b[0;32m   1844\u001b[0m     )\n",
      "File \u001b[1;32m~\\AppData\\Roaming\\Python\\Python311\\site-packages\\sqlalchemy\\engine\\base.py:1983\u001b[0m, in \u001b[0;36mConnection._exec_single_context\u001b[1;34m(self, dialect, context, statement, parameters)\u001b[0m\n\u001b[0;32m   1980\u001b[0m     result \u001b[39m=\u001b[39m context\u001b[39m.\u001b[39m_setup_result_proxy()\n\u001b[0;32m   1982\u001b[0m \u001b[39mexcept\u001b[39;00m \u001b[39mBaseException\u001b[39;00m \u001b[39mas\u001b[39;00m e:\n\u001b[1;32m-> 1983\u001b[0m     \u001b[39mself\u001b[39;49m\u001b[39m.\u001b[39;49m_handle_dbapi_exception(\n\u001b[0;32m   1984\u001b[0m         e, str_statement, effective_parameters, cursor, context\n\u001b[0;32m   1985\u001b[0m     )\n\u001b[0;32m   1987\u001b[0m \u001b[39mreturn\u001b[39;00m result\n",
      "File \u001b[1;32m~\\AppData\\Roaming\\Python\\Python311\\site-packages\\sqlalchemy\\engine\\base.py:2326\u001b[0m, in \u001b[0;36mConnection._handle_dbapi_exception\u001b[1;34m(self, e, statement, parameters, cursor, context, is_sub_exec)\u001b[0m\n\u001b[0;32m   2324\u001b[0m \u001b[39melif\u001b[39;00m should_wrap:\n\u001b[0;32m   2325\u001b[0m     \u001b[39massert\u001b[39;00m sqlalchemy_exception \u001b[39mis\u001b[39;00m \u001b[39mnot\u001b[39;00m \u001b[39mNone\u001b[39;00m\n\u001b[1;32m-> 2326\u001b[0m     \u001b[39mraise\u001b[39;00m sqlalchemy_exception\u001b[39m.\u001b[39mwith_traceback(exc_info[\u001b[39m2\u001b[39m]) \u001b[39mfrom\u001b[39;00m \u001b[39me\u001b[39;00m\n\u001b[0;32m   2327\u001b[0m \u001b[39melse\u001b[39;00m:\n\u001b[0;32m   2328\u001b[0m     \u001b[39massert\u001b[39;00m exc_info[\u001b[39m1\u001b[39m] \u001b[39mis\u001b[39;00m \u001b[39mnot\u001b[39;00m \u001b[39mNone\u001b[39;00m\n",
      "File \u001b[1;32m~\\AppData\\Roaming\\Python\\Python311\\site-packages\\sqlalchemy\\engine\\base.py:1964\u001b[0m, in \u001b[0;36mConnection._exec_single_context\u001b[1;34m(self, dialect, context, statement, parameters)\u001b[0m\n\u001b[0;32m   1962\u001b[0m                 \u001b[39mbreak\u001b[39;00m\n\u001b[0;32m   1963\u001b[0m     \u001b[39mif\u001b[39;00m \u001b[39mnot\u001b[39;00m evt_handled:\n\u001b[1;32m-> 1964\u001b[0m         \u001b[39mself\u001b[39;49m\u001b[39m.\u001b[39;49mdialect\u001b[39m.\u001b[39;49mdo_execute(\n\u001b[0;32m   1965\u001b[0m             cursor, str_statement, effective_parameters, context\n\u001b[0;32m   1966\u001b[0m         )\n\u001b[0;32m   1968\u001b[0m \u001b[39mif\u001b[39;00m \u001b[39mself\u001b[39m\u001b[39m.\u001b[39m_has_events \u001b[39mor\u001b[39;00m \u001b[39mself\u001b[39m\u001b[39m.\u001b[39mengine\u001b[39m.\u001b[39m_has_events:\n\u001b[0;32m   1969\u001b[0m     \u001b[39mself\u001b[39m\u001b[39m.\u001b[39mdispatch\u001b[39m.\u001b[39mafter_cursor_execute(\n\u001b[0;32m   1970\u001b[0m         \u001b[39mself\u001b[39m,\n\u001b[0;32m   1971\u001b[0m         cursor,\n\u001b[1;32m   (...)\u001b[0m\n\u001b[0;32m   1975\u001b[0m         context\u001b[39m.\u001b[39mexecutemany,\n\u001b[0;32m   1976\u001b[0m     )\n",
      "File \u001b[1;32m~\\AppData\\Roaming\\Python\\Python311\\site-packages\\sqlalchemy\\engine\\default.py:748\u001b[0m, in \u001b[0;36mDefaultDialect.do_execute\u001b[1;34m(self, cursor, statement, parameters, context)\u001b[0m\n\u001b[0;32m    747\u001b[0m \u001b[39mdef\u001b[39;00m \u001b[39mdo_execute\u001b[39m(\u001b[39mself\u001b[39m, cursor, statement, parameters, context\u001b[39m=\u001b[39m\u001b[39mNone\u001b[39;00m):\n\u001b[1;32m--> 748\u001b[0m     cursor\u001b[39m.\u001b[39;49mexecute(statement, parameters)\n",
      "\u001b[1;31mOperationalError\u001b[0m: (sqlite3.OperationalError) database is locked\n[SQL: \nCREATE TABLE filmesv2 (\n\t\"Id\" BIGINT, \n\t\"Name\" TEXT, \n\t\"Rating\" FLOAT, \n\t\"Ano\" BIGINT\n)\n\n]\n(Background on this error at: https://sqlalche.me/e/20/e3q8)"
     ]
    }
   ],
   "source": [
    "df.to_sql(con=engine, name='filmesv2', if_exists='replace', index=False)"
   ]
  },
  {
   "cell_type": "code",
   "execution_count": 33,
   "metadata": {},
   "outputs": [],
   "source": [
    "df = pd.read_csv('bancofilmesv2.csv', sep=';')"
   ]
  },
  {
   "cell_type": "code",
   "execution_count": 38,
   "metadata": {},
   "outputs": [
    {
     "ename": "TypeError",
     "evalue": "Additional arguments should be named <dialectname>_<argument>, got 'autoload'",
     "output_type": "error",
     "traceback": [
      "\u001b[1;31m---------------------------------------------------------------------------\u001b[0m",
      "\u001b[1;31mTypeError\u001b[0m                                 Traceback (most recent call last)",
      "Cell \u001b[1;32mIn[38], line 3\u001b[0m\n\u001b[0;32m      1\u001b[0m conn2 \u001b[39m=\u001b[39m engine\u001b[39m.\u001b[39mconnect()\n\u001b[0;32m      2\u001b[0m metadata2 \u001b[39m=\u001b[39m db\u001b[39m.\u001b[39mMetaData()\n\u001b[1;32m----> 3\u001b[0m bdfilmes2 \u001b[39m=\u001b[39m db\u001b[39m.\u001b[39;49mTable(\u001b[39m'\u001b[39;49m\u001b[39mfilmesv2\u001b[39;49m\u001b[39m'\u001b[39;49m, metadata2, autoload\u001b[39m=\u001b[39;49m\u001b[39mTrue\u001b[39;49;00m, autoload_with\u001b[39m=\u001b[39;49mengine)\n",
      "File \u001b[1;32m<string>:2\u001b[0m, in \u001b[0;36m__new__\u001b[1;34m(cls, *args, **kw)\u001b[0m\n",
      "File \u001b[1;32m~\\AppData\\Roaming\\Python\\Python311\\site-packages\\sqlalchemy\\util\\deprecations.py:277\u001b[0m, in \u001b[0;36mdeprecated_params.<locals>.decorate.<locals>.warned\u001b[1;34m(fn, *args, **kwargs)\u001b[0m\n\u001b[0;32m    270\u001b[0m     \u001b[39mif\u001b[39;00m m \u001b[39min\u001b[39;00m kwargs:\n\u001b[0;32m    271\u001b[0m         _warn_with_version(\n\u001b[0;32m    272\u001b[0m             messages[m],\n\u001b[0;32m    273\u001b[0m             versions[m],\n\u001b[0;32m    274\u001b[0m             version_warnings[m],\n\u001b[0;32m    275\u001b[0m             stacklevel\u001b[39m=\u001b[39m\u001b[39m3\u001b[39m,\n\u001b[0;32m    276\u001b[0m         )\n\u001b[1;32m--> 277\u001b[0m \u001b[39mreturn\u001b[39;00m fn(\u001b[39m*\u001b[39;49margs, \u001b[39m*\u001b[39;49m\u001b[39m*\u001b[39;49mkwargs)\n",
      "File \u001b[1;32m~\\AppData\\Roaming\\Python\\Python311\\site-packages\\sqlalchemy\\sql\\schema.py:428\u001b[0m, in \u001b[0;36mTable.__new__\u001b[1;34m(cls, *args, **kw)\u001b[0m\n\u001b[0;32m    421\u001b[0m \u001b[39m@util\u001b[39m\u001b[39m.\u001b[39mdeprecated_params(\n\u001b[0;32m    422\u001b[0m     mustexist\u001b[39m=\u001b[39m(\n\u001b[0;32m    423\u001b[0m         \u001b[39m\"\u001b[39m\u001b[39m1.4\u001b[39m\u001b[39m\"\u001b[39m,\n\u001b[1;32m   (...)\u001b[0m\n\u001b[0;32m    426\u001b[0m )\n\u001b[0;32m    427\u001b[0m \u001b[39mdef\u001b[39;00m \u001b[39m__new__\u001b[39m(\u001b[39mcls\u001b[39m, \u001b[39m*\u001b[39margs: Any, \u001b[39m*\u001b[39m\u001b[39m*\u001b[39mkw: Any) \u001b[39m-\u001b[39m\u001b[39m>\u001b[39m Any:\n\u001b[1;32m--> 428\u001b[0m     \u001b[39mreturn\u001b[39;00m \u001b[39mcls\u001b[39;49m\u001b[39m.\u001b[39;49m_new(\u001b[39m*\u001b[39;49margs, \u001b[39m*\u001b[39;49m\u001b[39m*\u001b[39;49mkw)\n",
      "File \u001b[1;32m~\\AppData\\Roaming\\Python\\Python311\\site-packages\\sqlalchemy\\sql\\schema.py:482\u001b[0m, in \u001b[0;36mTable._new\u001b[1;34m(cls, *args, **kw)\u001b[0m\n\u001b[0;32m    480\u001b[0m     \u001b[39mreturn\u001b[39;00m table\n\u001b[0;32m    481\u001b[0m \u001b[39mexcept\u001b[39;00m \u001b[39mException\u001b[39;00m:\n\u001b[1;32m--> 482\u001b[0m     \u001b[39mwith\u001b[39;49;00m util\u001b[39m.\u001b[39;49msafe_reraise():\n\u001b[0;32m    483\u001b[0m         metadata\u001b[39m.\u001b[39;49m_remove_table(name, schema)\n",
      "File \u001b[1;32m~\\AppData\\Roaming\\Python\\Python311\\site-packages\\sqlalchemy\\util\\langhelpers.py:147\u001b[0m, in \u001b[0;36msafe_reraise.__exit__\u001b[1;34m(self, type_, value, traceback)\u001b[0m\n\u001b[0;32m    145\u001b[0m     \u001b[39massert\u001b[39;00m exc_value \u001b[39mis\u001b[39;00m \u001b[39mnot\u001b[39;00m \u001b[39mNone\u001b[39;00m\n\u001b[0;32m    146\u001b[0m     \u001b[39mself\u001b[39m\u001b[39m.\u001b[39m_exc_info \u001b[39m=\u001b[39m \u001b[39mNone\u001b[39;00m  \u001b[39m# remove potential circular references\u001b[39;00m\n\u001b[1;32m--> 147\u001b[0m     \u001b[39mraise\u001b[39;00m exc_value\u001b[39m.\u001b[39mwith_traceback(exc_tb)\n\u001b[0;32m    148\u001b[0m \u001b[39melse\u001b[39;00m:\n\u001b[0;32m    149\u001b[0m     \u001b[39mself\u001b[39m\u001b[39m.\u001b[39m_exc_info \u001b[39m=\u001b[39m \u001b[39mNone\u001b[39;00m  \u001b[39m# remove potential circular references\u001b[39;00m\n",
      "File \u001b[1;32m~\\AppData\\Roaming\\Python\\Python311\\site-packages\\sqlalchemy\\sql\\schema.py:478\u001b[0m, in \u001b[0;36mTable._new\u001b[1;34m(cls, *args, **kw)\u001b[0m\n\u001b[0;32m    476\u001b[0m metadata\u001b[39m.\u001b[39m_add_table(name, schema, table)\n\u001b[0;32m    477\u001b[0m \u001b[39mtry\u001b[39;00m:\n\u001b[1;32m--> 478\u001b[0m     table\u001b[39m.\u001b[39;49m\u001b[39m__init__\u001b[39;49m(name, metadata, \u001b[39m*\u001b[39;49margs, _no_init\u001b[39m=\u001b[39;49m\u001b[39mFalse\u001b[39;49;00m, \u001b[39m*\u001b[39;49m\u001b[39m*\u001b[39;49mkw)\n\u001b[0;32m    479\u001b[0m     table\u001b[39m.\u001b[39mdispatch\u001b[39m.\u001b[39mafter_parent_attach(table, metadata)\n\u001b[0;32m    480\u001b[0m     \u001b[39mreturn\u001b[39;00m table\n",
      "File \u001b[1;32m~\\AppData\\Roaming\\Python\\Python311\\site-packages\\sqlalchemy\\sql\\schema.py:848\u001b[0m, in \u001b[0;36mTable.__init__\u001b[1;34m(self, name, metadata, schema, quote, quote_schema, autoload_with, autoload_replace, keep_existing, extend_existing, resolve_fks, include_columns, implicit_returning, comment, info, listeners, prefixes, _extend_on, _no_init, *args, **kw)\u001b[0m\n\u001b[0;32m    844\u001b[0m         event\u001b[39m.\u001b[39mlisten(\u001b[39mself\u001b[39m, evt, fn)\n\u001b[0;32m    846\u001b[0m \u001b[39mself\u001b[39m\u001b[39m.\u001b[39m_prefixes \u001b[39m=\u001b[39m prefixes \u001b[39mif\u001b[39;00m prefixes \u001b[39melse\u001b[39;00m []\n\u001b[1;32m--> 848\u001b[0m \u001b[39mself\u001b[39;49m\u001b[39m.\u001b[39;49m_extra_kwargs(\u001b[39m*\u001b[39;49m\u001b[39m*\u001b[39;49mkw)\n\u001b[0;32m    850\u001b[0m \u001b[39m# load column definitions from the database if 'autoload' is defined\u001b[39;00m\n\u001b[0;32m    851\u001b[0m \u001b[39m# we do it after the table is in the singleton dictionary to support\u001b[39;00m\n\u001b[0;32m    852\u001b[0m \u001b[39m# circular foreign keys\u001b[39;00m\n\u001b[0;32m    853\u001b[0m \u001b[39mif\u001b[39;00m autoload_with \u001b[39mis\u001b[39;00m \u001b[39mnot\u001b[39;00m \u001b[39mNone\u001b[39;00m:\n",
      "File \u001b[1;32m~\\AppData\\Roaming\\Python\\Python311\\site-packages\\sqlalchemy\\sql\\schema.py:996\u001b[0m, in \u001b[0;36mTable._extra_kwargs\u001b[1;34m(self, **kwargs)\u001b[0m\n\u001b[0;32m    995\u001b[0m \u001b[39mdef\u001b[39;00m \u001b[39m_extra_kwargs\u001b[39m(\u001b[39mself\u001b[39m, \u001b[39m*\u001b[39m\u001b[39m*\u001b[39mkwargs: Any) \u001b[39m-\u001b[39m\u001b[39m>\u001b[39m \u001b[39mNone\u001b[39;00m:\n\u001b[1;32m--> 996\u001b[0m     \u001b[39mself\u001b[39;49m\u001b[39m.\u001b[39;49m_validate_dialect_kwargs(kwargs)\n",
      "File \u001b[1;32m~\\AppData\\Roaming\\Python\\Python311\\site-packages\\sqlalchemy\\sql\\base.py:562\u001b[0m, in \u001b[0;36mDialectKWArgs._validate_dialect_kwargs\u001b[1;34m(self, kwargs)\u001b[0m\n\u001b[0;32m    560\u001b[0m m \u001b[39m=\u001b[39m re\u001b[39m.\u001b[39mmatch(\u001b[39m\"\u001b[39m\u001b[39m^(.+?)_(.+)$\u001b[39m\u001b[39m\"\u001b[39m, k)\n\u001b[0;32m    561\u001b[0m \u001b[39mif\u001b[39;00m \u001b[39mnot\u001b[39;00m m:\n\u001b[1;32m--> 562\u001b[0m     \u001b[39mraise\u001b[39;00m \u001b[39mTypeError\u001b[39;00m(\n\u001b[0;32m    563\u001b[0m         \u001b[39m\"\u001b[39m\u001b[39mAdditional arguments should be \u001b[39m\u001b[39m\"\u001b[39m\n\u001b[0;32m    564\u001b[0m         \u001b[39m\"\u001b[39m\u001b[39mnamed <dialectname>_<argument>, got \u001b[39m\u001b[39m'\u001b[39m\u001b[39m%s\u001b[39;00m\u001b[39m'\u001b[39m\u001b[39m\"\u001b[39m \u001b[39m%\u001b[39m k\n\u001b[0;32m    565\u001b[0m     )\n\u001b[0;32m    566\u001b[0m dialect_name, arg_name \u001b[39m=\u001b[39m m\u001b[39m.\u001b[39mgroup(\u001b[39m1\u001b[39m, \u001b[39m2\u001b[39m)\n\u001b[0;32m    568\u001b[0m \u001b[39mtry\u001b[39;00m:\n",
      "\u001b[1;31mTypeError\u001b[0m: Additional arguments should be named <dialectname>_<argument>, got 'autoload'"
     ]
    }
   ],
   "source": [
    "conn2 = engine.connect()\n",
    "metadata2 = db.MetaData()\n",
    "bdfilmes2 = db.Table('filmesv2', metadata2, autoload=True, autoload_with=engine)"
   ]
  },
  {
   "cell_type": "code",
   "execution_count": null,
   "metadata": {},
   "outputs": [],
   "source": [
    "query = bdfilmes2.select()\n",
    "exe = conn.execute(query)\n",
    "result = exe.fetchmany(5)\n",
    "for r in result:\n",
    "    print(r)"
   ]
  },
  {
   "attachments": {},
   "cell_type": "markdown",
   "metadata": {},
   "source": [
    "# Outro formato de criação de bancos"
   ]
  },
  {
   "cell_type": "code",
   "execution_count": 40,
   "metadata": {},
   "outputs": [],
   "source": [
    "from sqlalchemy import create_engine, ForeignKey\n",
    "from sqlalchemy import Column, Date, Integer, String\n",
    "from sqlalchemy.ext.declarative import declarative_base"
   ]
  },
  {
   "cell_type": "code",
   "execution_count": 41,
   "metadata": {},
   "outputs": [],
   "source": [
    "engine = db.create_engine(\"sqlite:///..//impacta.db\", echo=True)"
   ]
  },
  {
   "cell_type": "code",
   "execution_count": 42,
   "metadata": {},
   "outputs": [],
   "source": [
    "conn = engine.connect()"
   ]
  },
  {
   "cell_type": "code",
   "execution_count": 43,
   "metadata": {},
   "outputs": [
    {
     "name": "stdout",
     "output_type": "stream",
     "text": [
      "2023-05-25 20:32:06,312 INFO sqlalchemy.engine.Engine BEGIN (implicit)\n",
      "2023-05-25 20:32:06,314 INFO sqlalchemy.engine.Engine COMMIT\n"
     ]
    },
    {
     "name": "stderr",
     "output_type": "stream",
     "text": [
      "C:\\Users\\andre\\AppData\\Local\\Temp\\ipykernel_17760\\2641082970.py:1: MovedIn20Warning: The ``declarative_base()`` function is now available as sqlalchemy.orm.declarative_base(). (deprecated since: 2.0) (Background on SQLAlchemy 2.0 at: https://sqlalche.me/e/b8d9)\n",
      "  Base = declarative_base()\n"
     ]
    }
   ],
   "source": [
    "Base = declarative_base()\n",
    "\n",
    "class School(Base):\n",
    "    __tablename__ = 'impacta'\n",
    "\n",
    "    id = Column(Integer, primary_key = True)\n",
    "    name = Column(String)\n",
    "\n",
    "    def __init__(self, name):\n",
    "        self.name = name\n",
    "\n",
    "    Base.metadata.create_all(engine)"
   ]
  }
 ],
 "metadata": {
  "kernelspec": {
   "display_name": "Python 3",
   "language": "python",
   "name": "python3"
  },
  "language_info": {
   "codemirror_mode": {
    "name": "ipython",
    "version": 3
   },
   "file_extension": ".py",
   "mimetype": "text/x-python",
   "name": "python",
   "nbconvert_exporter": "python",
   "pygments_lexer": "ipython3",
   "version": "3.11.2"
  },
  "orig_nbformat": 4
 },
 "nbformat": 4,
 "nbformat_minor": 2
}
