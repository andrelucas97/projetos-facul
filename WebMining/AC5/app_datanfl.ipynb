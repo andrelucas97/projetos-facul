{
 "cells": [
  {
   "cell_type": "code",
   "execution_count": 1,
   "metadata": {},
   "outputs": [],
   "source": [
    "import pandas as pd\n",
    "import sqlalchemy as db"
   ]
  },
  {
   "cell_type": "code",
   "execution_count": 2,
   "metadata": {},
   "outputs": [],
   "source": [
    "engine = db.create_engine(\"sqlite:///nfl.stats.db\", echo=True)\n",
    "conn = engine.connect()"
   ]
  },
  {
   "cell_type": "code",
   "execution_count": 3,
   "metadata": {},
   "outputs": [],
   "source": [
    "df = pd.read_csv('nfl.stats.csv')"
   ]
  },
  {
   "cell_type": "code",
   "execution_count": 4,
   "metadata": {},
   "outputs": [
    {
     "name": "stdout",
     "output_type": "stream",
     "text": [
      "2023-05-28 10:46:56,315 INFO sqlalchemy.engine.Engine BEGIN (implicit)\n",
      "2023-05-28 10:46:56,316 INFO sqlalchemy.engine.Engine PRAGMA main.table_info(\"nfl_stats\")\n",
      "2023-05-28 10:46:56,316 INFO sqlalchemy.engine.Engine [raw sql] ()\n",
      "2023-05-28 10:46:56,317 INFO sqlalchemy.engine.Engine ROLLBACK\n",
      "2023-05-28 10:46:56,318 INFO sqlalchemy.engine.Engine BEGIN (implicit)\n",
      "2023-05-28 10:46:56,318 INFO sqlalchemy.engine.Engine PRAGMA main.table_info(\"nfl_stats\")\n",
      "2023-05-28 10:46:56,319 INFO sqlalchemy.engine.Engine [raw sql] ()\n",
      "2023-05-28 10:46:56,319 INFO sqlalchemy.engine.Engine ROLLBACK\n",
      "2023-05-28 10:46:56,320 INFO sqlalchemy.engine.Engine BEGIN (implicit)\n",
      "2023-05-28 10:46:56,320 INFO sqlalchemy.engine.Engine SELECT name FROM sqlite_master WHERE type='table' AND name NOT LIKE 'sqlite~_%' ESCAPE '~' ORDER BY name\n",
      "2023-05-28 10:46:56,320 INFO sqlalchemy.engine.Engine [raw sql] ()\n",
      "2023-05-28 10:46:56,321 INFO sqlalchemy.engine.Engine SELECT name FROM sqlite_temp_master WHERE type='table' AND name NOT LIKE 'sqlite~_%' ESCAPE '~' ORDER BY name\n",
      "2023-05-28 10:46:56,321 INFO sqlalchemy.engine.Engine [raw sql] ()\n",
      "2023-05-28 10:46:56,321 INFO sqlalchemy.engine.Engine PRAGMA main.table_xinfo(\"nfl_stats\")\n",
      "2023-05-28 10:46:56,322 INFO sqlalchemy.engine.Engine [raw sql] ()\n",
      "2023-05-28 10:46:56,323 INFO sqlalchemy.engine.Engine SELECT sql FROM  (SELECT * FROM sqlite_master UNION ALL   SELECT * FROM sqlite_temp_master) WHERE name = ? AND type in ('table', 'view')\n",
      "2023-05-28 10:46:56,323 INFO sqlalchemy.engine.Engine [raw sql] ('nfl_stats',)\n",
      "2023-05-28 10:46:56,324 INFO sqlalchemy.engine.Engine PRAGMA main.foreign_key_list(\"nfl_stats\")\n",
      "2023-05-28 10:46:56,324 INFO sqlalchemy.engine.Engine [raw sql] ()\n",
      "2023-05-28 10:46:56,325 INFO sqlalchemy.engine.Engine PRAGMA temp.foreign_key_list(\"nfl_stats\")\n",
      "2023-05-28 10:46:56,325 INFO sqlalchemy.engine.Engine [raw sql] ()\n",
      "2023-05-28 10:46:56,325 INFO sqlalchemy.engine.Engine SELECT sql FROM  (SELECT * FROM sqlite_master UNION ALL   SELECT * FROM sqlite_temp_master) WHERE name = ? AND type in ('table', 'view')\n",
      "2023-05-28 10:46:56,326 INFO sqlalchemy.engine.Engine [raw sql] ('nfl_stats',)\n",
      "2023-05-28 10:46:56,326 INFO sqlalchemy.engine.Engine PRAGMA main.index_list(\"nfl_stats\")\n",
      "2023-05-28 10:46:56,327 INFO sqlalchemy.engine.Engine [raw sql] ()\n",
      "2023-05-28 10:46:56,327 INFO sqlalchemy.engine.Engine PRAGMA temp.index_list(\"nfl_stats\")\n",
      "2023-05-28 10:46:56,327 INFO sqlalchemy.engine.Engine [raw sql] ()\n",
      "2023-05-28 10:46:56,328 INFO sqlalchemy.engine.Engine PRAGMA main.table_info(\"nfl_stats\")\n",
      "2023-05-28 10:46:56,328 INFO sqlalchemy.engine.Engine [raw sql] ()\n",
      "2023-05-28 10:46:56,329 INFO sqlalchemy.engine.Engine PRAGMA main.index_list(\"nfl_stats\")\n",
      "2023-05-28 10:46:56,329 INFO sqlalchemy.engine.Engine [raw sql] ()\n",
      "2023-05-28 10:46:56,329 INFO sqlalchemy.engine.Engine PRAGMA temp.index_list(\"nfl_stats\")\n",
      "2023-05-28 10:46:56,330 INFO sqlalchemy.engine.Engine [raw sql] ()\n",
      "2023-05-28 10:46:56,330 INFO sqlalchemy.engine.Engine PRAGMA main.table_info(\"nfl_stats\")\n",
      "2023-05-28 10:46:56,330 INFO sqlalchemy.engine.Engine [raw sql] ()\n",
      "2023-05-28 10:46:56,331 INFO sqlalchemy.engine.Engine SELECT sql FROM  (SELECT * FROM sqlite_master UNION ALL   SELECT * FROM sqlite_temp_master) WHERE name = ? AND type in ('table', 'view')\n",
      "2023-05-28 10:46:56,331 INFO sqlalchemy.engine.Engine [raw sql] ('nfl_stats',)\n",
      "2023-05-28 10:46:56,333 INFO sqlalchemy.engine.Engine ROLLBACK\n",
      "2023-05-28 10:46:56,335 INFO sqlalchemy.engine.Engine BEGIN (implicit)\n",
      "2023-05-28 10:46:56,335 INFO sqlalchemy.engine.Engine \n",
      "DROP TABLE nfl_stats\n",
      "2023-05-28 10:46:56,336 INFO sqlalchemy.engine.Engine [no key 0.00030s] ()\n",
      "2023-05-28 10:46:56,749 INFO sqlalchemy.engine.Engine COMMIT\n",
      "2023-05-28 10:46:56,750 INFO sqlalchemy.engine.Engine BEGIN (implicit)\n",
      "2023-05-28 10:46:56,751 INFO sqlalchemy.engine.Engine \n",
      "CREATE TABLE nfl_stats (\n",
      "\t\"PlayerName\" TEXT, \n",
      "\t\"PassYds\" FLOAT, \n",
      "\t\"YdsAtt\" BIGINT, \n",
      "\t\"Att\" BIGINT, \n",
      "\t\"Cmp\" FLOAT, \n",
      "\t\"TD\" BIGINT, \n",
      "\t\"INT1\" FLOAT, \n",
      "\t\"Rate\" BIGINT, \n",
      "\t\"1st\" FLOAT, \n",
      "\t\"1st.1\" BIGINT, \n",
      "\t\"20\" BIGINT, \n",
      "\t\"40\" BIGINT, \n",
      "\t\"Lng\" BIGINT, \n",
      "\t\"Sck\" BIGINT, \n",
      "\t\"SckY\" BIGINT\n",
      ")\n",
      "\n",
      "\n",
      "2023-05-28 10:46:56,751 INFO sqlalchemy.engine.Engine [no key 0.00030s] ()\n",
      "2023-05-28 10:46:56,961 INFO sqlalchemy.engine.Engine COMMIT\n",
      "2023-05-28 10:46:56,962 INFO sqlalchemy.engine.Engine BEGIN (implicit)\n",
      "2023-05-28 10:46:56,965 INFO sqlalchemy.engine.Engine INSERT INTO nfl_stats (\"PlayerName\", \"PassYds\", \"YdsAtt\", \"Att\", \"Cmp\", \"TD\", \"INT1\", \"Rate\", \"1st\", \"1st.1\", \"20\", \"40\", \"Lng\", \"Sck\", \"SckY\") VALUES (?, ?, ?, ?, ?, ?, ?, ?, ?, ?, ?, ?, ?, ?, ?)\n",
      "2023-05-28 10:46:56,965 INFO sqlalchemy.engine.Engine [generated in 0.00090s] [(' Patrick Mahomes ', 8.1, 648, 435, 67.1, 12, 105.2, 272, 42.0, 73, 13, 67, 26, 188, 0), (' Justin Herbert ', 6.8, 699, 477, 68.2, 10, 93.2, 228, 32.6, 50, 7, 55, 38, 206, 0), (' Tom Brady ', 6.4, 733, 490, 66.8, 9, 90.7, 237, 32.3, 50, 8, 63, 22, 160, 0), (' Kirk Cousins ', 7.1, 643, 424, 65.9, 14, 92.5, 230, 35.8, 47, 10, 66, 46, 329, 0), (' Joe Burrow ', 7.4, 606, 414, 68.3, 12, 100.8, 219, 36.1, 53, 10, 60, 41, 259, 0), (' Jared Goff ', 7.6, 587, 382, 65.1, 7, 99.3, 227, 38.7, 57, 12, 81, 23, 156, 0), (' Josh Allen ', 7.6, 567, 359, 63.3, 14, 96.6, 212, 37.4, 51, 12, 98, 33, 162, 0), (' Geno Smith ', 7.5, 572, 399, 69.8, 11, 100.9, 206, 36.0, 50, 6, 54, 46, 348, 0)  ... displaying 10 of 114 total bound parameter sets ...  (' Ced Wilson ', 0.0, 0, 0, 0.0, 0, 0.0, 0, 0.0, 0, 0, 0, 1, 6, 0), (' Garrett Wilson ', 0.0, 1, 0, 0.0, 0, 39.6, 0, 0.0, 0, 0, 0, 0, 0, 0)]\n",
      "2023-05-28 10:46:56,966 INFO sqlalchemy.engine.Engine COMMIT\n"
     ]
    },
    {
     "data": {
      "text/plain": [
       "114"
      ]
     },
     "execution_count": 4,
     "metadata": {},
     "output_type": "execute_result"
    }
   ],
   "source": [
    "df.to_sql('nfl_stats', con=engine, if_exists='replace', index=False)"
   ]
  },
  {
   "cell_type": "code",
   "execution_count": 5,
   "metadata": {},
   "outputs": [
    {
     "name": "stdout",
     "output_type": "stream",
     "text": [
      "2023-05-28 10:47:01,803 INFO sqlalchemy.engine.Engine BEGIN (implicit)\n",
      "2023-05-28 10:47:01,803 INFO sqlalchemy.engine.Engine SELECT * FROM nfl_stats\n",
      "2023-05-28 10:47:01,804 INFO sqlalchemy.engine.Engine [generated in 0.00087s] ()\n"
     ]
    }
   ],
   "source": [
    "query = db.text('SELECT * FROM nfl_stats')\n",
    "result = conn.execute(query)\n",
    "data = result.fetchall()"
   ]
  },
  {
   "cell_type": "code",
   "execution_count": 6,
   "metadata": {},
   "outputs": [],
   "source": [
    "columns = ['PlayerName', 'PassYds', 'YdsAtt', 'Att', 'Cmp', 'TD', 'INT1', 'Rate', '1st', '1st', '20', '40', 'Lng', 'Sck', 'SckY']\n",
    "df = pd.DataFrame(data, columns=columns)"
   ]
  },
  {
   "cell_type": "code",
   "execution_count": 7,
   "metadata": {},
   "outputs": [
    {
     "name": "stdout",
     "output_type": "stream",
     "text": [
      "            PlayerName  PassYds  YdsAtt  Att   Cmp  TD   INT1  Rate   1st  \\\n",
      "0     Patrick Mahomes       8.1     648  435  67.1  12  105.2   272  42.0   \n",
      "1      Justin Herbert       6.8     699  477  68.2  10   93.2   228  32.6   \n",
      "2           Tom Brady       6.4     733  490  66.8   9   90.7   237  32.3   \n",
      "3        Kirk Cousins       7.1     643  424  65.9  14   92.5   230  35.8   \n",
      "4          Joe Burrow       7.4     606  414  68.3  12  100.8   219  36.1   \n",
      "..                 ...      ...     ...  ...   ...  ..    ...   ...   ...   \n",
      "109      James Proche       0.0       1    0   0.0   1    0.0     0   0.0   \n",
      "110      Nate Sudfeld       0.0       0    0   0.0   0    0.0     0   0.0   \n",
      "111    Tommy Townsend       0.0       1    0   0.0   0   39.6     0   0.0   \n",
      "112        Ced Wilson       0.0       0    0   0.0   0    0.0     0   0.0   \n",
      "113    Garrett Wilson       0.0       1    0   0.0   0   39.6     0   0.0   \n",
      "\n",
      "     1st  20  40  Lng  Sck  SckY  \n",
      "0     73  13  67   26  188     0  \n",
      "1     50   7  55   38  206     0  \n",
      "2     50   8  63   22  160     0  \n",
      "3     47  10  66   46  329     0  \n",
      "4     53  10  60   41  259     0  \n",
      "..   ...  ..  ..  ...  ...   ...  \n",
      "109    0   0   0    0    0     0  \n",
      "110    0   0   0    1    7     0  \n",
      "111    0   0   0    0    0     0  \n",
      "112    0   0   0    1    6     0  \n",
      "113    0   0   0    0    0     0  \n",
      "\n",
      "[114 rows x 15 columns]\n"
     ]
    }
   ],
   "source": [
    "print(df)\n"
   ]
  }
 ],
 "metadata": {
  "kernelspec": {
   "display_name": "Python 3",
   "language": "python",
   "name": "python3"
  },
  "language_info": {
   "codemirror_mode": {
    "name": "ipython",
    "version": 3
   },
   "file_extension": ".py",
   "mimetype": "text/x-python",
   "name": "python",
   "nbconvert_exporter": "python",
   "pygments_lexer": "ipython3",
   "version": "3.11.2"
  },
  "orig_nbformat": 4
 },
 "nbformat": 4,
 "nbformat_minor": 2
}
