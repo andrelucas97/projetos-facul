{
  "nbformat": 4,
  "nbformat_minor": 0,
  "metadata": {
    "colab": {
      "provenance": []
    },
    "kernelspec": {
      "name": "python3",
      "display_name": "Python 3"
    },
    "language_info": {
      "name": "python"
    }
  },
  "cells": [
    {
      "cell_type": "markdown",
      "source": [
        "# André Lucas Fabbris de Toledo - RA: 1902777\n",
        "# Lucas de Alencar Silva - RA: 1902989"
      ],
      "metadata": {
        "id": "wmfWb53TcbJG"
      }
    },
    {
      "cell_type": "code",
      "execution_count": null,
      "metadata": {
        "colab": {
          "base_uri": "https://localhost:8080/"
        },
        "id": "iRVk9wC-oveA",
        "outputId": "c7b27644-cc9d-4348-a5eb-f024611c03f4"
      },
      "outputs": [
        {
          "output_type": "stream",
          "name": "stdout",
          "text": [
            "Looking in indexes: https://pypi.org/simple, https://us-python.pkg.dev/colab-wheels/public/simple/\n",
            "Requirement already satisfied: pyspark in /usr/local/lib/python3.9/dist-packages (3.3.2)\n",
            "Requirement already satisfied: py4j==0.10.9.5 in /usr/local/lib/python3.9/dist-packages (from pyspark) (0.10.9.5)\n"
          ]
        }
      ],
      "source": [
        "!pip install pyspark"
      ]
    },
    {
      "cell_type": "code",
      "source": [
        "from google.colab import drive\n",
        "drive.mount('/content/drive')"
      ],
      "metadata": {
        "colab": {
          "base_uri": "https://localhost:8080/"
        },
        "id": "tMRcrZOMo3iL",
        "outputId": "15e3937c-8233-4d76-c6d5-d033c1091908"
      },
      "execution_count": null,
      "outputs": [
        {
          "output_type": "stream",
          "name": "stdout",
          "text": [
            "Drive already mounted at /content/drive; to attempt to forcibly remount, call drive.mount(\"/content/drive\", force_remount=True).\n"
          ]
        }
      ]
    },
    {
      "cell_type": "code",
      "source": [
        "from pyspark.sql import Row\n",
        "from pyspark.ml.linalg import Vector\n",
        "from pyspark.ml.feature import VectorAssembler \n",
        "from pyspark.ml.regression import LinearRegression"
      ],
      "metadata": {
        "id": "bjWe9vSTo7KP"
      },
      "execution_count": null,
      "outputs": []
    },
    {
      "cell_type": "code",
      "source": [
        "from pyspark.sql import SparkSession\n",
        "\n",
        "spark = SparkSession.builder.getOrCreate()"
      ],
      "metadata": {
        "id": "TF0ZmAV4o8lR"
      },
      "execution_count": null,
      "outputs": []
    },
    {
      "cell_type": "code",
      "source": [
        "spark = SparkSession.builder\\\n",
        ".master(\"local\")\\\n",
        ".appName(\"Colab\")\\\n",
        ".config('spark.ui.port', '4050')\\\n",
        ".getOrCreate()"
      ],
      "metadata": {
        "id": "78Nz7BY6o9oO"
      },
      "execution_count": null,
      "outputs": []
    },
    {
      "cell_type": "code",
      "source": [
        "from pyspark.ml.feature import StringIndexer\n",
        "import pyspark.sql.functions as F"
      ],
      "metadata": {
        "id": "OBWhvBGpo-tL"
      },
      "execution_count": null,
      "outputs": []
    },
    {
      "cell_type": "code",
      "source": [
        "df = spark.read.csv('/content/drive/MyDrive/predictive_maintenance.csv', inferSchema=True, header=True)"
      ],
      "metadata": {
        "id": "0dqyJS1Lo_v5"
      },
      "execution_count": null,
      "outputs": []
    },
    {
      "cell_type": "code",
      "source": [
        "df.show(10)"
      ],
      "metadata": {
        "colab": {
          "base_uri": "https://localhost:8080/"
        },
        "id": "npbSDW9rpBAx",
        "outputId": "70d9332c-88a6-4c53-be32-99233e1469ba"
      },
      "execution_count": null,
      "outputs": [
        {
          "output_type": "stream",
          "name": "stdout",
          "text": [
            "+---+----------+----+-------------------+-----------------------+----------------------+-----------+---------------+------+------------+\n",
            "|UDI|Product ID|Type|Air temperature [K]|Process temperature [K]|Rotational speed [rpm]|Torque [Nm]|Tool wear [min]|Target|Failure Type|\n",
            "+---+----------+----+-------------------+-----------------------+----------------------+-----------+---------------+------+------------+\n",
            "|  1|    M14860|   M|              298.1|                  308.6|                  1551|       42.8|              0|     0|  No Failure|\n",
            "|  2|    L47181|   L|              298.2|                  308.7|                  1408|       46.3|              3|     0|  No Failure|\n",
            "|  3|    L47182|   L|              298.1|                  308.5|                  1498|       49.4|              5|     0|  No Failure|\n",
            "|  4|    L47183|   L|              298.2|                  308.6|                  1433|       39.5|              7|     0|  No Failure|\n",
            "|  5|    L47184|   L|              298.2|                  308.7|                  1408|       40.0|              9|     0|  No Failure|\n",
            "|  6|    M14865|   M|              298.1|                  308.6|                  1425|       41.9|             11|     0|  No Failure|\n",
            "|  7|    L47186|   L|              298.1|                  308.6|                  1558|       42.4|             14|     0|  No Failure|\n",
            "|  8|    L47187|   L|              298.1|                  308.6|                  1527|       40.2|             16|     0|  No Failure|\n",
            "|  9|    M14868|   M|              298.3|                  308.7|                  1667|       28.6|             18|     0|  No Failure|\n",
            "| 10|    M14869|   M|              298.5|                  309.0|                  1741|       28.0|             21|     0|  No Failure|\n",
            "+---+----------+----+-------------------+-----------------------+----------------------+-----------+---------------+------+------------+\n",
            "only showing top 10 rows\n",
            "\n"
          ]
        }
      ]
    },
    {
      "cell_type": "markdown",
      "source": [
        "1. Altere as variáveis de entrada inserindo Air temperature [K] e Tool wear [min] e mostre o erro R2 tendo como saída a variável temperatura do processo."
      ],
      "metadata": {
        "id": "Mn4cM76dpBds"
      }
    },
    {
      "cell_type": "code",
      "source": [
        "indexer = StringIndexer(inputCol = \"Failure Type\", outputCol = 'Failure Type_cat')\n",
        "indexed = indexer.fit(df).transform(df)"
      ],
      "metadata": {
        "id": "NEnvwhn_pEuy"
      },
      "execution_count": null,
      "outputs": []
    },
    {
      "cell_type": "code",
      "source": [
        "vectorAssembler1 = VectorAssembler(inputCols=[\"Air temperature [K]\", \"Tool wear [min]\"], outputCol=\"features\")"
      ],
      "metadata": {
        "id": "-Fx6g8qupbVo"
      },
      "execution_count": null,
      "outputs": []
    },
    {
      "cell_type": "code",
      "source": [
        "df_transformed1 = vectorAssembler1.transform(indexed)"
      ],
      "metadata": {
        "id": "5VLFkqmapGjR"
      },
      "execution_count": null,
      "outputs": []
    },
    {
      "cell_type": "code",
      "source": [
        "df_transformed1.select('features', 'Tool wear [min]', 'Tool wear [min]').show()"
      ],
      "metadata": {
        "colab": {
          "base_uri": "https://localhost:8080/"
        },
        "id": "kLQot9NPpjcB",
        "outputId": "a3619960-4e47-457e-f282-1fb56545e148"
      },
      "execution_count": null,
      "outputs": [
        {
          "output_type": "stream",
          "name": "stdout",
          "text": [
            "+------------+---------------+---------------+\n",
            "|    features|Tool wear [min]|Tool wear [min]|\n",
            "+------------+---------------+---------------+\n",
            "| [298.1,0.0]|              0|              0|\n",
            "| [298.2,3.0]|              3|              3|\n",
            "| [298.1,5.0]|              5|              5|\n",
            "| [298.2,7.0]|              7|              7|\n",
            "| [298.2,9.0]|              9|              9|\n",
            "|[298.1,11.0]|             11|             11|\n",
            "|[298.1,14.0]|             14|             14|\n",
            "|[298.1,16.0]|             16|             16|\n",
            "|[298.3,18.0]|             18|             18|\n",
            "|[298.5,21.0]|             21|             21|\n",
            "|[298.4,24.0]|             24|             24|\n",
            "|[298.6,29.0]|             29|             29|\n",
            "|[298.6,34.0]|             34|             34|\n",
            "|[298.6,37.0]|             37|             37|\n",
            "|[298.6,40.0]|             40|             40|\n",
            "|[298.6,42.0]|             42|             42|\n",
            "|[298.6,44.0]|             44|             44|\n",
            "|[298.7,47.0]|             47|             47|\n",
            "|[298.8,50.0]|             50|             50|\n",
            "|[298.9,55.0]|             55|             55|\n",
            "+------------+---------------+---------------+\n",
            "only showing top 20 rows\n",
            "\n"
          ]
        }
      ]
    },
    {
      "cell_type": "code",
      "source": [
        "treino, test = df_transformed1.randomSplit([0.7, 0.3])"
      ],
      "metadata": {
        "id": "iMzG5z6tp8ty"
      },
      "execution_count": null,
      "outputs": []
    },
    {
      "cell_type": "code",
      "source": [
        "lr1 = LinearRegression(featuresCol='features', labelCol = 'Process temperature [K]')"
      ],
      "metadata": {
        "id": "mxFLd24Vp-u4"
      },
      "execution_count": null,
      "outputs": []
    },
    {
      "cell_type": "code",
      "source": [
        "treino_modelo1 = lr1.fit(treino)"
      ],
      "metadata": {
        "id": "TDjKDy20qBBm"
      },
      "execution_count": null,
      "outputs": []
    },
    {
      "cell_type": "code",
      "source": [
        "resultado1 = treino_modelo1.evaluate(treino)\n",
        "resultadoTest1 = treino_modelo1.evaluate(test)"
      ],
      "metadata": {
        "id": "O4RBEgtYqCoc"
      },
      "execution_count": null,
      "outputs": []
    },
    {
      "cell_type": "code",
      "source": [
        "print('Erro R2:', resultado1.r2)\n",
        "print('Erro R2:', resultadoTest1.r2)"
      ],
      "metadata": {
        "colab": {
          "base_uri": "https://localhost:8080/"
        },
        "id": "Dp3w-ML8qEUw",
        "outputId": "82656354-c775-49b5-d13e-3e76d39d0ce7"
      },
      "execution_count": null,
      "outputs": [
        {
          "output_type": "stream",
          "name": "stdout",
          "text": [
            "Erro R2: 0.7658616502810621\n",
            "Erro R2: 0.7714724772218031\n"
          ]
        }
      ]
    },
    {
      "cell_type": "markdown",
      "source": [
        "2. Altere as variáveis de entrada inserindo Air temperature [K], Tool wear [min] e torque e mostre o erro R2 tendo como saída a variável temperatura do processo."
      ],
      "metadata": {
        "id": "W8YCwHSMpqxz"
      }
    },
    {
      "cell_type": "code",
      "source": [
        "vectorAssembler2 = VectorAssembler(inputCols=[\"Air temperature [K]\", \"Tool wear [min]\", \"Torque [Nm]\"], outputCol=\"features\")"
      ],
      "metadata": {
        "id": "EIMwy8RUptmA"
      },
      "execution_count": null,
      "outputs": []
    },
    {
      "cell_type": "code",
      "source": [
        "df_transformed2 = vectorAssembler2.transform(indexed)"
      ],
      "metadata": {
        "id": "5HlqlVdrp0xO"
      },
      "execution_count": null,
      "outputs": []
    },
    {
      "cell_type": "code",
      "source": [
        "df_transformed2.select('features', 'Tool wear [min]', 'Tool wear [min]', 'Torque [Nm]').show()"
      ],
      "metadata": {
        "colab": {
          "base_uri": "https://localhost:8080/"
        },
        "id": "iIjShl9ep2mm",
        "outputId": "0e7418c4-42c4-467d-b427-77c77d00f299"
      },
      "execution_count": null,
      "outputs": [
        {
          "output_type": "stream",
          "name": "stdout",
          "text": [
            "+-----------------+---------------+---------------+-----------+\n",
            "|         features|Tool wear [min]|Tool wear [min]|Torque [Nm]|\n",
            "+-----------------+---------------+---------------+-----------+\n",
            "| [298.1,0.0,42.8]|              0|              0|       42.8|\n",
            "| [298.2,3.0,46.3]|              3|              3|       46.3|\n",
            "| [298.1,5.0,49.4]|              5|              5|       49.4|\n",
            "| [298.2,7.0,39.5]|              7|              7|       39.5|\n",
            "| [298.2,9.0,40.0]|              9|              9|       40.0|\n",
            "|[298.1,11.0,41.9]|             11|             11|       41.9|\n",
            "|[298.1,14.0,42.4]|             14|             14|       42.4|\n",
            "|[298.1,16.0,40.2]|             16|             16|       40.2|\n",
            "|[298.3,18.0,28.6]|             18|             18|       28.6|\n",
            "|[298.5,21.0,28.0]|             21|             21|       28.0|\n",
            "|[298.4,24.0,23.9]|             24|             24|       23.9|\n",
            "|[298.6,29.0,44.3]|             29|             29|       44.3|\n",
            "|[298.6,34.0,51.1]|             34|             34|       51.1|\n",
            "|[298.6,37.0,30.0]|             37|             37|       30.0|\n",
            "|[298.6,40.0,19.6]|             40|             40|       19.6|\n",
            "|[298.6,42.0,48.4]|             42|             42|       48.4|\n",
            "|[298.6,44.0,46.6]|             44|             44|       46.6|\n",
            "|[298.7,47.0,45.6]|             47|             47|       45.6|\n",
            "|[298.8,50.0,54.5]|             50|             50|       54.5|\n",
            "|[298.9,55.0,32.5]|             55|             55|       32.5|\n",
            "+-----------------+---------------+---------------+-----------+\n",
            "only showing top 20 rows\n",
            "\n"
          ]
        }
      ]
    },
    {
      "cell_type": "code",
      "source": [
        "treino, test = df_transformed2.randomSplit([0.7, 0.3])"
      ],
      "metadata": {
        "id": "s8zZ8j9KgvQa"
      },
      "execution_count": null,
      "outputs": []
    },
    {
      "cell_type": "code",
      "source": [
        "lr2 = LinearRegression(featuresCol='features', labelCol = 'Process temperature [K]')"
      ],
      "metadata": {
        "id": "ib8nTcQzqJ74"
      },
      "execution_count": null,
      "outputs": []
    },
    {
      "cell_type": "code",
      "source": [
        "treino_modelo2 = lr2.fit(treino)"
      ],
      "metadata": {
        "id": "eid_5qi0qrdw"
      },
      "execution_count": null,
      "outputs": []
    },
    {
      "cell_type": "code",
      "source": [
        "resultado2 = treino_modelo2.evaluate(treino)\n",
        "resultadoTest2 = treino_modelo2.evaluate(test)"
      ],
      "metadata": {
        "id": "Q3oXVMhmqssI"
      },
      "execution_count": null,
      "outputs": []
    },
    {
      "cell_type": "code",
      "source": [
        "print('Erro R2:', resultado2.r2)\n",
        "print('Erro R2:', resultadoTest2.r2)"
      ],
      "metadata": {
        "colab": {
          "base_uri": "https://localhost:8080/"
        },
        "id": "r0KoKdIOqzqs",
        "outputId": "92875315-777b-4071-8e27-eb73ffd4d20e"
      },
      "execution_count": null,
      "outputs": [
        {
          "output_type": "stream",
          "name": "stdout",
          "text": [
            "Erro R2: 0.7673043857746062\n",
            "Erro R2: 0.7676595600965126\n"
          ]
        }
      ]
    },
    {
      "cell_type": "markdown",
      "source": [
        "3. Altere as variáveis de entrada inserindo Air temperature [K], Tool wear [min], velocidade de rotação e torque e mostre o erro R2 tendo como saída a variável temperatura do processo."
      ],
      "metadata": {
        "id": "umRLF0x4q4CR"
      }
    },
    {
      "cell_type": "code",
      "source": [
        "vectorAssembler3 = VectorAssembler(inputCols=[\"Air temperature [K]\", \"Tool wear [min]\", \"Rotational speed [rpm]\", \"Torque [Nm]\"], outputCol=\"features\")"
      ],
      "metadata": {
        "id": "TxabApLTq8Eg"
      },
      "execution_count": null,
      "outputs": []
    },
    {
      "cell_type": "code",
      "source": [
        "df_transformed3 = vectorAssembler3.transform(indexed)"
      ],
      "metadata": {
        "id": "23s4SbQ0rFm0"
      },
      "execution_count": null,
      "outputs": []
    },
    {
      "cell_type": "code",
      "source": [
        "df_transformed3.select('features', 'Tool wear [min]', 'Tool wear [min]', 'Rotational speed [rpm]', 'Torque [Nm]').show()"
      ],
      "metadata": {
        "colab": {
          "base_uri": "https://localhost:8080/"
        },
        "id": "rpdyJCnmrHlP",
        "outputId": "c1509dc5-66ca-4138-9fba-de7eedfbbfa1"
      },
      "execution_count": null,
      "outputs": [
        {
          "output_type": "stream",
          "name": "stdout",
          "text": [
            "+--------------------+---------------+---------------+----------------------+-----------+\n",
            "|            features|Tool wear [min]|Tool wear [min]|Rotational speed [rpm]|Torque [Nm]|\n",
            "+--------------------+---------------+---------------+----------------------+-----------+\n",
            "|[298.1,0.0,1551.0...|              0|              0|                  1551|       42.8|\n",
            "|[298.2,3.0,1408.0...|              3|              3|                  1408|       46.3|\n",
            "|[298.1,5.0,1498.0...|              5|              5|                  1498|       49.4|\n",
            "|[298.2,7.0,1433.0...|              7|              7|                  1433|       39.5|\n",
            "|[298.2,9.0,1408.0...|              9|              9|                  1408|       40.0|\n",
            "|[298.1,11.0,1425....|             11|             11|                  1425|       41.9|\n",
            "|[298.1,14.0,1558....|             14|             14|                  1558|       42.4|\n",
            "|[298.1,16.0,1527....|             16|             16|                  1527|       40.2|\n",
            "|[298.3,18.0,1667....|             18|             18|                  1667|       28.6|\n",
            "|[298.5,21.0,1741....|             21|             21|                  1741|       28.0|\n",
            "|[298.4,24.0,1782....|             24|             24|                  1782|       23.9|\n",
            "|[298.6,29.0,1423....|             29|             29|                  1423|       44.3|\n",
            "|[298.6,34.0,1339....|             34|             34|                  1339|       51.1|\n",
            "|[298.6,37.0,1742....|             37|             37|                  1742|       30.0|\n",
            "|[298.6,40.0,2035....|             40|             40|                  2035|       19.6|\n",
            "|[298.6,42.0,1542....|             42|             42|                  1542|       48.4|\n",
            "|[298.6,44.0,1311....|             44|             44|                  1311|       46.6|\n",
            "|[298.7,47.0,1410....|             47|             47|                  1410|       45.6|\n",
            "|[298.8,50.0,1306....|             50|             50|                  1306|       54.5|\n",
            "|[298.9,55.0,1632....|             55|             55|                  1632|       32.5|\n",
            "+--------------------+---------------+---------------+----------------------+-----------+\n",
            "only showing top 20 rows\n",
            "\n"
          ]
        }
      ]
    },
    {
      "cell_type": "code",
      "source": [
        "treino, test = df_transformed3.randomSplit([0.7, 0.3])"
      ],
      "metadata": {
        "id": "EyI20KIag6aS"
      },
      "execution_count": null,
      "outputs": []
    },
    {
      "cell_type": "code",
      "source": [
        "lr3 = LinearRegression(featuresCol='features', labelCol = 'Process temperature [K]')"
      ],
      "metadata": {
        "id": "P9EqsoIWrNZv"
      },
      "execution_count": null,
      "outputs": []
    },
    {
      "cell_type": "code",
      "source": [
        "treino_modelo3 = lr3.fit(treino)"
      ],
      "metadata": {
        "id": "BMkoZuD4rQ6c"
      },
      "execution_count": null,
      "outputs": []
    },
    {
      "cell_type": "code",
      "source": [
        "resultado3 = treino_modelo3.evaluate(treino)\n",
        "resultadoTest3 = treino_modelo3.evaluate(test)"
      ],
      "metadata": {
        "id": "NxqOoGjGrTQE"
      },
      "execution_count": null,
      "outputs": []
    },
    {
      "cell_type": "code",
      "source": [
        "print('Erro R2:', resultado3.r2)\n",
        "print('Erro R2:', resultadoTest3.r2)"
      ],
      "metadata": {
        "colab": {
          "base_uri": "https://localhost:8080/"
        },
        "id": "0Zvqo1BMrWRy",
        "outputId": "19c491d5-829c-4a35-cd69-a34d01bfc947"
      },
      "execution_count": null,
      "outputs": [
        {
          "output_type": "stream",
          "name": "stdout",
          "text": [
            "Erro R2: 0.7710328869841531\n",
            "Erro R2: 0.7589450338607086\n"
          ]
        }
      ]
    },
    {
      "cell_type": "markdown",
      "source": [
        "4. Alterando a variável de saída para desgaste da ferramenta e inserindo as variáveis de entrada Air temperature [K], Tool wear [min], velocidade de rotação e torque e alvo , é possível obter um r2 maior que 60% para os dados de treino e teste? Faça o experimento e análise."
      ],
      "metadata": {
        "id": "-TEz7VlHrv69"
      }
    },
    {
      "cell_type": "code",
      "source": [
        "vectorAssembler4 = VectorAssembler(inputCols=[\"Air temperature [K]\", \"Tool wear [min]\", \"Rotational speed [rpm]\", \"Torque [Nm]\", \"Target\"], outputCol=\"features\")"
      ],
      "metadata": {
        "id": "0hGuAoherw8X"
      },
      "execution_count": null,
      "outputs": []
    },
    {
      "cell_type": "code",
      "source": [
        "df_transformed4 = vectorAssembler4.transform(indexed)"
      ],
      "metadata": {
        "id": "qouKs6ilhsh7"
      },
      "execution_count": null,
      "outputs": []
    },
    {
      "cell_type": "code",
      "source": [
        "treino, test = df_transformed4.randomSplit([0.7, 0.3])"
      ],
      "metadata": {
        "id": "KTbcewJqh28d"
      },
      "execution_count": null,
      "outputs": []
    },
    {
      "cell_type": "code",
      "source": [
        "lr4 = LinearRegression(featuresCol='features', labelCol = 'Tool wear [min]')"
      ],
      "metadata": {
        "id": "8tabgyzAh626"
      },
      "execution_count": null,
      "outputs": []
    },
    {
      "cell_type": "code",
      "source": [
        "treino_modelo4 = lr4.fit(treino)"
      ],
      "metadata": {
        "id": "Si90mGgSiBNT"
      },
      "execution_count": null,
      "outputs": []
    },
    {
      "cell_type": "code",
      "source": [
        "resultado4 = treino_modelo4.evaluate(treino)\n",
        "resultadoTest4 = treino_modelo4.evaluate(test)"
      ],
      "metadata": {
        "id": "jCTA6GiCiC_l"
      },
      "execution_count": null,
      "outputs": []
    },
    {
      "cell_type": "code",
      "source": [
        "print('Erro R2:', resultado4.r2)\n",
        "print('Erro R2:', resultadoTest4.r2)"
      ],
      "metadata": {
        "colab": {
          "base_uri": "https://localhost:8080/"
        },
        "id": "EDqNLRqmiGoP",
        "outputId": "3c8f6609-d2ec-41d4-ab83-9c08ea55e415"
      },
      "execution_count": null,
      "outputs": [
        {
          "output_type": "stream",
          "name": "stdout",
          "text": [
            "Erro R2: 1.0\n",
            "Erro R2: 1.0\n"
          ]
        }
      ]
    },
    {
      "cell_type": "markdown",
      "source": [
        "Resposta: É possivel sim ter um entendimento maior que 60%, visto que o R2 teve um retorno de 100%."
      ],
      "metadata": {
        "id": "SxM-RQ5riKPa"
      }
    }
  ]
}